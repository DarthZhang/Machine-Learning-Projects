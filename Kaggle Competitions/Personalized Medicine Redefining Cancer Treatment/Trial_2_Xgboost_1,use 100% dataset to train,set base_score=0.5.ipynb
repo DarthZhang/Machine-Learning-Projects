{
 "cells": [
  {
   "cell_type": "code",
   "execution_count": 53,
   "metadata": {
    "collapsed": true
   },
   "outputs": [],
   "source": [
    "import numpy as np # linear algebra\n",
    "import pandas as pd # data processing, CSV file I/O (e.g. pd.read_csv)"
   ]
  },
  {
   "cell_type": "code",
   "execution_count": 54,
   "metadata": {
    "collapsed": true
   },
   "outputs": [],
   "source": [
    "# Input data files are available in the \"../input/\" directory.\n",
    "# For example, running this (by clicking run or pressing Shift+Enter) will list the files in the input directory\n",
    "\n",
    "from subprocess import check_output"
   ]
  },
  {
   "cell_type": "code",
   "execution_count": 55,
   "metadata": {
    "collapsed": false
   },
   "outputs": [],
   "source": [
    "#Read Data\n",
    "train_variant = pd.read_csv(\"training_variants\")\n",
    "test_variant = pd.read_csv(\"test_variants\")\n",
    "train_text = pd.read_csv(\"training_text\", sep=\"\\|\\|\", engine='python', header=None, skiprows=1, names=[\"ID\",\"Text\"])\n",
    "test_text = pd.read_csv(\"test_text\", sep=\"\\|\\|\", engine='python', header=None, skiprows=1, names=[\"ID\",\"Text\"])"
   ]
  },
  {
   "cell_type": "code",
   "execution_count": 56,
   "metadata": {
    "collapsed": false
   },
   "outputs": [
    {
     "data": {
      "text/html": [
       "<div>\n",
       "<table border=\"1\" class=\"dataframe\">\n",
       "  <thead>\n",
       "    <tr style=\"text-align: right;\">\n",
       "      <th></th>\n",
       "      <th>ID</th>\n",
       "      <th>Gene</th>\n",
       "      <th>Variation</th>\n",
       "      <th>Class</th>\n",
       "    </tr>\n",
       "  </thead>\n",
       "  <tbody>\n",
       "    <tr>\n",
       "      <th>0</th>\n",
       "      <td>0</td>\n",
       "      <td>FAM58A</td>\n",
       "      <td>Truncating Mutations</td>\n",
       "      <td>1</td>\n",
       "    </tr>\n",
       "    <tr>\n",
       "      <th>1</th>\n",
       "      <td>1</td>\n",
       "      <td>CBL</td>\n",
       "      <td>W802*</td>\n",
       "      <td>2</td>\n",
       "    </tr>\n",
       "    <tr>\n",
       "      <th>2</th>\n",
       "      <td>2</td>\n",
       "      <td>CBL</td>\n",
       "      <td>Q249E</td>\n",
       "      <td>2</td>\n",
       "    </tr>\n",
       "    <tr>\n",
       "      <th>3</th>\n",
       "      <td>3</td>\n",
       "      <td>CBL</td>\n",
       "      <td>N454D</td>\n",
       "      <td>3</td>\n",
       "    </tr>\n",
       "    <tr>\n",
       "      <th>4</th>\n",
       "      <td>4</td>\n",
       "      <td>CBL</td>\n",
       "      <td>L399V</td>\n",
       "      <td>4</td>\n",
       "    </tr>\n",
       "  </tbody>\n",
       "</table>\n",
       "</div>"
      ],
      "text/plain": [
       "   ID    Gene             Variation  Class\n",
       "0   0  FAM58A  Truncating Mutations      1\n",
       "1   1     CBL                 W802*      2\n",
       "2   2     CBL                 Q249E      2\n",
       "3   3     CBL                 N454D      3\n",
       "4   4     CBL                 L399V      4"
      ]
     },
     "execution_count": 56,
     "metadata": {},
     "output_type": "execute_result"
    }
   ],
   "source": [
    "train_variant.head()"
   ]
  },
  {
   "cell_type": "code",
   "execution_count": 57,
   "metadata": {
    "collapsed": false
   },
   "outputs": [
    {
     "data": {
      "text/html": [
       "<div>\n",
       "<table border=\"1\" class=\"dataframe\">\n",
       "  <thead>\n",
       "    <tr style=\"text-align: right;\">\n",
       "      <th></th>\n",
       "      <th>ID</th>\n",
       "      <th>Gene</th>\n",
       "      <th>Variation</th>\n",
       "    </tr>\n",
       "  </thead>\n",
       "  <tbody>\n",
       "    <tr>\n",
       "      <th>0</th>\n",
       "      <td>0</td>\n",
       "      <td>ACSL4</td>\n",
       "      <td>R570S</td>\n",
       "    </tr>\n",
       "    <tr>\n",
       "      <th>1</th>\n",
       "      <td>1</td>\n",
       "      <td>NAGLU</td>\n",
       "      <td>P521L</td>\n",
       "    </tr>\n",
       "    <tr>\n",
       "      <th>2</th>\n",
       "      <td>2</td>\n",
       "      <td>PAH</td>\n",
       "      <td>L333F</td>\n",
       "    </tr>\n",
       "    <tr>\n",
       "      <th>3</th>\n",
       "      <td>3</td>\n",
       "      <td>ING1</td>\n",
       "      <td>A148D</td>\n",
       "    </tr>\n",
       "    <tr>\n",
       "      <th>4</th>\n",
       "      <td>4</td>\n",
       "      <td>TMEM216</td>\n",
       "      <td>G77A</td>\n",
       "    </tr>\n",
       "  </tbody>\n",
       "</table>\n",
       "</div>"
      ],
      "text/plain": [
       "   ID     Gene Variation\n",
       "0   0    ACSL4     R570S\n",
       "1   1    NAGLU     P521L\n",
       "2   2      PAH     L333F\n",
       "3   3     ING1     A148D\n",
       "4   4  TMEM216      G77A"
      ]
     },
     "execution_count": 57,
     "metadata": {},
     "output_type": "execute_result"
    }
   ],
   "source": [
    "test_variant.head()"
   ]
  },
  {
   "cell_type": "code",
   "execution_count": 58,
   "metadata": {
    "collapsed": false
   },
   "outputs": [
    {
     "data": {
      "text/html": [
       "<div>\n",
       "<table border=\"1\" class=\"dataframe\">\n",
       "  <thead>\n",
       "    <tr style=\"text-align: right;\">\n",
       "      <th></th>\n",
       "      <th>ID</th>\n",
       "      <th>Text</th>\n",
       "    </tr>\n",
       "  </thead>\n",
       "  <tbody>\n",
       "    <tr>\n",
       "      <th>0</th>\n",
       "      <td>0</td>\n",
       "      <td>Cyclin-dependent kinases (CDKs) regulate a var...</td>\n",
       "    </tr>\n",
       "    <tr>\n",
       "      <th>1</th>\n",
       "      <td>1</td>\n",
       "      <td>Abstract Background  Non-small cell lung canc...</td>\n",
       "    </tr>\n",
       "    <tr>\n",
       "      <th>2</th>\n",
       "      <td>2</td>\n",
       "      <td>Abstract Background  Non-small cell lung canc...</td>\n",
       "    </tr>\n",
       "    <tr>\n",
       "      <th>3</th>\n",
       "      <td>3</td>\n",
       "      <td>Recent evidence has demonstrated that acquired...</td>\n",
       "    </tr>\n",
       "    <tr>\n",
       "      <th>4</th>\n",
       "      <td>4</td>\n",
       "      <td>Oncogenic mutations in the monomeric Casitas B...</td>\n",
       "    </tr>\n",
       "  </tbody>\n",
       "</table>\n",
       "</div>"
      ],
      "text/plain": [
       "   ID                                               Text\n",
       "0   0  Cyclin-dependent kinases (CDKs) regulate a var...\n",
       "1   1   Abstract Background  Non-small cell lung canc...\n",
       "2   2   Abstract Background  Non-small cell lung canc...\n",
       "3   3  Recent evidence has demonstrated that acquired...\n",
       "4   4  Oncogenic mutations in the monomeric Casitas B..."
      ]
     },
     "execution_count": 58,
     "metadata": {},
     "output_type": "execute_result"
    }
   ],
   "source": [
    "train_text.head()"
   ]
  },
  {
   "cell_type": "code",
   "execution_count": 59,
   "metadata": {
    "collapsed": false
   },
   "outputs": [
    {
     "data": {
      "text/html": [
       "<div>\n",
       "<table border=\"1\" class=\"dataframe\">\n",
       "  <thead>\n",
       "    <tr style=\"text-align: right;\">\n",
       "      <th></th>\n",
       "      <th>ID</th>\n",
       "      <th>Text</th>\n",
       "    </tr>\n",
       "  </thead>\n",
       "  <tbody>\n",
       "    <tr>\n",
       "      <th>0</th>\n",
       "      <td>0</td>\n",
       "      <td>2. This mutation resulted in a myeloproliferat...</td>\n",
       "    </tr>\n",
       "    <tr>\n",
       "      <th>1</th>\n",
       "      <td>1</td>\n",
       "      <td>Abstract The Large Tumor Suppressor 1 (LATS1)...</td>\n",
       "    </tr>\n",
       "    <tr>\n",
       "      <th>2</th>\n",
       "      <td>2</td>\n",
       "      <td>Vascular endothelial growth factor receptor (V...</td>\n",
       "    </tr>\n",
       "    <tr>\n",
       "      <th>3</th>\n",
       "      <td>3</td>\n",
       "      <td>Inflammatory myofibroblastic tumor (IMT) is a ...</td>\n",
       "    </tr>\n",
       "    <tr>\n",
       "      <th>4</th>\n",
       "      <td>4</td>\n",
       "      <td>Abstract Retinoblastoma is a pediatric retina...</td>\n",
       "    </tr>\n",
       "  </tbody>\n",
       "</table>\n",
       "</div>"
      ],
      "text/plain": [
       "   ID                                               Text\n",
       "0   0  2. This mutation resulted in a myeloproliferat...\n",
       "1   1   Abstract The Large Tumor Suppressor 1 (LATS1)...\n",
       "2   2  Vascular endothelial growth factor receptor (V...\n",
       "3   3  Inflammatory myofibroblastic tumor (IMT) is a ...\n",
       "4   4   Abstract Retinoblastoma is a pediatric retina..."
      ]
     },
     "execution_count": 59,
     "metadata": {},
     "output_type": "execute_result"
    }
   ],
   "source": [
    "test_text.head()"
   ]
  },
  {
   "cell_type": "code",
   "execution_count": 60,
   "metadata": {
    "collapsed": true
   },
   "outputs": [],
   "source": [
    "#Train data number of observations in each class\n",
    "##Class1:568#Class2:452#Class3:89#Class4:686\n",
    "##Class6:275#Class7:953#Class8:19#Class9:37\n",
    "##Class5:242\n",
    "train = pd.merge(train_variant, train_text, how='left', on='ID')\n",
    "x_train = train.drop('Class', axis=1)"
   ]
  },
  {
   "cell_type": "code",
   "execution_count": 61,
   "metadata": {
    "collapsed": false
   },
   "outputs": [
    {
     "data": {
      "text/html": [
       "<div>\n",
       "<table border=\"1\" class=\"dataframe\">\n",
       "  <thead>\n",
       "    <tr style=\"text-align: right;\">\n",
       "      <th></th>\n",
       "      <th>ID</th>\n",
       "      <th>Gene</th>\n",
       "      <th>Variation</th>\n",
       "      <th>Text</th>\n",
       "    </tr>\n",
       "  </thead>\n",
       "  <tbody>\n",
       "    <tr>\n",
       "      <th>0</th>\n",
       "      <td>0</td>\n",
       "      <td>FAM58A</td>\n",
       "      <td>Truncating Mutations</td>\n",
       "      <td>Cyclin-dependent kinases (CDKs) regulate a var...</td>\n",
       "    </tr>\n",
       "    <tr>\n",
       "      <th>1</th>\n",
       "      <td>1</td>\n",
       "      <td>CBL</td>\n",
       "      <td>W802*</td>\n",
       "      <td>Abstract Background  Non-small cell lung canc...</td>\n",
       "    </tr>\n",
       "    <tr>\n",
       "      <th>2</th>\n",
       "      <td>2</td>\n",
       "      <td>CBL</td>\n",
       "      <td>Q249E</td>\n",
       "      <td>Abstract Background  Non-small cell lung canc...</td>\n",
       "    </tr>\n",
       "    <tr>\n",
       "      <th>3</th>\n",
       "      <td>3</td>\n",
       "      <td>CBL</td>\n",
       "      <td>N454D</td>\n",
       "      <td>Recent evidence has demonstrated that acquired...</td>\n",
       "    </tr>\n",
       "    <tr>\n",
       "      <th>4</th>\n",
       "      <td>4</td>\n",
       "      <td>CBL</td>\n",
       "      <td>L399V</td>\n",
       "      <td>Oncogenic mutations in the monomeric Casitas B...</td>\n",
       "    </tr>\n",
       "  </tbody>\n",
       "</table>\n",
       "</div>"
      ],
      "text/plain": [
       "   ID    Gene             Variation  \\\n",
       "0   0  FAM58A  Truncating Mutations   \n",
       "1   1     CBL                 W802*   \n",
       "2   2     CBL                 Q249E   \n",
       "3   3     CBL                 N454D   \n",
       "4   4     CBL                 L399V   \n",
       "\n",
       "                                                Text  \n",
       "0  Cyclin-dependent kinases (CDKs) regulate a var...  \n",
       "1   Abstract Background  Non-small cell lung canc...  \n",
       "2   Abstract Background  Non-small cell lung canc...  \n",
       "3  Recent evidence has demonstrated that acquired...  \n",
       "4  Oncogenic mutations in the monomeric Casitas B...  "
      ]
     },
     "execution_count": 61,
     "metadata": {},
     "output_type": "execute_result"
    }
   ],
   "source": [
    "x_train.head()"
   ]
  },
  {
   "cell_type": "code",
   "execution_count": 62,
   "metadata": {
    "collapsed": false
   },
   "outputs": [
    {
     "data": {
      "text/html": [
       "<div>\n",
       "<table border=\"1\" class=\"dataframe\">\n",
       "  <thead>\n",
       "    <tr style=\"text-align: right;\">\n",
       "      <th></th>\n",
       "      <th>ID</th>\n",
       "      <th>Gene</th>\n",
       "      <th>Variation</th>\n",
       "      <th>Text</th>\n",
       "    </tr>\n",
       "  </thead>\n",
       "  <tbody>\n",
       "    <tr>\n",
       "      <th>0</th>\n",
       "      <td>0</td>\n",
       "      <td>ACSL4</td>\n",
       "      <td>R570S</td>\n",
       "      <td>2. This mutation resulted in a myeloproliferat...</td>\n",
       "    </tr>\n",
       "    <tr>\n",
       "      <th>1</th>\n",
       "      <td>1</td>\n",
       "      <td>NAGLU</td>\n",
       "      <td>P521L</td>\n",
       "      <td>Abstract The Large Tumor Suppressor 1 (LATS1)...</td>\n",
       "    </tr>\n",
       "    <tr>\n",
       "      <th>2</th>\n",
       "      <td>2</td>\n",
       "      <td>PAH</td>\n",
       "      <td>L333F</td>\n",
       "      <td>Vascular endothelial growth factor receptor (V...</td>\n",
       "    </tr>\n",
       "    <tr>\n",
       "      <th>3</th>\n",
       "      <td>3</td>\n",
       "      <td>ING1</td>\n",
       "      <td>A148D</td>\n",
       "      <td>Inflammatory myofibroblastic tumor (IMT) is a ...</td>\n",
       "    </tr>\n",
       "    <tr>\n",
       "      <th>4</th>\n",
       "      <td>4</td>\n",
       "      <td>TMEM216</td>\n",
       "      <td>G77A</td>\n",
       "      <td>Abstract Retinoblastoma is a pediatric retina...</td>\n",
       "    </tr>\n",
       "  </tbody>\n",
       "</table>\n",
       "</div>"
      ],
      "text/plain": [
       "   ID     Gene Variation                                               Text\n",
       "0   0    ACSL4     R570S  2. This mutation resulted in a myeloproliferat...\n",
       "1   1    NAGLU     P521L   Abstract The Large Tumor Suppressor 1 (LATS1)...\n",
       "2   2      PAH     L333F  Vascular endothelial growth factor receptor (V...\n",
       "3   3     ING1     A148D  Inflammatory myofibroblastic tumor (IMT) is a ...\n",
       "4   4  TMEM216      G77A   Abstract Retinoblastoma is a pediatric retina..."
      ]
     },
     "execution_count": 62,
     "metadata": {},
     "output_type": "execute_result"
    }
   ],
   "source": [
    "x_test = pd.merge(test_variant, test_text, how='left', on='ID')\n",
    "test_index = x_test['ID'].values\n",
    "x_test.head()"
   ]
  },
  {
   "cell_type": "code",
   "execution_count": 63,
   "metadata": {
    "collapsed": false
   },
   "outputs": [
    {
     "data": {
      "text/html": [
       "<div>\n",
       "<table border=\"1\" class=\"dataframe\">\n",
       "  <thead>\n",
       "    <tr style=\"text-align: right;\">\n",
       "      <th></th>\n",
       "      <th>ID</th>\n",
       "      <th>Gene</th>\n",
       "      <th>Variation</th>\n",
       "      <th>Text</th>\n",
       "    </tr>\n",
       "  </thead>\n",
       "  <tbody>\n",
       "    <tr>\n",
       "      <th>0</th>\n",
       "      <td>0</td>\n",
       "      <td>FAM58A</td>\n",
       "      <td>Truncating Mutations</td>\n",
       "      <td>Cyclin-dependent kinases (CDKs) regulate a var...</td>\n",
       "    </tr>\n",
       "    <tr>\n",
       "      <th>1</th>\n",
       "      <td>1</td>\n",
       "      <td>CBL</td>\n",
       "      <td>W802*</td>\n",
       "      <td>Abstract Background  Non-small cell lung canc...</td>\n",
       "    </tr>\n",
       "    <tr>\n",
       "      <th>2</th>\n",
       "      <td>2</td>\n",
       "      <td>CBL</td>\n",
       "      <td>Q249E</td>\n",
       "      <td>Abstract Background  Non-small cell lung canc...</td>\n",
       "    </tr>\n",
       "    <tr>\n",
       "      <th>3</th>\n",
       "      <td>3</td>\n",
       "      <td>CBL</td>\n",
       "      <td>N454D</td>\n",
       "      <td>Recent evidence has demonstrated that acquired...</td>\n",
       "    </tr>\n",
       "    <tr>\n",
       "      <th>4</th>\n",
       "      <td>4</td>\n",
       "      <td>CBL</td>\n",
       "      <td>L399V</td>\n",
       "      <td>Oncogenic mutations in the monomeric Casitas B...</td>\n",
       "    </tr>\n",
       "  </tbody>\n",
       "</table>\n",
       "</div>"
      ],
      "text/plain": [
       "  ID    Gene             Variation  \\\n",
       "0  0  FAM58A  Truncating Mutations   \n",
       "1  1     CBL                 W802*   \n",
       "2  2     CBL                 Q249E   \n",
       "3  3     CBL                 N454D   \n",
       "4  4     CBL                 L399V   \n",
       "\n",
       "                                                Text  \n",
       "0  Cyclin-dependent kinases (CDKs) regulate a var...  \n",
       "1   Abstract Background  Non-small cell lung canc...  \n",
       "2   Abstract Background  Non-small cell lung canc...  \n",
       "3  Recent evidence has demonstrated that acquired...  \n",
       "4  Oncogenic mutations in the monomeric Casitas B...  "
      ]
     },
     "execution_count": 63,
     "metadata": {},
     "output_type": "execute_result"
    }
   ],
   "source": [
    "data = np.concatenate((x_train, x_test), axis=0)\n",
    "data=pd.DataFrame(data)\n",
    "data.columns = [\"ID\", \"Gene\", \"Variation\", \"Text\"]\n",
    "data.head()"
   ]
  },
  {
   "cell_type": "code",
   "execution_count": 64,
   "metadata": {
    "collapsed": false
   },
   "outputs": [
    {
     "data": {
      "text/plain": [
       "(8989, 4)"
      ]
     },
     "execution_count": 64,
     "metadata": {},
     "output_type": "execute_result"
    }
   ],
   "source": [
    "data.shape"
   ]
  },
  {
   "cell_type": "code",
   "execution_count": 65,
   "metadata": {
    "collapsed": true
   },
   "outputs": [],
   "source": [
    "from sklearn.feature_extraction.text import TfidfVectorizer"
   ]
  },
  {
   "cell_type": "code",
   "execution_count": 66,
   "metadata": {
    "collapsed": false
   },
   "outputs": [],
   "source": [
    "#TFIDF\n",
    "mod=TfidfVectorizer(min_df=5, max_features=500, stop_words='english')\n",
    "mod_TD=mod.fit_transform(data.Text)"
   ]
  },
  {
   "cell_type": "code",
   "execution_count": 67,
   "metadata": {
    "collapsed": true
   },
   "outputs": [],
   "source": [
    "from sklearn.decomposition import TruncatedSVD"
   ]
  },
  {
   "cell_type": "code",
   "execution_count": 68,
   "metadata": {
    "collapsed": false
   },
   "outputs": [],
   "source": [
    "#SVD features\n",
    "SVD=TruncatedSVD(200,random_state=41)\n",
    "SVD_FIT=SVD.fit_transform(mod_TD)\n",
    "yet_to_complete=pd.DataFrame(SVD_FIT)"
   ]
  },
  {
   "cell_type": "code",
   "execution_count": 69,
   "metadata": {
    "collapsed": true
   },
   "outputs": [],
   "source": [
    "from sklearn import preprocessing"
   ]
  },
  {
   "cell_type": "code",
   "execution_count": 70,
   "metadata": {
    "collapsed": false
   },
   "outputs": [],
   "source": [
    "#data.drop(data.columns[[0,3]],inplace=True, axis=1)\n",
    "#as Gene and Variation data values are just scattered like IDS, i dont think these give u great info about the prediction\n",
    "encoder = preprocessing.LabelEncoder()\n",
    "y_train = train['Class'].values\n",
    "encoder.fit(y_train)\n",
    "encoded_y = encoder.transform(y_train)"
   ]
  },
  {
   "cell_type": "code",
   "execution_count": 71,
   "metadata": {
    "collapsed": false
   },
   "outputs": [
    {
     "data": {
      "text/plain": [
       "array([1, 2, 2, ..., 1, 4, 4], dtype=int64)"
      ]
     },
     "execution_count": 71,
     "metadata": {},
     "output_type": "execute_result"
    }
   ],
   "source": [
    "y_train"
   ]
  },
  {
   "cell_type": "code",
   "execution_count": 72,
   "metadata": {
    "collapsed": false
   },
   "outputs": [
    {
     "data": {
      "text/plain": [
       "array([0, 1, 1, ..., 0, 3, 3], dtype=int64)"
      ]
     },
     "execution_count": 72,
     "metadata": {},
     "output_type": "execute_result"
    }
   ],
   "source": [
    "encoded_y"
   ]
  },
  {
   "cell_type": "code",
   "execution_count": 73,
   "metadata": {
    "collapsed": true
   },
   "outputs": [],
   "source": [
    "X_Train=yet_to_complete[:3321]\n",
    "Y_Train=encoded_y[:3321]\n",
    "X_Test=yet_to_complete[2700:3321]\n",
    "Y_Test=encoded_y[2700:3321]"
   ]
  },
  {
   "cell_type": "markdown",
   "metadata": {},
   "source": [
    "Tune XGboost"
   ]
  },
  {
   "cell_type": "markdown",
   "metadata": {},
   "source": [
    "1 Tune max_depth and min_child_weight"
   ]
  },
  {
   "cell_type": "code",
   "execution_count": 22,
   "metadata": {
    "collapsed": false
   },
   "outputs": [
    {
     "name": "stderr",
     "output_type": "stream",
     "text": [
      "C:\\Program Files\\Anaconda3\\lib\\site-packages\\sklearn\\cross_validation.py:44: DeprecationWarning: This module was deprecated in version 0.18 in favor of the model_selection module into which all the refactored classes and functions are moved. Also note that the interface of the new CV iterators are different from that of this module. This module will be removed in 0.20.\n",
      "  \"This module will be removed in 0.20.\", DeprecationWarning)\n"
     ]
    }
   ],
   "source": [
    "import pandas as pd\n",
    "import numpy as np\n",
    "import xgboost as xgb\n",
    "from sklearn import cross_validation, metrics   #Additional scklearn functions\n",
    "from xgboost.sklearn import XGBClassifier\n",
    "from sklearn.metrics import make_scorer\n",
    "from sklearn.model_selection import GridSearchCV\n",
    "from sklearn.cross_validation import ShuffleSplit\n",
    "from sklearn.metrics import log_loss\n",
    "import time"
   ]
  },
  {
   "cell_type": "code",
   "execution_count": 23,
   "metadata": {
    "collapsed": false
   },
   "outputs": [
    {
     "name": "stdout",
     "output_type": "stream",
     "text": [
      "[mean: -1.57556, std: 0.18843, params: {'min_child_weight': 1, 'max_depth': 3}, mean: -1.57686, std: 0.18649, params: {'min_child_weight': 3, 'max_depth': 3}, mean: -1.56619, std: 0.18482, params: {'min_child_weight': 5, 'max_depth': 3}, mean: -1.64840, std: 0.21005, params: {'min_child_weight': 1, 'max_depth': 5}, mean: -1.63757, std: 0.20063, params: {'min_child_weight': 3, 'max_depth': 5}, mean: -1.62841, std: 0.19755, params: {'min_child_weight': 5, 'max_depth': 5}, mean: -1.73250, std: 0.23972, params: {'min_child_weight': 1, 'max_depth': 7}, mean: -1.69277, std: 0.21979, params: {'min_child_weight': 3, 'max_depth': 7}, mean: -1.67109, std: 0.20889, params: {'min_child_weight': 5, 'max_depth': 7}, mean: -1.77400, std: 0.24558, params: {'min_child_weight': 1, 'max_depth': 9}, mean: -1.72515, std: 0.22087, params: {'min_child_weight': 3, 'max_depth': 9}, mean: -1.69335, std: 0.22073, params: {'min_child_weight': 5, 'max_depth': 9}]\n",
      "{'min_child_weight': 5, 'max_depth': 3}\n",
      "-1.56618678759\n",
      "0.843804525028\n",
      "300.31217670440674\n"
     ]
    },
    {
     "name": "stderr",
     "output_type": "stream",
     "text": [
      "C:\\Program Files\\Anaconda3\\lib\\site-packages\\sklearn\\model_selection\\_search.py:667: DeprecationWarning: The grid_scores_ attribute was deprecated in version 0.18 in favor of the more elaborate cv_results_ attribute. The grid_scores_ attribute will not be available from 0.20\n",
      "  DeprecationWarning)\n"
     ]
    }
   ],
   "source": [
    "start = time.time()\n",
    "\n",
    "param_test1 = {\n",
    " 'max_depth':range(3,10,2),\n",
    " 'min_child_weight':range(1,6,2)\n",
    "}\n",
    "grid = GridSearchCV(estimator= XGBClassifier( learning_rate =0.1, n_estimators=50, max_depth=5,\n",
    " min_child_weight=1, gamma=0, subsample=0.8, colsample_bytree=0.8,\n",
    " objective= 'multi:softprob', nthread=4, scale_pos_weight=1, seed=27), \n",
    " param_grid = param_test1, scoring='log_loss',n_jobs=4,iid=False, cv=5)\n",
    "\n",
    "grid.fit(X_Train,Y_Train)\n",
    "\n",
    "print(grid.grid_scores_)\n",
    "print(grid.best_params_)\n",
    "print(grid.best_score_)\n",
    "\n",
    "#grid = grid.fit(X_train, Y_train)\n",
    "model=grid.best_estimator_\n",
    "\n",
    "y_pred = model.predict_proba(X_Test)\n",
    "print(log_loss( Y_Test,y_pred))\n",
    "\n",
    "print(time.time() - start) "
   ]
  },
  {
   "cell_type": "code",
   "execution_count": 24,
   "metadata": {
    "collapsed": false
   },
   "outputs": [
    {
     "name": "stdout",
     "output_type": "stream",
     "text": [
      "[mean: -1.60835, std: 0.19498, params: {'min_child_weight': 2, 'max_depth': 4}, mean: -1.60754, std: 0.19458, params: {'min_child_weight': 3, 'max_depth': 4}, mean: -1.60414, std: 0.19250, params: {'min_child_weight': 4, 'max_depth': 4}, mean: -1.64968, std: 0.20975, params: {'min_child_weight': 2, 'max_depth': 5}, mean: -1.63757, std: 0.20063, params: {'min_child_weight': 3, 'max_depth': 5}, mean: -1.63973, std: 0.20084, params: {'min_child_weight': 4, 'max_depth': 5}, mean: -1.68687, std: 0.22266, params: {'min_child_weight': 2, 'max_depth': 6}, mean: -1.67588, std: 0.21912, params: {'min_child_weight': 3, 'max_depth': 6}, mean: -1.66881, std: 0.20857, params: {'min_child_weight': 4, 'max_depth': 6}]\n",
      "{'min_child_weight': 4, 'max_depth': 4}\n",
      "-1.6041399268\n",
      "0.663933974905\n",
      "207.43786454200745\n"
     ]
    },
    {
     "name": "stderr",
     "output_type": "stream",
     "text": [
      "C:\\Program Files\\Anaconda3\\lib\\site-packages\\sklearn\\model_selection\\_search.py:667: DeprecationWarning: The grid_scores_ attribute was deprecated in version 0.18 in favor of the more elaborate cv_results_ attribute. The grid_scores_ attribute will not be available from 0.20\n",
      "  DeprecationWarning)\n"
     ]
    }
   ],
   "source": [
    "import pandas as pd\n",
    "import numpy as np\n",
    "import xgboost as xgb\n",
    "from sklearn import cross_validation, metrics   #Additional scklearn functions\n",
    "from xgboost.sklearn import XGBClassifier\n",
    "from sklearn.metrics import make_scorer\n",
    "from sklearn.model_selection import GridSearchCV\n",
    "from sklearn.cross_validation import ShuffleSplit\n",
    "from sklearn.metrics import log_loss\n",
    "import time\n",
    "start = time.time()\n",
    "\n",
    "param_test1 = {\n",
    " 'max_depth':[4,5,6],\n",
    " 'min_child_weight':[2,3,4]\n",
    "}\n",
    "grid = GridSearchCV(estimator= XGBClassifier( learning_rate =0.1, n_estimators=50, max_depth=5,\n",
    " min_child_weight=1, gamma=0, subsample=0.8, colsample_bytree=0.8,\n",
    " objective= 'multi:softprob', nthread=4, scale_pos_weight=1, seed=27), \n",
    " param_grid = param_test1, scoring='log_loss',n_jobs=4,iid=False, cv=5)\n",
    "\n",
    "grid.fit(X_Train,Y_Train)\n",
    "\n",
    "print(grid.grid_scores_)\n",
    "print(grid.best_params_)\n",
    "print(grid.best_score_)\n",
    "\n",
    "#grid = grid.fit(X_train, Y_train)\n",
    "model=grid.best_estimator_\n",
    "\n",
    "y_pred = model.predict_proba(X_Test)\n",
    "print(log_loss( Y_Test,y_pred))\n",
    "\n",
    "print(time.time() - start) "
   ]
  },
  {
   "cell_type": "code",
   "execution_count": 25,
   "metadata": {
    "collapsed": false
   },
   "outputs": [
    {
     "name": "stdout",
     "output_type": "stream",
     "text": [
      "[mean: -1.56513, std: 0.16753, params: {'min_child_weight': 3, 'max_depth': 2}, mean: -1.56631, std: 0.16717, params: {'min_child_weight': 4, 'max_depth': 2}, mean: -1.56285, std: 0.16679, params: {'min_child_weight': 5, 'max_depth': 2}, mean: -1.56560, std: 0.16776, params: {'min_child_weight': 6, 'max_depth': 2}, mean: -1.56798, std: 0.16580, params: {'min_child_weight': 7, 'max_depth': 2}, mean: -1.56297, std: 0.16543, params: {'min_child_weight': 8, 'max_depth': 2}, mean: -1.57686, std: 0.18649, params: {'min_child_weight': 3, 'max_depth': 3}, mean: -1.56787, std: 0.18238, params: {'min_child_weight': 4, 'max_depth': 3}, mean: -1.56619, std: 0.18482, params: {'min_child_weight': 5, 'max_depth': 3}, mean: -1.57334, std: 0.18351, params: {'min_child_weight': 6, 'max_depth': 3}, mean: -1.57035, std: 0.18482, params: {'min_child_weight': 7, 'max_depth': 3}, mean: -1.56037, std: 0.18352, params: {'min_child_weight': 8, 'max_depth': 3}, mean: -1.60754, std: 0.19458, params: {'min_child_weight': 3, 'max_depth': 4}, mean: -1.60414, std: 0.19250, params: {'min_child_weight': 4, 'max_depth': 4}, mean: -1.59769, std: 0.19090, params: {'min_child_weight': 5, 'max_depth': 4}, mean: -1.59515, std: 0.19454, params: {'min_child_weight': 6, 'max_depth': 4}, mean: -1.59402, std: 0.19443, params: {'min_child_weight': 7, 'max_depth': 4}, mean: -1.58435, std: 0.18581, params: {'min_child_weight': 8, 'max_depth': 4}, mean: -1.63757, std: 0.20063, params: {'min_child_weight': 3, 'max_depth': 5}, mean: -1.63973, std: 0.20084, params: {'min_child_weight': 4, 'max_depth': 5}, mean: -1.62841, std: 0.19755, params: {'min_child_weight': 5, 'max_depth': 5}, mean: -1.61743, std: 0.19561, params: {'min_child_weight': 6, 'max_depth': 5}, mean: -1.61332, std: 0.19486, params: {'min_child_weight': 7, 'max_depth': 5}, mean: -1.61175, std: 0.19550, params: {'min_child_weight': 8, 'max_depth': 5}]\n",
      "{'min_child_weight': 8, 'max_depth': 3}\n",
      "-1.56036980088\n",
      "0.866088814254\n",
      "411.15051651000977\n"
     ]
    },
    {
     "name": "stderr",
     "output_type": "stream",
     "text": [
      "C:\\Program Files\\Anaconda3\\lib\\site-packages\\sklearn\\model_selection\\_search.py:667: DeprecationWarning: The grid_scores_ attribute was deprecated in version 0.18 in favor of the more elaborate cv_results_ attribute. The grid_scores_ attribute will not be available from 0.20\n",
      "  DeprecationWarning)\n"
     ]
    }
   ],
   "source": [
    "import pandas as pd\n",
    "import numpy as np\n",
    "import xgboost as xgb\n",
    "from sklearn import cross_validation, metrics   #Additional scklearn functions\n",
    "from xgboost.sklearn import XGBClassifier\n",
    "from sklearn.metrics import make_scorer\n",
    "from sklearn.model_selection import GridSearchCV\n",
    "from sklearn.cross_validation import ShuffleSplit\n",
    "from sklearn.metrics import log_loss\n",
    "import time\n",
    "start = time.time()\n",
    "\n",
    "param_test1 = {\n",
    " 'max_depth':[2,3,4,5],\n",
    " 'min_child_weight':[3,4,5,6,7,8]\n",
    "}\n",
    "grid = GridSearchCV(estimator= XGBClassifier( learning_rate =0.1, n_estimators=50, max_depth=5,\n",
    " min_child_weight=1, gamma=0, subsample=0.8, colsample_bytree=0.8,\n",
    " objective= 'multi:softprob', nthread=4, scale_pos_weight=1, seed=27), \n",
    " param_grid = param_test1, scoring='log_loss',n_jobs=4,iid=False, cv=5)\n",
    "\n",
    "grid.fit(X_Train,Y_Train)\n",
    "\n",
    "print(grid.grid_scores_)\n",
    "print(grid.best_params_)\n",
    "print(grid.best_score_)\n",
    "\n",
    "#grid = grid.fit(X_train, Y_train)\n",
    "model=grid.best_estimator_\n",
    "\n",
    "y_pred = model.predict_proba(X_Test)\n",
    "print(log_loss( Y_Test,y_pred))\n",
    "\n",
    "print(time.time() - start) "
   ]
  },
  {
   "cell_type": "code",
   "execution_count": 26,
   "metadata": {
    "collapsed": false
   },
   "outputs": [
    {
     "name": "stdout",
     "output_type": "stream",
     "text": [
      "[mean: -1.56798, std: 0.16580, params: {'min_child_weight': 7, 'max_depth': 2}, mean: -1.56297, std: 0.16543, params: {'min_child_weight': 8, 'max_depth': 2}, mean: -1.56209, std: 0.16734, params: {'min_child_weight': 9, 'max_depth': 2}, mean: -1.56438, std: 0.16380, params: {'min_child_weight': 10, 'max_depth': 2}, mean: -1.56181, std: 0.16702, params: {'min_child_weight': 11, 'max_depth': 2}, mean: -1.56203, std: 0.16195, params: {'min_child_weight': 12, 'max_depth': 2}, mean: -1.56353, std: 0.16579, params: {'min_child_weight': 13, 'max_depth': 2}, mean: -1.55688, std: 0.16647, params: {'min_child_weight': 14, 'max_depth': 2}, mean: -1.55283, std: 0.16290, params: {'min_child_weight': 15, 'max_depth': 2}, mean: -1.57035, std: 0.18482, params: {'min_child_weight': 7, 'max_depth': 3}, mean: -1.56037, std: 0.18352, params: {'min_child_weight': 8, 'max_depth': 3}, mean: -1.56566, std: 0.18218, params: {'min_child_weight': 9, 'max_depth': 3}, mean: -1.56700, std: 0.18019, params: {'min_child_weight': 10, 'max_depth': 3}, mean: -1.55880, std: 0.17932, params: {'min_child_weight': 11, 'max_depth': 3}, mean: -1.56273, std: 0.17587, params: {'min_child_weight': 12, 'max_depth': 3}, mean: -1.56285, std: 0.17470, params: {'min_child_weight': 13, 'max_depth': 3}, mean: -1.54998, std: 0.17843, params: {'min_child_weight': 14, 'max_depth': 3}, mean: -1.55379, std: 0.17988, params: {'min_child_weight': 15, 'max_depth': 3}, mean: -1.59402, std: 0.19443, params: {'min_child_weight': 7, 'max_depth': 4}, mean: -1.58435, std: 0.18581, params: {'min_child_weight': 8, 'max_depth': 4}, mean: -1.57891, std: 0.18480, params: {'min_child_weight': 9, 'max_depth': 4}, mean: -1.57475, std: 0.18559, params: {'min_child_weight': 10, 'max_depth': 4}, mean: -1.57574, std: 0.18447, params: {'min_child_weight': 11, 'max_depth': 4}, mean: -1.57499, std: 0.19041, params: {'min_child_weight': 12, 'max_depth': 4}, mean: -1.56827, std: 0.18038, params: {'min_child_weight': 13, 'max_depth': 4}, mean: -1.57277, std: 0.19468, params: {'min_child_weight': 14, 'max_depth': 4}, mean: -1.56887, std: 0.18456, params: {'min_child_weight': 15, 'max_depth': 4}]\n",
      "{'min_child_weight': 14, 'max_depth': 3}\n",
      "-1.54997893521\n",
      "0.877828109116\n",
      "374.7204327583313\n"
     ]
    },
    {
     "name": "stderr",
     "output_type": "stream",
     "text": [
      "C:\\Program Files\\Anaconda3\\lib\\site-packages\\sklearn\\model_selection\\_search.py:667: DeprecationWarning: The grid_scores_ attribute was deprecated in version 0.18 in favor of the more elaborate cv_results_ attribute. The grid_scores_ attribute will not be available from 0.20\n",
      "  DeprecationWarning)\n"
     ]
    }
   ],
   "source": [
    "import pandas as pd\n",
    "import numpy as np\n",
    "import xgboost as xgb\n",
    "from sklearn import cross_validation, metrics   #Additional scklearn functions\n",
    "from xgboost.sklearn import XGBClassifier\n",
    "from sklearn.metrics import make_scorer\n",
    "from sklearn.model_selection import GridSearchCV\n",
    "from sklearn.cross_validation import ShuffleSplit\n",
    "from sklearn.metrics import log_loss\n",
    "import time\n",
    "start = time.time()\n",
    "\n",
    "param_test1 = {\n",
    " 'max_depth':[2,3,4],\n",
    " 'min_child_weight':[7,8,9,10,11,12,13,14,15]\n",
    "}\n",
    "grid = GridSearchCV(estimator= XGBClassifier( learning_rate =0.1, n_estimators=50, max_depth=5,\n",
    " min_child_weight=1, gamma=0, subsample=0.8, colsample_bytree=0.8,\n",
    " objective= 'multi:softprob', nthread=4, scale_pos_weight=1, seed=27), \n",
    " param_grid = param_test1, scoring='log_loss',n_jobs=4,iid=False, cv=5)\n",
    "\n",
    "grid.fit(X_Train,Y_Train)\n",
    "\n",
    "print(grid.grid_scores_)\n",
    "print(grid.best_params_)\n",
    "print(grid.best_score_)\n",
    "\n",
    "#grid = grid.fit(X_train, Y_train)\n",
    "model=grid.best_estimator_\n",
    "\n",
    "y_pred = model.predict_proba(X_Test)\n",
    "print(log_loss( Y_Test,y_pred))\n",
    "\n",
    "print(time.time() - start) "
   ]
  },
  {
   "cell_type": "code",
   "execution_count": 27,
   "metadata": {
    "collapsed": true
   },
   "outputs": [],
   "source": [
    "import winsound\n",
    "winsound.Beep(300,5000)"
   ]
  },
  {
   "cell_type": "markdown",
   "metadata": {},
   "source": [
    "2.3 Tune gamma"
   ]
  },
  {
   "cell_type": "code",
   "execution_count": 28,
   "metadata": {
    "collapsed": false
   },
   "outputs": [
    {
     "name": "stdout",
     "output_type": "stream",
     "text": [
      "[mean: -1.54998, std: 0.17843, params: {'gamma': 0.0}, mean: -1.55173, std: 0.17601, params: {'gamma': 0.1}, mean: -1.55198, std: 0.17988, params: {'gamma': 0.2}, mean: -1.55709, std: 0.17529, params: {'gamma': 0.3}, mean: -1.55738, std: 0.17637, params: {'gamma': 0.4}, mean: -1.55628, std: 0.17969, params: {'gamma': 0.5}]\n",
      "{'gamma': 0.0}\n",
      "-1.54997893521\n",
      "0.877828109116\n",
      "85.25587630271912\n"
     ]
    },
    {
     "name": "stderr",
     "output_type": "stream",
     "text": [
      "C:\\Program Files\\Anaconda3\\lib\\site-packages\\sklearn\\model_selection\\_search.py:667: DeprecationWarning: The grid_scores_ attribute was deprecated in version 0.18 in favor of the more elaborate cv_results_ attribute. The grid_scores_ attribute will not be available from 0.20\n",
      "  DeprecationWarning)\n"
     ]
    }
   ],
   "source": [
    "start = time.time()\n",
    "\n",
    "param_test1 = {\n",
    " 'gamma':[0.0,0.1,0.2,0.3,0.4,0.5]\n",
    "}\n",
    "grid = GridSearchCV(estimator= XGBClassifier( learning_rate =0.1, n_estimators=50, max_depth=3,\n",
    " min_child_weight=14, gamma=0, subsample=0.8, colsample_bytree=0.8,\n",
    " objective= 'multi:softprob', nthread=4, scale_pos_weight=1, seed=27), \n",
    " param_grid = param_test1, scoring='log_loss',n_jobs=4,iid=False, cv=5)\n",
    "\n",
    "grid.fit(X_Train,Y_Train)\n",
    "\n",
    "print(grid.grid_scores_)\n",
    "print(grid.best_params_)\n",
    "print(grid.best_score_)\n",
    "\n",
    "#grid = grid.fit(X_train, Y_train)\n",
    "model=grid.best_estimator_\n",
    "\n",
    "y_pred = model.predict_proba(X_Test)\n",
    "print(log_loss( Y_Test,y_pred))\n",
    "\n",
    "print(time.time() - start) "
   ]
  },
  {
   "cell_type": "code",
   "execution_count": 29,
   "metadata": {
    "collapsed": true
   },
   "outputs": [],
   "source": [
    "import winsound\n",
    "winsound.Beep(300,5000)"
   ]
  },
  {
   "cell_type": "code",
   "execution_count": null,
   "metadata": {
    "collapsed": true
   },
   "outputs": [],
   "source": []
  },
  {
   "cell_type": "markdown",
   "metadata": {},
   "source": [
    "2.4 Tune subsample and colsample_bytree"
   ]
  },
  {
   "cell_type": "code",
   "execution_count": 32,
   "metadata": {
    "collapsed": false
   },
   "outputs": [
    {
     "name": "stdout",
     "output_type": "stream",
     "text": [
      "[mean: -1.56506, std: 0.17087, params: {'colsample_bytree': 0.6, 'subsample': 0.6}, mean: -1.56446, std: 0.17799, params: {'colsample_bytree': 0.6, 'subsample': 0.7}, mean: -1.56691, std: 0.18173, params: {'colsample_bytree': 0.6, 'subsample': 0.8}, mean: -1.56716, std: 0.18138, params: {'colsample_bytree': 0.6, 'subsample': 0.9}, mean: -1.57539, std: 0.18398, params: {'colsample_bytree': 0.6, 'subsample': 1.0}, mean: -1.56644, std: 0.17096, params: {'colsample_bytree': 0.7, 'subsample': 0.6}, mean: -1.56004, std: 0.17985, params: {'colsample_bytree': 0.7, 'subsample': 0.7}, mean: -1.56032, std: 0.17208, params: {'colsample_bytree': 0.7, 'subsample': 0.8}, mean: -1.57260, std: 0.17951, params: {'colsample_bytree': 0.7, 'subsample': 0.9}, mean: -1.56968, std: 0.18299, params: {'colsample_bytree': 0.7, 'subsample': 1.0}, mean: -1.55961, std: 0.17391, params: {'colsample_bytree': 0.8, 'subsample': 0.6}, mean: -1.56006, std: 0.17896, params: {'colsample_bytree': 0.8, 'subsample': 0.7}, mean: -1.54998, std: 0.17843, params: {'colsample_bytree': 0.8, 'subsample': 0.8}, mean: -1.57740, std: 0.18252, params: {'colsample_bytree': 0.8, 'subsample': 0.9}, mean: -1.57244, std: 0.18220, params: {'colsample_bytree': 0.8, 'subsample': 1.0}, mean: -1.56821, std: 0.17138, params: {'colsample_bytree': 0.9, 'subsample': 0.6}, mean: -1.56163, std: 0.18475, params: {'colsample_bytree': 0.9, 'subsample': 0.7}, mean: -1.55153, std: 0.17358, params: {'colsample_bytree': 0.9, 'subsample': 0.8}, mean: -1.56573, std: 0.18426, params: {'colsample_bytree': 0.9, 'subsample': 0.9}, mean: -1.57092, std: 0.18386, params: {'colsample_bytree': 0.9, 'subsample': 1.0}, mean: -1.55596, std: 0.17072, params: {'colsample_bytree': 1.0, 'subsample': 0.6}, mean: -1.55786, std: 0.18119, params: {'colsample_bytree': 1.0, 'subsample': 0.7}, mean: -1.55993, std: 0.18134, params: {'colsample_bytree': 1.0, 'subsample': 0.8}, mean: -1.56774, std: 0.17767, params: {'colsample_bytree': 1.0, 'subsample': 0.9}, mean: -1.56489, std: 0.18441, params: {'colsample_bytree': 1.0, 'subsample': 1.0}]\n",
      "{'colsample_bytree': 0.8, 'subsample': 0.8}\n",
      "-1.54997893521\n",
      "0.877828109116\n",
      "356.49539041519165\n"
     ]
    },
    {
     "name": "stderr",
     "output_type": "stream",
     "text": [
      "C:\\Program Files\\Anaconda3\\lib\\site-packages\\sklearn\\model_selection\\_search.py:667: DeprecationWarning: The grid_scores_ attribute was deprecated in version 0.18 in favor of the more elaborate cv_results_ attribute. The grid_scores_ attribute will not be available from 0.20\n",
      "  DeprecationWarning)\n"
     ]
    }
   ],
   "source": [
    "start = time.time()\n",
    "\n",
    "param_test1 = {\n",
    " 'subsample':[0.6,0.7,0.8,0.9,1.0], 'colsample_bytree':[0.6,0.7,0.8,0.9,1.0]\n",
    "}\n",
    "grid = GridSearchCV(estimator= XGBClassifier( learning_rate =0.1, n_estimators=50, max_depth=3,\n",
    " min_child_weight=14, gamma=0.0, subsample=0.8, colsample_bytree=0.8,\n",
    " objective= 'multi:softprob', nthread=4, scale_pos_weight=1, seed=27), \n",
    " param_grid = param_test1, scoring='log_loss',n_jobs=4,iid=False, cv=5)\n",
    "\n",
    "grid.fit(X_Train,Y_Train)\n",
    "\n",
    "print(grid.grid_scores_)\n",
    "print(grid.best_params_)\n",
    "print(grid.best_score_)\n",
    "\n",
    "#grid = grid.fit(X_train, Y_train)\n",
    "model=grid.best_estimator_\n",
    "\n",
    "y_pred = model.predict_proba(X_Test)\n",
    "print(log_loss( Y_Test,y_pred))\n",
    "\n",
    "print(time.time() - start) "
   ]
  },
  {
   "cell_type": "code",
   "execution_count": 33,
   "metadata": {
    "collapsed": true
   },
   "outputs": [],
   "source": [
    "import winsound\n",
    "winsound.Beep(300,5000)"
   ]
  },
  {
   "cell_type": "markdown",
   "metadata": {},
   "source": [
    "2.5 Tune Tuning Regularization Parameters"
   ]
  },
  {
   "cell_type": "code",
   "execution_count": 34,
   "metadata": {
    "collapsed": false
   },
   "outputs": [
    {
     "name": "stdout",
     "output_type": "stream",
     "text": [
      "[mean: -1.54998, std: 0.17843, params: {'reg_alpha': 0}, mean: -1.54998, std: 0.17843, params: {'reg_alpha': 0.0001}, mean: -1.55125, std: 0.17932, params: {'reg_alpha': 0.001}, mean: -1.55558, std: 0.17934, params: {'reg_alpha': 0.01}, mean: -1.56037, std: 0.17944, params: {'reg_alpha': 0.1}, mean: -1.55814, std: 0.17832, params: {'reg_alpha': 1}, mean: -1.55670, std: 0.14790, params: {'reg_alpha': 10}, mean: -1.79601, std: 0.04045, params: {'reg_alpha': 100}]\n",
      "{'reg_alpha': 0}\n",
      "-1.54997893521\n",
      "0.877828109116\n",
      "131.49052095413208\n"
     ]
    },
    {
     "name": "stderr",
     "output_type": "stream",
     "text": [
      "C:\\Program Files\\Anaconda3\\lib\\site-packages\\sklearn\\model_selection\\_search.py:667: DeprecationWarning: The grid_scores_ attribute was deprecated in version 0.18 in favor of the more elaborate cv_results_ attribute. The grid_scores_ attribute will not be available from 0.20\n",
      "  DeprecationWarning)\n"
     ]
    }
   ],
   "source": [
    "start = time.time()\n",
    "\n",
    "param_test1 = {\n",
    " 'reg_alpha':[0,0.0001,0.001, 0.01, 0.1, 1,10, 100]\n",
    "}\n",
    "grid = GridSearchCV(estimator= XGBClassifier( learning_rate =0.1, n_estimators=50, max_depth=3,\n",
    " min_child_weight=14, gamma=0.0, subsample=0.8, colsample_bytree=0.8,\n",
    " objective= 'multi:softprob', nthread=4, scale_pos_weight=1, seed=27), \n",
    " param_grid = param_test1, scoring='log_loss',n_jobs=4,iid=False, cv=5)\n",
    "\n",
    "grid.fit(X_Train,Y_Train)\n",
    "\n",
    "print(grid.grid_scores_)\n",
    "print(grid.best_params_)\n",
    "print(grid.best_score_)\n",
    "\n",
    "#grid = grid.fit(X_train, Y_train)\n",
    "model=grid.best_estimator_\n",
    "\n",
    "y_pred = model.predict_proba(X_Test)\n",
    "print(log_loss( Y_Test,y_pred))\n",
    "\n",
    "print(time.time() - start) "
   ]
  },
  {
   "cell_type": "code",
   "execution_count": null,
   "metadata": {
    "collapsed": true
   },
   "outputs": [],
   "source": []
  },
  {
   "cell_type": "markdown",
   "metadata": {},
   "source": [
    "2.6 Reducing Learning Rate re-calibrate the number of boosting rounds"
   ]
  },
  {
   "cell_type": "code",
   "execution_count": 82,
   "metadata": {
    "collapsed": false
   },
   "outputs": [
    {
     "name": "stdout",
     "output_type": "stream",
     "text": [
      "[mean: -1.93679, std: 0.03969, params: {'n_estimators': 50}, mean: -1.79973, std: 0.06082, params: {'n_estimators': 100}, mean: -1.61490, std: 0.09063, params: {'n_estimators': 300}, mean: -1.58443, std: 0.10415, params: {'n_estimators': 500}, mean: -1.58770, std: 0.11590, params: {'n_estimators': 700}, mean: -1.61258, std: 0.12722, params: {'n_estimators': 1000}, mean: -1.70785, std: 0.15774, params: {'n_estimators': 2000}, mean: -1.80898, std: 0.18192, params: {'n_estimators': 3000}, mean: -1.90401, std: 0.20212, params: {'n_estimators': 4000}, mean: -1.99316, std: 0.22057, params: {'n_estimators': 5000}]\n",
      "{'n_estimators': 500}\n",
      "-1.58443174497\n",
      "1.6187840573\n",
      "7373.850759983063\n"
     ]
    },
    {
     "name": "stderr",
     "output_type": "stream",
     "text": [
      "C:\\Program Files\\Anaconda3\\lib\\site-packages\\sklearn\\model_selection\\_search.py:667: DeprecationWarning: The grid_scores_ attribute was deprecated in version 0.18 in favor of the more elaborate cv_results_ attribute. The grid_scores_ attribute will not be available from 0.20\n",
      "  DeprecationWarning)\n"
     ]
    }
   ],
   "source": [
    "start = time.time()\n",
    "\n",
    "param_test1 = {\n",
    " 'n_estimators':[50,100,300,500,700,1000,2000,3000,4000,5000]\n",
    "}\n",
    "grid = GridSearchCV(estimator= XGBClassifier( learning_rate =0.01, n_estimators=50, max_depth=2,\n",
    " min_child_weight=8, gamma=0.1, subsample=0.9, colsample_bytree=0.9,reg_alpha=0.001,\n",
    " objective= 'multi:softprob', nthread=4, scale_pos_weight=1, seed=27), \n",
    " param_grid = param_test1, scoring='log_loss',n_jobs=4,iid=False, cv=5)\n",
    "\n",
    "grid.fit(X_Train,Y_Train)\n",
    "\n",
    "print(grid.grid_scores_)\n",
    "print(grid.best_params_)\n",
    "print(grid.best_score_)\n",
    "\n",
    "#grid = grid.fit(X_train, Y_train)\n",
    "model=grid.best_estimator_\n",
    "\n",
    "y_pred = model.predict_proba(X_Test)\n",
    "print(log_loss( Y_Test,y_pred))\n",
    "\n",
    "print(time.time() - start) "
   ]
  },
  {
   "cell_type": "code",
   "execution_count": null,
   "metadata": {
    "collapsed": true
   },
   "outputs": [],
   "source": []
  },
  {
   "cell_type": "code",
   "execution_count": 74,
   "metadata": {
    "collapsed": false
   },
   "outputs": [],
   "source": [
    "model=XGBClassifier(base_score=0.5, learning_rate =0.1, n_estimators=100, max_depth=3,\n",
    " min_child_weight=14, gamma=0.0, subsample=0.8, colsample_bytree=0.8,\n",
    " objective= 'multi:softprob', nthread=4, scale_pos_weight=1, seed=27, reg_alpha=0)"
   ]
  },
  {
   "cell_type": "code",
   "execution_count": 45,
   "metadata": {
    "collapsed": true
   },
   "outputs": [],
   "source": [
    "model=XGBClassifier(base_score=0.5,colsample_bylevel=1,colsample_bytree=1,gamma=0.2,learning_rate=0.1,max_delta_step=0,max_depth=6,\n",
    "                    min_child_weight=1, missing=None, n_estimators=100, nthread=-1,objective='multi:softprob', reg_alpha=0, reg_lambda=1,\n",
    "                    scale_pos_weight=1, seed=0, silent=True, subsample=1)"
   ]
  },
  {
   "cell_type": "code",
   "execution_count": null,
   "metadata": {
    "collapsed": true
   },
   "outputs": [],
   "source": []
  },
  {
   "cell_type": "code",
   "execution_count": 75,
   "metadata": {
    "collapsed": false
   },
   "outputs": [
    {
     "data": {
      "text/plain": [
       "XGBClassifier(base_score=0.5, colsample_bylevel=1, colsample_bytree=0.8,\n",
       "       gamma=0.0, learning_rate=0.1, max_delta_step=0, max_depth=3,\n",
       "       min_child_weight=14, missing=None, n_estimators=100, nthread=4,\n",
       "       objective='multi:softprob', reg_alpha=0, reg_lambda=1,\n",
       "       scale_pos_weight=1, seed=27, silent=True, subsample=0.8)"
      ]
     },
     "execution_count": 75,
     "metadata": {},
     "output_type": "execute_result"
    }
   ],
   "source": [
    "model.fit(X_Train,Y_Train)"
   ]
  },
  {
   "cell_type": "code",
   "execution_count": 76,
   "metadata": {
    "collapsed": true
   },
   "outputs": [],
   "source": [
    "y_pred=model.predict_proba(yet_to_complete[3321:])"
   ]
  },
  {
   "cell_type": "code",
   "execution_count": 77,
   "metadata": {
    "collapsed": true
   },
   "outputs": [],
   "source": [
    "#tweaking the submission file as required\n",
    "subm_file = pd.DataFrame(y_pred)\n",
    "subm_file['id'] = test_index\n",
    "subm_file.columns = ['class1', 'class2', 'class3', 'class4', 'class5', 'class6', 'class7', 'class8', 'class9', 'id']\n",
    "subm_file.to_csv(\"submission.csv\",index=False)"
   ]
  },
  {
   "cell_type": "markdown",
   "metadata": {
    "collapsed": true
   },
   "source": [
    "scored 0.87016"
   ]
  }
 ],
 "metadata": {
  "anaconda-cloud": {},
  "kernelspec": {
   "display_name": "Python [conda root]",
   "language": "python",
   "name": "conda-root-py"
  },
  "language_info": {
   "codemirror_mode": {
    "name": "ipython",
    "version": 3
   },
   "file_extension": ".py",
   "mimetype": "text/x-python",
   "name": "python",
   "nbconvert_exporter": "python",
   "pygments_lexer": "ipython3",
   "version": "3.5.2"
  }
 },
 "nbformat": 4,
 "nbformat_minor": 1
}
