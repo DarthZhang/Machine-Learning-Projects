{
 "cells": [
  {
   "cell_type": "code",
   "execution_count": 1,
   "metadata": {
    "collapsed": true
   },
   "outputs": [],
   "source": [
    "import numpy as np # linear algebra\n",
    "import pandas as pd # data processing, CSV file I/O (e.g. pd.read_csv)"
   ]
  },
  {
   "cell_type": "code",
   "execution_count": 2,
   "metadata": {
    "collapsed": true
   },
   "outputs": [],
   "source": [
    "# Input data files are available in the \"../input/\" directory.\n",
    "# For example, running this (by clicking run or pressing Shift+Enter) will list the files in the input directory\n",
    "\n",
    "from subprocess import check_output"
   ]
  },
  {
   "cell_type": "code",
   "execution_count": 3,
   "metadata": {
    "collapsed": false
   },
   "outputs": [],
   "source": [
    "#Read Data\n",
    "train_variant = pd.read_csv(\"training_variants\")\n",
    "test_variant = pd.read_csv(\"test_variants\")\n",
    "train_text = pd.read_csv(\"training_text\", sep=\"\\|\\|\", engine='python', header=None, skiprows=1, names=[\"ID\",\"Text\"])\n",
    "test_text = pd.read_csv(\"test_text\", sep=\"\\|\\|\", engine='python', header=None, skiprows=1, names=[\"ID\",\"Text\"])"
   ]
  },
  {
   "cell_type": "code",
   "execution_count": 4,
   "metadata": {
    "collapsed": false
   },
   "outputs": [
    {
     "data": {
      "text/html": [
       "<div>\n",
       "<table border=\"1\" class=\"dataframe\">\n",
       "  <thead>\n",
       "    <tr style=\"text-align: right;\">\n",
       "      <th></th>\n",
       "      <th>ID</th>\n",
       "      <th>Gene</th>\n",
       "      <th>Variation</th>\n",
       "      <th>Class</th>\n",
       "    </tr>\n",
       "  </thead>\n",
       "  <tbody>\n",
       "    <tr>\n",
       "      <th>0</th>\n",
       "      <td>0</td>\n",
       "      <td>FAM58A</td>\n",
       "      <td>Truncating Mutations</td>\n",
       "      <td>1</td>\n",
       "    </tr>\n",
       "    <tr>\n",
       "      <th>1</th>\n",
       "      <td>1</td>\n",
       "      <td>CBL</td>\n",
       "      <td>W802*</td>\n",
       "      <td>2</td>\n",
       "    </tr>\n",
       "    <tr>\n",
       "      <th>2</th>\n",
       "      <td>2</td>\n",
       "      <td>CBL</td>\n",
       "      <td>Q249E</td>\n",
       "      <td>2</td>\n",
       "    </tr>\n",
       "    <tr>\n",
       "      <th>3</th>\n",
       "      <td>3</td>\n",
       "      <td>CBL</td>\n",
       "      <td>N454D</td>\n",
       "      <td>3</td>\n",
       "    </tr>\n",
       "    <tr>\n",
       "      <th>4</th>\n",
       "      <td>4</td>\n",
       "      <td>CBL</td>\n",
       "      <td>L399V</td>\n",
       "      <td>4</td>\n",
       "    </tr>\n",
       "  </tbody>\n",
       "</table>\n",
       "</div>"
      ],
      "text/plain": [
       "   ID    Gene             Variation  Class\n",
       "0   0  FAM58A  Truncating Mutations      1\n",
       "1   1     CBL                 W802*      2\n",
       "2   2     CBL                 Q249E      2\n",
       "3   3     CBL                 N454D      3\n",
       "4   4     CBL                 L399V      4"
      ]
     },
     "execution_count": 4,
     "metadata": {},
     "output_type": "execute_result"
    }
   ],
   "source": [
    "train_variant.head()"
   ]
  },
  {
   "cell_type": "code",
   "execution_count": 5,
   "metadata": {
    "collapsed": false
   },
   "outputs": [
    {
     "data": {
      "text/html": [
       "<div>\n",
       "<table border=\"1\" class=\"dataframe\">\n",
       "  <thead>\n",
       "    <tr style=\"text-align: right;\">\n",
       "      <th></th>\n",
       "      <th>ID</th>\n",
       "      <th>Gene</th>\n",
       "      <th>Variation</th>\n",
       "    </tr>\n",
       "  </thead>\n",
       "  <tbody>\n",
       "    <tr>\n",
       "      <th>0</th>\n",
       "      <td>0</td>\n",
       "      <td>ACSL4</td>\n",
       "      <td>R570S</td>\n",
       "    </tr>\n",
       "    <tr>\n",
       "      <th>1</th>\n",
       "      <td>1</td>\n",
       "      <td>NAGLU</td>\n",
       "      <td>P521L</td>\n",
       "    </tr>\n",
       "    <tr>\n",
       "      <th>2</th>\n",
       "      <td>2</td>\n",
       "      <td>PAH</td>\n",
       "      <td>L333F</td>\n",
       "    </tr>\n",
       "    <tr>\n",
       "      <th>3</th>\n",
       "      <td>3</td>\n",
       "      <td>ING1</td>\n",
       "      <td>A148D</td>\n",
       "    </tr>\n",
       "    <tr>\n",
       "      <th>4</th>\n",
       "      <td>4</td>\n",
       "      <td>TMEM216</td>\n",
       "      <td>G77A</td>\n",
       "    </tr>\n",
       "  </tbody>\n",
       "</table>\n",
       "</div>"
      ],
      "text/plain": [
       "   ID     Gene Variation\n",
       "0   0    ACSL4     R570S\n",
       "1   1    NAGLU     P521L\n",
       "2   2      PAH     L333F\n",
       "3   3     ING1     A148D\n",
       "4   4  TMEM216      G77A"
      ]
     },
     "execution_count": 5,
     "metadata": {},
     "output_type": "execute_result"
    }
   ],
   "source": [
    "test_variant.head()"
   ]
  },
  {
   "cell_type": "code",
   "execution_count": 6,
   "metadata": {
    "collapsed": false
   },
   "outputs": [
    {
     "data": {
      "text/html": [
       "<div>\n",
       "<table border=\"1\" class=\"dataframe\">\n",
       "  <thead>\n",
       "    <tr style=\"text-align: right;\">\n",
       "      <th></th>\n",
       "      <th>ID</th>\n",
       "      <th>Text</th>\n",
       "    </tr>\n",
       "  </thead>\n",
       "  <tbody>\n",
       "    <tr>\n",
       "      <th>0</th>\n",
       "      <td>0</td>\n",
       "      <td>Cyclin-dependent kinases (CDKs) regulate a var...</td>\n",
       "    </tr>\n",
       "    <tr>\n",
       "      <th>1</th>\n",
       "      <td>1</td>\n",
       "      <td>Abstract Background  Non-small cell lung canc...</td>\n",
       "    </tr>\n",
       "    <tr>\n",
       "      <th>2</th>\n",
       "      <td>2</td>\n",
       "      <td>Abstract Background  Non-small cell lung canc...</td>\n",
       "    </tr>\n",
       "    <tr>\n",
       "      <th>3</th>\n",
       "      <td>3</td>\n",
       "      <td>Recent evidence has demonstrated that acquired...</td>\n",
       "    </tr>\n",
       "    <tr>\n",
       "      <th>4</th>\n",
       "      <td>4</td>\n",
       "      <td>Oncogenic mutations in the monomeric Casitas B...</td>\n",
       "    </tr>\n",
       "  </tbody>\n",
       "</table>\n",
       "</div>"
      ],
      "text/plain": [
       "   ID                                               Text\n",
       "0   0  Cyclin-dependent kinases (CDKs) regulate a var...\n",
       "1   1   Abstract Background  Non-small cell lung canc...\n",
       "2   2   Abstract Background  Non-small cell lung canc...\n",
       "3   3  Recent evidence has demonstrated that acquired...\n",
       "4   4  Oncogenic mutations in the monomeric Casitas B..."
      ]
     },
     "execution_count": 6,
     "metadata": {},
     "output_type": "execute_result"
    }
   ],
   "source": [
    "train_text.head()"
   ]
  },
  {
   "cell_type": "code",
   "execution_count": 7,
   "metadata": {
    "collapsed": false
   },
   "outputs": [
    {
     "data": {
      "text/html": [
       "<div>\n",
       "<table border=\"1\" class=\"dataframe\">\n",
       "  <thead>\n",
       "    <tr style=\"text-align: right;\">\n",
       "      <th></th>\n",
       "      <th>ID</th>\n",
       "      <th>Text</th>\n",
       "    </tr>\n",
       "  </thead>\n",
       "  <tbody>\n",
       "    <tr>\n",
       "      <th>0</th>\n",
       "      <td>0</td>\n",
       "      <td>2. This mutation resulted in a myeloproliferat...</td>\n",
       "    </tr>\n",
       "    <tr>\n",
       "      <th>1</th>\n",
       "      <td>1</td>\n",
       "      <td>Abstract The Large Tumor Suppressor 1 (LATS1)...</td>\n",
       "    </tr>\n",
       "    <tr>\n",
       "      <th>2</th>\n",
       "      <td>2</td>\n",
       "      <td>Vascular endothelial growth factor receptor (V...</td>\n",
       "    </tr>\n",
       "    <tr>\n",
       "      <th>3</th>\n",
       "      <td>3</td>\n",
       "      <td>Inflammatory myofibroblastic tumor (IMT) is a ...</td>\n",
       "    </tr>\n",
       "    <tr>\n",
       "      <th>4</th>\n",
       "      <td>4</td>\n",
       "      <td>Abstract Retinoblastoma is a pediatric retina...</td>\n",
       "    </tr>\n",
       "  </tbody>\n",
       "</table>\n",
       "</div>"
      ],
      "text/plain": [
       "   ID                                               Text\n",
       "0   0  2. This mutation resulted in a myeloproliferat...\n",
       "1   1   Abstract The Large Tumor Suppressor 1 (LATS1)...\n",
       "2   2  Vascular endothelial growth factor receptor (V...\n",
       "3   3  Inflammatory myofibroblastic tumor (IMT) is a ...\n",
       "4   4   Abstract Retinoblastoma is a pediatric retina..."
      ]
     },
     "execution_count": 7,
     "metadata": {},
     "output_type": "execute_result"
    }
   ],
   "source": [
    "test_text.head()"
   ]
  },
  {
   "cell_type": "code",
   "execution_count": 8,
   "metadata": {
    "collapsed": true
   },
   "outputs": [],
   "source": [
    "#Train data number of observations in each class\n",
    "##Class1:568#Class2:452#Class3:89#Class4:686\n",
    "##Class6:275#Class7:953#Class8:19#Class9:37\n",
    "##Class5:242\n",
    "train = pd.merge(train_variant, train_text, how='left', on='ID')\n",
    "x_train = train.drop('Class', axis=1)"
   ]
  },
  {
   "cell_type": "code",
   "execution_count": 9,
   "metadata": {
    "collapsed": false
   },
   "outputs": [
    {
     "data": {
      "text/html": [
       "<div>\n",
       "<table border=\"1\" class=\"dataframe\">\n",
       "  <thead>\n",
       "    <tr style=\"text-align: right;\">\n",
       "      <th></th>\n",
       "      <th>ID</th>\n",
       "      <th>Gene</th>\n",
       "      <th>Variation</th>\n",
       "      <th>Text</th>\n",
       "    </tr>\n",
       "  </thead>\n",
       "  <tbody>\n",
       "    <tr>\n",
       "      <th>0</th>\n",
       "      <td>0</td>\n",
       "      <td>FAM58A</td>\n",
       "      <td>Truncating Mutations</td>\n",
       "      <td>Cyclin-dependent kinases (CDKs) regulate a var...</td>\n",
       "    </tr>\n",
       "    <tr>\n",
       "      <th>1</th>\n",
       "      <td>1</td>\n",
       "      <td>CBL</td>\n",
       "      <td>W802*</td>\n",
       "      <td>Abstract Background  Non-small cell lung canc...</td>\n",
       "    </tr>\n",
       "    <tr>\n",
       "      <th>2</th>\n",
       "      <td>2</td>\n",
       "      <td>CBL</td>\n",
       "      <td>Q249E</td>\n",
       "      <td>Abstract Background  Non-small cell lung canc...</td>\n",
       "    </tr>\n",
       "    <tr>\n",
       "      <th>3</th>\n",
       "      <td>3</td>\n",
       "      <td>CBL</td>\n",
       "      <td>N454D</td>\n",
       "      <td>Recent evidence has demonstrated that acquired...</td>\n",
       "    </tr>\n",
       "    <tr>\n",
       "      <th>4</th>\n",
       "      <td>4</td>\n",
       "      <td>CBL</td>\n",
       "      <td>L399V</td>\n",
       "      <td>Oncogenic mutations in the monomeric Casitas B...</td>\n",
       "    </tr>\n",
       "  </tbody>\n",
       "</table>\n",
       "</div>"
      ],
      "text/plain": [
       "   ID    Gene             Variation  \\\n",
       "0   0  FAM58A  Truncating Mutations   \n",
       "1   1     CBL                 W802*   \n",
       "2   2     CBL                 Q249E   \n",
       "3   3     CBL                 N454D   \n",
       "4   4     CBL                 L399V   \n",
       "\n",
       "                                                Text  \n",
       "0  Cyclin-dependent kinases (CDKs) regulate a var...  \n",
       "1   Abstract Background  Non-small cell lung canc...  \n",
       "2   Abstract Background  Non-small cell lung canc...  \n",
       "3  Recent evidence has demonstrated that acquired...  \n",
       "4  Oncogenic mutations in the monomeric Casitas B...  "
      ]
     },
     "execution_count": 9,
     "metadata": {},
     "output_type": "execute_result"
    }
   ],
   "source": [
    "x_train.head()"
   ]
  },
  {
   "cell_type": "code",
   "execution_count": 10,
   "metadata": {
    "collapsed": false
   },
   "outputs": [
    {
     "data": {
      "text/html": [
       "<div>\n",
       "<table border=\"1\" class=\"dataframe\">\n",
       "  <thead>\n",
       "    <tr style=\"text-align: right;\">\n",
       "      <th></th>\n",
       "      <th>ID</th>\n",
       "      <th>Gene</th>\n",
       "      <th>Variation</th>\n",
       "      <th>Text</th>\n",
       "    </tr>\n",
       "  </thead>\n",
       "  <tbody>\n",
       "    <tr>\n",
       "      <th>0</th>\n",
       "      <td>0</td>\n",
       "      <td>ACSL4</td>\n",
       "      <td>R570S</td>\n",
       "      <td>2. This mutation resulted in a myeloproliferat...</td>\n",
       "    </tr>\n",
       "    <tr>\n",
       "      <th>1</th>\n",
       "      <td>1</td>\n",
       "      <td>NAGLU</td>\n",
       "      <td>P521L</td>\n",
       "      <td>Abstract The Large Tumor Suppressor 1 (LATS1)...</td>\n",
       "    </tr>\n",
       "    <tr>\n",
       "      <th>2</th>\n",
       "      <td>2</td>\n",
       "      <td>PAH</td>\n",
       "      <td>L333F</td>\n",
       "      <td>Vascular endothelial growth factor receptor (V...</td>\n",
       "    </tr>\n",
       "    <tr>\n",
       "      <th>3</th>\n",
       "      <td>3</td>\n",
       "      <td>ING1</td>\n",
       "      <td>A148D</td>\n",
       "      <td>Inflammatory myofibroblastic tumor (IMT) is a ...</td>\n",
       "    </tr>\n",
       "    <tr>\n",
       "      <th>4</th>\n",
       "      <td>4</td>\n",
       "      <td>TMEM216</td>\n",
       "      <td>G77A</td>\n",
       "      <td>Abstract Retinoblastoma is a pediatric retina...</td>\n",
       "    </tr>\n",
       "  </tbody>\n",
       "</table>\n",
       "</div>"
      ],
      "text/plain": [
       "   ID     Gene Variation                                               Text\n",
       "0   0    ACSL4     R570S  2. This mutation resulted in a myeloproliferat...\n",
       "1   1    NAGLU     P521L   Abstract The Large Tumor Suppressor 1 (LATS1)...\n",
       "2   2      PAH     L333F  Vascular endothelial growth factor receptor (V...\n",
       "3   3     ING1     A148D  Inflammatory myofibroblastic tumor (IMT) is a ...\n",
       "4   4  TMEM216      G77A   Abstract Retinoblastoma is a pediatric retina..."
      ]
     },
     "execution_count": 10,
     "metadata": {},
     "output_type": "execute_result"
    }
   ],
   "source": [
    "x_test = pd.merge(test_variant, test_text, how='left', on='ID')\n",
    "test_index = x_test['ID'].values\n",
    "x_test.head()"
   ]
  },
  {
   "cell_type": "code",
   "execution_count": 11,
   "metadata": {
    "collapsed": false
   },
   "outputs": [
    {
     "data": {
      "text/html": [
       "<div>\n",
       "<table border=\"1\" class=\"dataframe\">\n",
       "  <thead>\n",
       "    <tr style=\"text-align: right;\">\n",
       "      <th></th>\n",
       "      <th>ID</th>\n",
       "      <th>Gene</th>\n",
       "      <th>Variation</th>\n",
       "      <th>Text</th>\n",
       "    </tr>\n",
       "  </thead>\n",
       "  <tbody>\n",
       "    <tr>\n",
       "      <th>0</th>\n",
       "      <td>0</td>\n",
       "      <td>FAM58A</td>\n",
       "      <td>Truncating Mutations</td>\n",
       "      <td>Cyclin-dependent kinases (CDKs) regulate a var...</td>\n",
       "    </tr>\n",
       "    <tr>\n",
       "      <th>1</th>\n",
       "      <td>1</td>\n",
       "      <td>CBL</td>\n",
       "      <td>W802*</td>\n",
       "      <td>Abstract Background  Non-small cell lung canc...</td>\n",
       "    </tr>\n",
       "    <tr>\n",
       "      <th>2</th>\n",
       "      <td>2</td>\n",
       "      <td>CBL</td>\n",
       "      <td>Q249E</td>\n",
       "      <td>Abstract Background  Non-small cell lung canc...</td>\n",
       "    </tr>\n",
       "    <tr>\n",
       "      <th>3</th>\n",
       "      <td>3</td>\n",
       "      <td>CBL</td>\n",
       "      <td>N454D</td>\n",
       "      <td>Recent evidence has demonstrated that acquired...</td>\n",
       "    </tr>\n",
       "    <tr>\n",
       "      <th>4</th>\n",
       "      <td>4</td>\n",
       "      <td>CBL</td>\n",
       "      <td>L399V</td>\n",
       "      <td>Oncogenic mutations in the monomeric Casitas B...</td>\n",
       "    </tr>\n",
       "  </tbody>\n",
       "</table>\n",
       "</div>"
      ],
      "text/plain": [
       "  ID    Gene             Variation  \\\n",
       "0  0  FAM58A  Truncating Mutations   \n",
       "1  1     CBL                 W802*   \n",
       "2  2     CBL                 Q249E   \n",
       "3  3     CBL                 N454D   \n",
       "4  4     CBL                 L399V   \n",
       "\n",
       "                                                Text  \n",
       "0  Cyclin-dependent kinases (CDKs) regulate a var...  \n",
       "1   Abstract Background  Non-small cell lung canc...  \n",
       "2   Abstract Background  Non-small cell lung canc...  \n",
       "3  Recent evidence has demonstrated that acquired...  \n",
       "4  Oncogenic mutations in the monomeric Casitas B...  "
      ]
     },
     "execution_count": 11,
     "metadata": {},
     "output_type": "execute_result"
    }
   ],
   "source": [
    "data = np.concatenate((x_train, x_test), axis=0)\n",
    "data=pd.DataFrame(data)\n",
    "data.columns = [\"ID\", \"Gene\", \"Variation\", \"Text\"]\n",
    "data.head()"
   ]
  },
  {
   "cell_type": "code",
   "execution_count": 12,
   "metadata": {
    "collapsed": false
   },
   "outputs": [
    {
     "data": {
      "text/plain": [
       "(8989, 4)"
      ]
     },
     "execution_count": 12,
     "metadata": {},
     "output_type": "execute_result"
    }
   ],
   "source": [
    "data.shape"
   ]
  },
  {
   "cell_type": "code",
   "execution_count": 13,
   "metadata": {
    "collapsed": true
   },
   "outputs": [],
   "source": [
    "from sklearn.feature_extraction.text import TfidfVectorizer"
   ]
  },
  {
   "cell_type": "code",
   "execution_count": 14,
   "metadata": {
    "collapsed": false
   },
   "outputs": [],
   "source": [
    "#TFIDF\n",
    "mod=TfidfVectorizer(min_df=5, max_features=500, stop_words='english')\n",
    "mod_TD=mod.fit_transform(data.Text)"
   ]
  },
  {
   "cell_type": "code",
   "execution_count": 15,
   "metadata": {
    "collapsed": true
   },
   "outputs": [],
   "source": [
    "from sklearn.decomposition import TruncatedSVD"
   ]
  },
  {
   "cell_type": "code",
   "execution_count": 16,
   "metadata": {
    "collapsed": false
   },
   "outputs": [],
   "source": [
    "#SVD features\n",
    "SVD=TruncatedSVD(200,random_state=41)\n",
    "SVD_FIT=SVD.fit_transform(mod_TD)\n",
    "yet_to_complete=pd.DataFrame(SVD_FIT)"
   ]
  },
  {
   "cell_type": "code",
   "execution_count": 17,
   "metadata": {
    "collapsed": true
   },
   "outputs": [],
   "source": [
    "from sklearn import preprocessing"
   ]
  },
  {
   "cell_type": "code",
   "execution_count": 18,
   "metadata": {
    "collapsed": false
   },
   "outputs": [],
   "source": [
    "#data.drop(data.columns[[0,3]],inplace=True, axis=1)\n",
    "#as Gene and Variation data values are just scattered like IDS, i dont think these give u great info about the prediction\n",
    "encoder = preprocessing.LabelEncoder()\n",
    "y_train = train['Class'].values\n",
    "encoder.fit(y_train)\n",
    "encoded_y = encoder.transform(y_train)"
   ]
  },
  {
   "cell_type": "code",
   "execution_count": 19,
   "metadata": {
    "collapsed": false
   },
   "outputs": [
    {
     "data": {
      "text/plain": [
       "array([1, 2, 2, ..., 1, 4, 4], dtype=int64)"
      ]
     },
     "execution_count": 19,
     "metadata": {},
     "output_type": "execute_result"
    }
   ],
   "source": [
    "y_train"
   ]
  },
  {
   "cell_type": "code",
   "execution_count": 20,
   "metadata": {
    "collapsed": false
   },
   "outputs": [
    {
     "data": {
      "text/plain": [
       "array([0, 1, 1, ..., 0, 3, 3], dtype=int64)"
      ]
     },
     "execution_count": 20,
     "metadata": {},
     "output_type": "execute_result"
    }
   ],
   "source": [
    "encoded_y"
   ]
  },
  {
   "cell_type": "code",
   "execution_count": 21,
   "metadata": {
    "collapsed": true
   },
   "outputs": [],
   "source": [
    "X_Train=yet_to_complete[:2700]\n",
    "Y_Train=encoded_y[:2700]\n",
    "X_Test=yet_to_complete[2700:3321]\n",
    "Y_Test=encoded_y[2700:3321]"
   ]
  },
  {
   "cell_type": "markdown",
   "metadata": {},
   "source": [
    "Tune XGboost"
   ]
  },
  {
   "cell_type": "markdown",
   "metadata": {},
   "source": [
    "1 Tune max_depth and min_child_weight"
   ]
  },
  {
   "cell_type": "code",
   "execution_count": 23,
   "metadata": {
    "collapsed": false
   },
   "outputs": [
    {
     "name": "stderr",
     "output_type": "stream",
     "text": [
      "C:\\Program Files\\Anaconda3\\lib\\site-packages\\sklearn\\cross_validation.py:44: DeprecationWarning: This module was deprecated in version 0.18 in favor of the model_selection module into which all the refactored classes and functions are moved. Also note that the interface of the new CV iterators are different from that of this module. This module will be removed in 0.20.\n",
      "  \"This module will be removed in 0.20.\", DeprecationWarning)\n"
     ]
    }
   ],
   "source": [
    "import pandas as pd\n",
    "import numpy as np\n",
    "import xgboost as xgb\n",
    "from sklearn import cross_validation, metrics   #Additional scklearn functions\n",
    "from xgboost.sklearn import XGBClassifier\n",
    "from sklearn.metrics import make_scorer\n",
    "from sklearn.model_selection import GridSearchCV\n",
    "from sklearn.cross_validation import ShuffleSplit\n",
    "from sklearn.metrics import log_loss\n",
    "import time"
   ]
  },
  {
   "cell_type": "code",
   "execution_count": 75,
   "metadata": {
    "collapsed": false
   },
   "outputs": [
    {
     "name": "stdout",
     "output_type": "stream",
     "text": [
      "[mean: -1.64314, std: 0.12174, params: {'max_depth': 3, 'min_child_weight': 1}, mean: -1.63337, std: 0.11299, params: {'max_depth': 3, 'min_child_weight': 3}, mean: -1.63167, std: 0.10955, params: {'max_depth': 3, 'min_child_weight': 5}, mean: -1.75748, std: 0.16160, params: {'max_depth': 5, 'min_child_weight': 1}, mean: -1.73040, std: 0.13626, params: {'max_depth': 5, 'min_child_weight': 3}, mean: -1.72278, std: 0.13731, params: {'max_depth': 5, 'min_child_weight': 5}, mean: -1.87715, std: 0.18842, params: {'max_depth': 7, 'min_child_weight': 1}, mean: -1.81128, std: 0.17085, params: {'max_depth': 7, 'min_child_weight': 3}, mean: -1.77982, std: 0.15380, params: {'max_depth': 7, 'min_child_weight': 5}, mean: -1.91990, std: 0.20536, params: {'max_depth': 9, 'min_child_weight': 1}, mean: -1.85560, std: 0.16665, params: {'max_depth': 9, 'min_child_weight': 3}, mean: -1.81193, std: 0.15868, params: {'max_depth': 9, 'min_child_weight': 5}]\n",
      "{'max_depth': 3, 'min_child_weight': 5}\n",
      "-1.6316701228\n",
      "1.66235414037\n",
      "748.2407968044281\n"
     ]
    },
    {
     "name": "stderr",
     "output_type": "stream",
     "text": [
      "C:\\Program Files\\Anaconda3\\lib\\site-packages\\sklearn\\model_selection\\_search.py:667: DeprecationWarning: The grid_scores_ attribute was deprecated in version 0.18 in favor of the more elaborate cv_results_ attribute. The grid_scores_ attribute will not be available from 0.20\n",
      "  DeprecationWarning)\n"
     ]
    }
   ],
   "source": [
    "import pandas as pd\n",
    "import numpy as np\n",
    "import xgboost as xgb\n",
    "from sklearn import cross_validation, metrics   #Additional scklearn functions\n",
    "from xgboost.sklearn import XGBClassifier\n",
    "from sklearn.metrics import make_scorer\n",
    "from sklearn.model_selection import GridSearchCV\n",
    "from sklearn.cross_validation import ShuffleSplit\n",
    "from sklearn.metrics import log_loss\n",
    "import time\n",
    "start = time.time()\n",
    "\n",
    "param_test1 = {\n",
    " 'max_depth':range(3,10,2),\n",
    " 'min_child_weight':range(1,6,2)\n",
    "}\n",
    "grid = GridSearchCV(estimator= XGBClassifier( learning_rate =0.1, n_estimators=50, max_depth=5,\n",
    " min_child_weight=1, gamma=0, subsample=0.8, colsample_bytree=0.8,\n",
    " objective= 'multi:softprob', nthread=4, scale_pos_weight=1, seed=27), \n",
    " param_grid = param_test1, scoring='log_loss',n_jobs=4,iid=False, cv=5)\n",
    "\n",
    "grid.fit(X_Train,Y_Train)\n",
    "\n",
    "print(grid.grid_scores_)\n",
    "print(grid.best_params_)\n",
    "print(grid.best_score_)\n",
    "\n",
    "#grid = grid.fit(X_train, Y_train)\n",
    "model=grid.best_estimator_\n",
    "\n",
    "y_pred = model.predict_proba(X_Test)\n",
    "print(log_loss( Y_Test,y_pred))\n",
    "\n",
    "print(time.time() - start) "
   ]
  },
  {
   "cell_type": "code",
   "execution_count": 76,
   "metadata": {
    "collapsed": false
   },
   "outputs": [
    {
     "name": "stdout",
     "output_type": "stream",
     "text": [
      "[mean: -1.61567, std: 0.07891, params: {'max_depth': 1, 'min_child_weight': 4}, mean: -1.61258, std: 0.08158, params: {'max_depth': 1, 'min_child_weight': 5}, mean: -1.61235, std: 0.08368, params: {'max_depth': 1, 'min_child_weight': 6}, mean: -1.61087, std: 0.08901, params: {'max_depth': 1, 'min_child_weight': 7}, mean: -1.60002, std: 0.09908, params: {'max_depth': 2, 'min_child_weight': 4}, mean: -1.60069, std: 0.09626, params: {'max_depth': 2, 'min_child_weight': 5}, mean: -1.59768, std: 0.10106, params: {'max_depth': 2, 'min_child_weight': 6}, mean: -1.59514, std: 0.10499, params: {'max_depth': 2, 'min_child_weight': 7}, mean: -1.63326, std: 0.11301, params: {'max_depth': 3, 'min_child_weight': 4}, mean: -1.63167, std: 0.10955, params: {'max_depth': 3, 'min_child_weight': 5}, mean: -1.63426, std: 0.11336, params: {'max_depth': 3, 'min_child_weight': 6}, mean: -1.62647, std: 0.11988, params: {'max_depth': 3, 'min_child_weight': 7}, mean: -1.67529, std: 0.12781, params: {'max_depth': 4, 'min_child_weight': 4}, mean: -1.67451, std: 0.12548, params: {'max_depth': 4, 'min_child_weight': 5}, mean: -1.66527, std: 0.12785, params: {'max_depth': 4, 'min_child_weight': 6}, mean: -1.65078, std: 0.13007, params: {'max_depth': 4, 'min_child_weight': 7}]\n",
      "{'max_depth': 2, 'min_child_weight': 7}\n",
      "-1.59513573046\n",
      "1.64051200375\n",
      "441.6192591190338\n"
     ]
    },
    {
     "name": "stderr",
     "output_type": "stream",
     "text": [
      "C:\\Program Files\\Anaconda3\\lib\\site-packages\\sklearn\\model_selection\\_search.py:667: DeprecationWarning: The grid_scores_ attribute was deprecated in version 0.18 in favor of the more elaborate cv_results_ attribute. The grid_scores_ attribute will not be available from 0.20\n",
      "  DeprecationWarning)\n"
     ]
    }
   ],
   "source": [
    "import pandas as pd\n",
    "import numpy as np\n",
    "import xgboost as xgb\n",
    "from sklearn import cross_validation, metrics   #Additional scklearn functions\n",
    "from xgboost.sklearn import XGBClassifier\n",
    "from sklearn.metrics import make_scorer\n",
    "from sklearn.model_selection import GridSearchCV\n",
    "from sklearn.cross_validation import ShuffleSplit\n",
    "from sklearn.metrics import log_loss\n",
    "import time\n",
    "start = time.time()\n",
    "\n",
    "param_test1 = {\n",
    " 'max_depth':[1,2,3,4],\n",
    " 'min_child_weight':[4,5,6,7]\n",
    "}\n",
    "grid = GridSearchCV(estimator= XGBClassifier( learning_rate =0.1, n_estimators=50, max_depth=5,\n",
    " min_child_weight=1, gamma=0, subsample=0.8, colsample_bytree=0.8,\n",
    " objective= 'multi:softprob', nthread=4, scale_pos_weight=1, seed=27), \n",
    " param_grid = param_test1, scoring='log_loss',n_jobs=4,iid=False, cv=5)\n",
    "\n",
    "grid.fit(X_Train,Y_Train)\n",
    "\n",
    "print(grid.grid_scores_)\n",
    "print(grid.best_params_)\n",
    "print(grid.best_score_)\n",
    "\n",
    "#grid = grid.fit(X_train, Y_train)\n",
    "model=grid.best_estimator_\n",
    "\n",
    "y_pred = model.predict_proba(X_Test)\n",
    "print(log_loss( Y_Test,y_pred))\n",
    "\n",
    "print(time.time() - start) "
   ]
  },
  {
   "cell_type": "code",
   "execution_count": 77,
   "metadata": {
    "collapsed": false
   },
   "outputs": [
    {
     "name": "stdout",
     "output_type": "stream",
     "text": [
      "[mean: -1.61235, std: 0.08368, params: {'max_depth': 1, 'min_child_weight': 6}, mean: -1.61087, std: 0.08901, params: {'max_depth': 1, 'min_child_weight': 7}, mean: -1.60899, std: 0.09019, params: {'max_depth': 1, 'min_child_weight': 8}, mean: -1.60874, std: 0.09000, params: {'max_depth': 1, 'min_child_weight': 9}, mean: -1.60696, std: 0.08874, params: {'max_depth': 1, 'min_child_weight': 10}, mean: -1.59768, std: 0.10106, params: {'max_depth': 2, 'min_child_weight': 6}, mean: -1.59514, std: 0.10499, params: {'max_depth': 2, 'min_child_weight': 7}, mean: -1.58845, std: 0.10693, params: {'max_depth': 2, 'min_child_weight': 8}, mean: -1.58952, std: 0.11059, params: {'max_depth': 2, 'min_child_weight': 9}, mean: -1.59129, std: 0.10090, params: {'max_depth': 2, 'min_child_weight': 10}, mean: -1.63426, std: 0.11336, params: {'max_depth': 3, 'min_child_weight': 6}, mean: -1.62647, std: 0.11988, params: {'max_depth': 3, 'min_child_weight': 7}, mean: -1.61711, std: 0.12094, params: {'max_depth': 3, 'min_child_weight': 8}, mean: -1.61506, std: 0.12033, params: {'max_depth': 3, 'min_child_weight': 9}, mean: -1.61291, std: 0.12007, params: {'max_depth': 3, 'min_child_weight': 10}]\n",
      "{'max_depth': 2, 'min_child_weight': 8}\n",
      "-1.58844969604\n",
      "1.63848116298\n",
      "325.88763976097107\n"
     ]
    },
    {
     "name": "stderr",
     "output_type": "stream",
     "text": [
      "C:\\Program Files\\Anaconda3\\lib\\site-packages\\sklearn\\model_selection\\_search.py:667: DeprecationWarning: The grid_scores_ attribute was deprecated in version 0.18 in favor of the more elaborate cv_results_ attribute. The grid_scores_ attribute will not be available from 0.20\n",
      "  DeprecationWarning)\n"
     ]
    }
   ],
   "source": [
    "import pandas as pd\n",
    "import numpy as np\n",
    "import xgboost as xgb\n",
    "from sklearn import cross_validation, metrics   #Additional scklearn functions\n",
    "from xgboost.sklearn import XGBClassifier\n",
    "from sklearn.metrics import make_scorer\n",
    "from sklearn.model_selection import GridSearchCV\n",
    "from sklearn.cross_validation import ShuffleSplit\n",
    "from sklearn.metrics import log_loss\n",
    "import time\n",
    "start = time.time()\n",
    "\n",
    "param_test1 = {\n",
    " 'max_depth':[1,2,3,],\n",
    " 'min_child_weight':[6,7,8,9,10]\n",
    "}\n",
    "grid = GridSearchCV(estimator= XGBClassifier( learning_rate =0.1, n_estimators=50, max_depth=5,\n",
    " min_child_weight=1, gamma=0, subsample=0.8, colsample_bytree=0.8,\n",
    " objective= 'multi:softprob', nthread=4, scale_pos_weight=1, seed=27), \n",
    " param_grid = param_test1, scoring='log_loss',n_jobs=4,iid=False, cv=5)\n",
    "\n",
    "grid.fit(X_Train,Y_Train)\n",
    "\n",
    "print(grid.grid_scores_)\n",
    "print(grid.best_params_)\n",
    "print(grid.best_score_)\n",
    "\n",
    "#grid = grid.fit(X_train, Y_train)\n",
    "model=grid.best_estimator_\n",
    "\n",
    "y_pred = model.predict_proba(X_Test)\n",
    "print(log_loss( Y_Test,y_pred))\n",
    "\n",
    "print(time.time() - start) "
   ]
  },
  {
   "cell_type": "markdown",
   "metadata": {},
   "source": [
    "2.3 Tune gamma"
   ]
  },
  {
   "cell_type": "code",
   "execution_count": 78,
   "metadata": {
    "collapsed": false
   },
   "outputs": [
    {
     "name": "stdout",
     "output_type": "stream",
     "text": [
      "[mean: -1.58845, std: 0.10693, params: {'gamma': 0.0}, mean: -1.58843, std: 0.10691, params: {'gamma': 0.1}, mean: -1.58862, std: 0.10699, params: {'gamma': 0.2}, mean: -1.58934, std: 0.10617, params: {'gamma': 0.3}, mean: -1.58925, std: 0.10530, params: {'gamma': 0.4}, mean: -1.59081, std: 0.10434, params: {'gamma': 0.5}]\n",
      "{'gamma': 0.1}\n",
      "-1.58843051155\n",
      "1.63848116298\n",
      "158.0340392589569\n"
     ]
    },
    {
     "name": "stderr",
     "output_type": "stream",
     "text": [
      "C:\\Program Files\\Anaconda3\\lib\\site-packages\\sklearn\\model_selection\\_search.py:667: DeprecationWarning: The grid_scores_ attribute was deprecated in version 0.18 in favor of the more elaborate cv_results_ attribute. The grid_scores_ attribute will not be available from 0.20\n",
      "  DeprecationWarning)\n"
     ]
    }
   ],
   "source": [
    "start = time.time()\n",
    "\n",
    "param_test1 = {\n",
    " 'gamma':[0.0,0.1,0.2,0.3,0.4,0.5]\n",
    "}\n",
    "grid = GridSearchCV(estimator= XGBClassifier( learning_rate =0.1, n_estimators=50, max_depth=2,\n",
    " min_child_weight=8, gamma=0, subsample=0.8, colsample_bytree=0.8,\n",
    " objective= 'multi:softprob', nthread=4, scale_pos_weight=1, seed=27), \n",
    " param_grid = param_test1, scoring='log_loss',n_jobs=4,iid=False, cv=5)\n",
    "\n",
    "grid.fit(X_Train,Y_Train)\n",
    "\n",
    "print(grid.grid_scores_)\n",
    "print(grid.best_params_)\n",
    "print(grid.best_score_)\n",
    "\n",
    "#grid = grid.fit(X_train, Y_train)\n",
    "model=grid.best_estimator_\n",
    "\n",
    "y_pred = model.predict_proba(X_Test)\n",
    "print(log_loss( Y_Test,y_pred))\n",
    "\n",
    "print(time.time() - start) "
   ]
  },
  {
   "cell_type": "code",
   "execution_count": null,
   "metadata": {
    "collapsed": true
   },
   "outputs": [],
   "source": []
  },
  {
   "cell_type": "markdown",
   "metadata": {},
   "source": [
    "2.4 Tune subsample and colsample_bytree"
   ]
  },
  {
   "cell_type": "code",
   "execution_count": 80,
   "metadata": {
    "collapsed": false
   },
   "outputs": [
    {
     "name": "stdout",
     "output_type": "stream",
     "text": [
      "[mean: -1.58848, std: 0.09991, params: {'colsample_bytree': 0.6, 'subsample': 0.6}, mean: -1.58324, std: 0.11041, params: {'colsample_bytree': 0.6, 'subsample': 0.7}, mean: -1.58605, std: 0.10730, params: {'colsample_bytree': 0.6, 'subsample': 0.8}, mean: -1.59388, std: 0.10873, params: {'colsample_bytree': 0.6, 'subsample': 0.9}, mean: -1.59900, std: 0.11262, params: {'colsample_bytree': 0.6, 'subsample': 1.0}, mean: -1.60113, std: 0.10677, params: {'colsample_bytree': 0.7, 'subsample': 0.6}, mean: -1.59113, std: 0.10825, params: {'colsample_bytree': 0.7, 'subsample': 0.7}, mean: -1.58765, std: 0.10773, params: {'colsample_bytree': 0.7, 'subsample': 0.8}, mean: -1.59544, std: 0.10831, params: {'colsample_bytree': 0.7, 'subsample': 0.9}, mean: -1.59707, std: 0.10863, params: {'colsample_bytree': 0.7, 'subsample': 1.0}, mean: -1.59482, std: 0.10293, params: {'colsample_bytree': 0.8, 'subsample': 0.6}, mean: -1.59015, std: 0.10752, params: {'colsample_bytree': 0.8, 'subsample': 0.7}, mean: -1.58843, std: 0.10691, params: {'colsample_bytree': 0.8, 'subsample': 0.8}, mean: -1.59131, std: 0.10408, params: {'colsample_bytree': 0.8, 'subsample': 0.9}, mean: -1.59547, std: 0.10547, params: {'colsample_bytree': 0.8, 'subsample': 1.0}, mean: -1.59077, std: 0.10532, params: {'colsample_bytree': 0.9, 'subsample': 0.6}, mean: -1.58777, std: 0.10473, params: {'colsample_bytree': 0.9, 'subsample': 0.7}, mean: -1.58513, std: 0.10421, params: {'colsample_bytree': 0.9, 'subsample': 0.8}, mean: -1.58182, std: 0.10459, params: {'colsample_bytree': 0.9, 'subsample': 0.9}, mean: -1.59016, std: 0.10470, params: {'colsample_bytree': 0.9, 'subsample': 1.0}, mean: -1.58871, std: 0.10481, params: {'colsample_bytree': 1.0, 'subsample': 0.6}, mean: -1.59196, std: 0.10628, params: {'colsample_bytree': 1.0, 'subsample': 0.7}, mean: -1.58723, std: 0.10384, params: {'colsample_bytree': 1.0, 'subsample': 0.8}, mean: -1.59117, std: 0.10401, params: {'colsample_bytree': 1.0, 'subsample': 0.9}, mean: -1.58273, std: 0.10139, params: {'colsample_bytree': 1.0, 'subsample': 1.0}]\n",
      "{'colsample_bytree': 0.9, 'subsample': 0.9}\n",
      "-1.58182144152\n",
      "1.63989172614\n",
      "531.6144065856934\n"
     ]
    },
    {
     "name": "stderr",
     "output_type": "stream",
     "text": [
      "C:\\Program Files\\Anaconda3\\lib\\site-packages\\sklearn\\model_selection\\_search.py:667: DeprecationWarning: The grid_scores_ attribute was deprecated in version 0.18 in favor of the more elaborate cv_results_ attribute. The grid_scores_ attribute will not be available from 0.20\n",
      "  DeprecationWarning)\n"
     ]
    }
   ],
   "source": [
    "start = time.time()\n",
    "\n",
    "param_test1 = {\n",
    " 'subsample':[0.6,0.7,0.8,0.9,1.0], 'colsample_bytree':[0.6,0.7,0.8,0.9,1.0]\n",
    "}\n",
    "grid = GridSearchCV(estimator= XGBClassifier( learning_rate =0.1, n_estimators=50, max_depth=2,\n",
    " min_child_weight=8, gamma=0.1, subsample=0.8, colsample_bytree=0.8,\n",
    " objective= 'multi:softprob', nthread=4, scale_pos_weight=1, seed=27), \n",
    " param_grid = param_test1, scoring='log_loss',n_jobs=4,iid=False, cv=5)\n",
    "\n",
    "grid.fit(X_Train,Y_Train)\n",
    "\n",
    "print(grid.grid_scores_)\n",
    "print(grid.best_params_)\n",
    "print(grid.best_score_)\n",
    "\n",
    "#grid = grid.fit(X_train, Y_train)\n",
    "model=grid.best_estimator_\n",
    "\n",
    "y_pred = model.predict_proba(X_Test)\n",
    "print(log_loss( Y_Test,y_pred))\n",
    "\n",
    "print(time.time() - start) "
   ]
  },
  {
   "cell_type": "markdown",
   "metadata": {},
   "source": [
    "2.5 Tune Tuning Regularization Parameters"
   ]
  },
  {
   "cell_type": "code",
   "execution_count": 81,
   "metadata": {
    "collapsed": false
   },
   "outputs": [
    {
     "name": "stdout",
     "output_type": "stream",
     "text": [
      "[mean: -1.58182, std: 0.10459, params: {'reg_alpha': 0}, mean: -1.58182, std: 0.10459, params: {'reg_alpha': 0.0001}, mean: -1.58162, std: 0.10430, params: {'reg_alpha': 0.001}, mean: -1.58227, std: 0.10262, params: {'reg_alpha': 0.01}, mean: -1.58682, std: 0.10517, params: {'reg_alpha': 0.1}, mean: -1.58608, std: 0.10626, params: {'reg_alpha': 1}, mean: -1.58982, std: 0.09959, params: {'reg_alpha': 10}, mean: -1.81109, std: 0.03861, params: {'reg_alpha': 100}]\n",
      "{'reg_alpha': 0.001}\n",
      "-1.58161616692\n",
      "1.63986522617\n",
      "191.71596550941467\n"
     ]
    },
    {
     "name": "stderr",
     "output_type": "stream",
     "text": [
      "C:\\Program Files\\Anaconda3\\lib\\site-packages\\sklearn\\model_selection\\_search.py:667: DeprecationWarning: The grid_scores_ attribute was deprecated in version 0.18 in favor of the more elaborate cv_results_ attribute. The grid_scores_ attribute will not be available from 0.20\n",
      "  DeprecationWarning)\n"
     ]
    }
   ],
   "source": [
    "start = time.time()\n",
    "\n",
    "param_test1 = {\n",
    " 'reg_alpha':[0,0.0001,0.001, 0.01, 0.1, 1,10, 100]\n",
    "}\n",
    "grid = GridSearchCV(estimator= XGBClassifier( learning_rate =0.1, n_estimators=50, max_depth=2,\n",
    " min_child_weight=8, gamma=0.1, subsample=0.9, colsample_bytree=0.9,\n",
    " objective= 'multi:softprob', nthread=4, scale_pos_weight=1, seed=27), \n",
    " param_grid = param_test1, scoring='log_loss',n_jobs=4,iid=False, cv=5)\n",
    "\n",
    "grid.fit(X_Train,Y_Train)\n",
    "\n",
    "print(grid.grid_scores_)\n",
    "print(grid.best_params_)\n",
    "print(grid.best_score_)\n",
    "\n",
    "#grid = grid.fit(X_train, Y_train)\n",
    "model=grid.best_estimator_\n",
    "\n",
    "y_pred = model.predict_proba(X_Test)\n",
    "print(log_loss( Y_Test,y_pred))\n",
    "\n",
    "print(time.time() - start) "
   ]
  },
  {
   "cell_type": "code",
   "execution_count": null,
   "metadata": {
    "collapsed": true
   },
   "outputs": [],
   "source": []
  },
  {
   "cell_type": "markdown",
   "metadata": {},
   "source": [
    "2.6 Reducing Learning Rate re-calibrate the number of boosting rounds"
   ]
  },
  {
   "cell_type": "code",
   "execution_count": 82,
   "metadata": {
    "collapsed": false
   },
   "outputs": [
    {
     "name": "stdout",
     "output_type": "stream",
     "text": [
      "[mean: -1.93679, std: 0.03969, params: {'n_estimators': 50}, mean: -1.79973, std: 0.06082, params: {'n_estimators': 100}, mean: -1.61490, std: 0.09063, params: {'n_estimators': 300}, mean: -1.58443, std: 0.10415, params: {'n_estimators': 500}, mean: -1.58770, std: 0.11590, params: {'n_estimators': 700}, mean: -1.61258, std: 0.12722, params: {'n_estimators': 1000}, mean: -1.70785, std: 0.15774, params: {'n_estimators': 2000}, mean: -1.80898, std: 0.18192, params: {'n_estimators': 3000}, mean: -1.90401, std: 0.20212, params: {'n_estimators': 4000}, mean: -1.99316, std: 0.22057, params: {'n_estimators': 5000}]\n",
      "{'n_estimators': 500}\n",
      "-1.58443174497\n",
      "1.6187840573\n",
      "7373.850759983063\n"
     ]
    },
    {
     "name": "stderr",
     "output_type": "stream",
     "text": [
      "C:\\Program Files\\Anaconda3\\lib\\site-packages\\sklearn\\model_selection\\_search.py:667: DeprecationWarning: The grid_scores_ attribute was deprecated in version 0.18 in favor of the more elaborate cv_results_ attribute. The grid_scores_ attribute will not be available from 0.20\n",
      "  DeprecationWarning)\n"
     ]
    }
   ],
   "source": [
    "start = time.time()\n",
    "\n",
    "param_test1 = {\n",
    " 'n_estimators':[50,100,300,500,700,1000,2000,3000,4000,5000]\n",
    "}\n",
    "grid = GridSearchCV(estimator= XGBClassifier( learning_rate =0.01, n_estimators=50, max_depth=2,\n",
    " min_child_weight=8, gamma=0.1, subsample=0.9, colsample_bytree=0.9,reg_alpha=0.001,\n",
    " objective= 'multi:softprob', nthread=4, scale_pos_weight=1, seed=27), \n",
    " param_grid = param_test1, scoring='log_loss',n_jobs=4,iid=False, cv=5)\n",
    "\n",
    "grid.fit(X_Train,Y_Train)\n",
    "\n",
    "print(grid.grid_scores_)\n",
    "print(grid.best_params_)\n",
    "print(grid.best_score_)\n",
    "\n",
    "#grid = grid.fit(X_train, Y_train)\n",
    "model=grid.best_estimator_\n",
    "\n",
    "y_pred = model.predict_proba(X_Test)\n",
    "print(log_loss( Y_Test,y_pred))\n",
    "\n",
    "print(time.time() - start) "
   ]
  },
  {
   "cell_type": "code",
   "execution_count": null,
   "metadata": {
    "collapsed": true
   },
   "outputs": [],
   "source": []
  },
  {
   "cell_type": "code",
   "execution_count": null,
   "metadata": {
    "collapsed": true
   },
   "outputs": [],
   "source": []
  },
  {
   "cell_type": "code",
   "execution_count": 39,
   "metadata": {
    "collapsed": true
   },
   "outputs": [],
   "source": [
    "model=XGBClassifier( learning_rate =0.01, n_estimators=500, max_depth=2,\n",
    " min_child_weight=8, gamma=0.1, subsample=0.9, colsample_bytree=0.9,reg_alpha=0.001,\n",
    " objective= 'multi:softprob', nthread=4, scale_pos_weight=1, seed=27)"
   ]
  },
  {
   "cell_type": "code",
   "execution_count": 36,
   "metadata": {
    "collapsed": false
   },
   "outputs": [
    {
     "data": {
      "text/plain": [
       "XGBClassifier(base_score=0.5, colsample_bylevel=1, colsample_bytree=0.9,\n",
       "       gamma=0.1, learning_rate=0.01, max_delta_step=0, max_depth=2,\n",
       "       min_child_weight=8, missing=None, n_estimators=500, nthread=4,\n",
       "       objective='multi:softprob', reg_alpha=0.001, reg_lambda=1,\n",
       "       scale_pos_weight=1, seed=27, silent=True, subsample=0.9)"
      ]
     },
     "execution_count": 36,
     "metadata": {},
     "output_type": "execute_result"
    }
   ],
   "source": [
    "model.fit(yet_to_complete[:3321],encoded_y)"
   ]
  },
  {
   "cell_type": "code",
   "execution_count": 89,
   "metadata": {
    "collapsed": true
   },
   "outputs": [],
   "source": [
    "#predictions\n",
    "y_pred=gbm1.predict_proba(yet_to_complete[3321:])"
   ]
  },
  {
   "cell_type": "code",
   "execution_count": 38,
   "metadata": {
    "collapsed": true
   },
   "outputs": [],
   "source": [
    "#tweaking the submission file as required\n",
    "subm_file = pd.DataFrame(y_pred)\n",
    "subm_file['id'] = test_index\n",
    "subm_file.columns = ['class1', 'class2', 'class3', 'class4', 'class5', 'class6', 'class7', 'class8', 'class9', 'id']\n",
    "subm_file.to_csv(\"submission.csv\",index=False)"
   ]
  },
  {
   "cell_type": "markdown",
   "metadata": {
    "collapsed": true
   },
   "source": [
    "scored 1.82637"
   ]
  }
 ],
 "metadata": {
  "anaconda-cloud": {},
  "kernelspec": {
   "display_name": "Python [conda root]",
   "language": "python",
   "name": "conda-root-py"
  },
  "language_info": {
   "codemirror_mode": {
    "name": "ipython",
    "version": 3
   },
   "file_extension": ".py",
   "mimetype": "text/x-python",
   "name": "python",
   "nbconvert_exporter": "python",
   "pygments_lexer": "ipython3",
   "version": "3.5.2"
  }
 },
 "nbformat": 4,
 "nbformat_minor": 1
}
