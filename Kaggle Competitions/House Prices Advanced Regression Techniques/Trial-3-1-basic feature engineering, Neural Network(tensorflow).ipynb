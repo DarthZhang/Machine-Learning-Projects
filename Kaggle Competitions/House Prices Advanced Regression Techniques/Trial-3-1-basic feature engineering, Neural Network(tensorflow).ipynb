{
 "cells": [
  {
   "cell_type": "code",
   "execution_count": 49,
   "metadata": {
    "collapsed": true
   },
   "outputs": [],
   "source": [
    "import numpy as np\n",
    "import pandas as pd\n",
    "data_train=pd.read_csv('train.csv')\n",
    "target_data=data_train['SalePrice']\n",
    "data_train=data_train.drop('SalePrice', axis = 1)\n",
    "\n",
    "\n",
    "data_test=pd.read_csv('test.csv')\n",
    "combine=[data_train,data_test]\n",
    "data = pd.concat(combine)"
   ]
  },
  {
   "cell_type": "markdown",
   "metadata": {},
   "source": [
    "# Data Analysis"
   ]
  },
  {
   "cell_type": "code",
   "execution_count": 50,
   "metadata": {
    "collapsed": false
   },
   "outputs": [
    {
     "data": {
      "text/html": [
       "<div>\n",
       "<style>\n",
       "    .dataframe thead tr:only-child th {\n",
       "        text-align: right;\n",
       "    }\n",
       "\n",
       "    .dataframe thead th {\n",
       "        text-align: left;\n",
       "    }\n",
       "\n",
       "    .dataframe tbody tr th {\n",
       "        vertical-align: top;\n",
       "    }\n",
       "</style>\n",
       "<table border=\"1\" class=\"dataframe\">\n",
       "  <thead>\n",
       "    <tr style=\"text-align: right;\">\n",
       "      <th></th>\n",
       "      <th>Id</th>\n",
       "      <th>MSSubClass</th>\n",
       "      <th>MSZoning</th>\n",
       "      <th>LotFrontage</th>\n",
       "      <th>LotArea</th>\n",
       "      <th>Street</th>\n",
       "      <th>Alley</th>\n",
       "      <th>LotShape</th>\n",
       "      <th>LandContour</th>\n",
       "      <th>Utilities</th>\n",
       "      <th>...</th>\n",
       "      <th>ScreenPorch</th>\n",
       "      <th>PoolArea</th>\n",
       "      <th>PoolQC</th>\n",
       "      <th>Fence</th>\n",
       "      <th>MiscFeature</th>\n",
       "      <th>MiscVal</th>\n",
       "      <th>MoSold</th>\n",
       "      <th>YrSold</th>\n",
       "      <th>SaleType</th>\n",
       "      <th>SaleCondition</th>\n",
       "    </tr>\n",
       "  </thead>\n",
       "  <tbody>\n",
       "    <tr>\n",
       "      <th>0</th>\n",
       "      <td>1</td>\n",
       "      <td>60</td>\n",
       "      <td>RL</td>\n",
       "      <td>65.0</td>\n",
       "      <td>8450</td>\n",
       "      <td>Pave</td>\n",
       "      <td>NaN</td>\n",
       "      <td>Reg</td>\n",
       "      <td>Lvl</td>\n",
       "      <td>AllPub</td>\n",
       "      <td>...</td>\n",
       "      <td>0</td>\n",
       "      <td>0</td>\n",
       "      <td>NaN</td>\n",
       "      <td>NaN</td>\n",
       "      <td>NaN</td>\n",
       "      <td>0</td>\n",
       "      <td>2</td>\n",
       "      <td>2008</td>\n",
       "      <td>WD</td>\n",
       "      <td>Normal</td>\n",
       "    </tr>\n",
       "    <tr>\n",
       "      <th>1</th>\n",
       "      <td>2</td>\n",
       "      <td>20</td>\n",
       "      <td>RL</td>\n",
       "      <td>80.0</td>\n",
       "      <td>9600</td>\n",
       "      <td>Pave</td>\n",
       "      <td>NaN</td>\n",
       "      <td>Reg</td>\n",
       "      <td>Lvl</td>\n",
       "      <td>AllPub</td>\n",
       "      <td>...</td>\n",
       "      <td>0</td>\n",
       "      <td>0</td>\n",
       "      <td>NaN</td>\n",
       "      <td>NaN</td>\n",
       "      <td>NaN</td>\n",
       "      <td>0</td>\n",
       "      <td>5</td>\n",
       "      <td>2007</td>\n",
       "      <td>WD</td>\n",
       "      <td>Normal</td>\n",
       "    </tr>\n",
       "    <tr>\n",
       "      <th>2</th>\n",
       "      <td>3</td>\n",
       "      <td>60</td>\n",
       "      <td>RL</td>\n",
       "      <td>68.0</td>\n",
       "      <td>11250</td>\n",
       "      <td>Pave</td>\n",
       "      <td>NaN</td>\n",
       "      <td>IR1</td>\n",
       "      <td>Lvl</td>\n",
       "      <td>AllPub</td>\n",
       "      <td>...</td>\n",
       "      <td>0</td>\n",
       "      <td>0</td>\n",
       "      <td>NaN</td>\n",
       "      <td>NaN</td>\n",
       "      <td>NaN</td>\n",
       "      <td>0</td>\n",
       "      <td>9</td>\n",
       "      <td>2008</td>\n",
       "      <td>WD</td>\n",
       "      <td>Normal</td>\n",
       "    </tr>\n",
       "    <tr>\n",
       "      <th>3</th>\n",
       "      <td>4</td>\n",
       "      <td>70</td>\n",
       "      <td>RL</td>\n",
       "      <td>60.0</td>\n",
       "      <td>9550</td>\n",
       "      <td>Pave</td>\n",
       "      <td>NaN</td>\n",
       "      <td>IR1</td>\n",
       "      <td>Lvl</td>\n",
       "      <td>AllPub</td>\n",
       "      <td>...</td>\n",
       "      <td>0</td>\n",
       "      <td>0</td>\n",
       "      <td>NaN</td>\n",
       "      <td>NaN</td>\n",
       "      <td>NaN</td>\n",
       "      <td>0</td>\n",
       "      <td>2</td>\n",
       "      <td>2006</td>\n",
       "      <td>WD</td>\n",
       "      <td>Abnorml</td>\n",
       "    </tr>\n",
       "    <tr>\n",
       "      <th>4</th>\n",
       "      <td>5</td>\n",
       "      <td>60</td>\n",
       "      <td>RL</td>\n",
       "      <td>84.0</td>\n",
       "      <td>14260</td>\n",
       "      <td>Pave</td>\n",
       "      <td>NaN</td>\n",
       "      <td>IR1</td>\n",
       "      <td>Lvl</td>\n",
       "      <td>AllPub</td>\n",
       "      <td>...</td>\n",
       "      <td>0</td>\n",
       "      <td>0</td>\n",
       "      <td>NaN</td>\n",
       "      <td>NaN</td>\n",
       "      <td>NaN</td>\n",
       "      <td>0</td>\n",
       "      <td>12</td>\n",
       "      <td>2008</td>\n",
       "      <td>WD</td>\n",
       "      <td>Normal</td>\n",
       "    </tr>\n",
       "  </tbody>\n",
       "</table>\n",
       "<p>5 rows × 80 columns</p>\n",
       "</div>"
      ],
      "text/plain": [
       "   Id  MSSubClass MSZoning  LotFrontage  LotArea Street Alley LotShape  \\\n",
       "0   1          60       RL         65.0     8450   Pave   NaN      Reg   \n",
       "1   2          20       RL         80.0     9600   Pave   NaN      Reg   \n",
       "2   3          60       RL         68.0    11250   Pave   NaN      IR1   \n",
       "3   4          70       RL         60.0     9550   Pave   NaN      IR1   \n",
       "4   5          60       RL         84.0    14260   Pave   NaN      IR1   \n",
       "\n",
       "  LandContour Utilities      ...       ScreenPorch PoolArea PoolQC Fence  \\\n",
       "0         Lvl    AllPub      ...                 0        0    NaN   NaN   \n",
       "1         Lvl    AllPub      ...                 0        0    NaN   NaN   \n",
       "2         Lvl    AllPub      ...                 0        0    NaN   NaN   \n",
       "3         Lvl    AllPub      ...                 0        0    NaN   NaN   \n",
       "4         Lvl    AllPub      ...                 0        0    NaN   NaN   \n",
       "\n",
       "  MiscFeature MiscVal MoSold  YrSold  SaleType  SaleCondition  \n",
       "0         NaN       0      2    2008        WD         Normal  \n",
       "1         NaN       0      5    2007        WD         Normal  \n",
       "2         NaN       0      9    2008        WD         Normal  \n",
       "3         NaN       0      2    2006        WD        Abnorml  \n",
       "4         NaN       0     12    2008        WD         Normal  \n",
       "\n",
       "[5 rows x 80 columns]"
      ]
     },
     "execution_count": 50,
     "metadata": {},
     "output_type": "execute_result"
    }
   ],
   "source": [
    "data.head()"
   ]
  },
  {
   "cell_type": "code",
   "execution_count": 51,
   "metadata": {
    "collapsed": false
   },
   "outputs": [
    {
     "name": "stdout",
     "output_type": "stream",
     "text": [
      "<class 'pandas.core.frame.DataFrame'>\n",
      "Int64Index: 2919 entries, 0 to 1458\n",
      "Data columns (total 80 columns):\n",
      "Id               2919 non-null int64\n",
      "MSSubClass       2919 non-null int64\n",
      "MSZoning         2915 non-null object\n",
      "LotFrontage      2433 non-null float64\n",
      "LotArea          2919 non-null int64\n",
      "Street           2919 non-null object\n",
      "Alley            198 non-null object\n",
      "LotShape         2919 non-null object\n",
      "LandContour      2919 non-null object\n",
      "Utilities        2917 non-null object\n",
      "LotConfig        2919 non-null object\n",
      "LandSlope        2919 non-null object\n",
      "Neighborhood     2919 non-null object\n",
      "Condition1       2919 non-null object\n",
      "Condition2       2919 non-null object\n",
      "BldgType         2919 non-null object\n",
      "HouseStyle       2919 non-null object\n",
      "OverallQual      2919 non-null int64\n",
      "OverallCond      2919 non-null int64\n",
      "YearBuilt        2919 non-null int64\n",
      "YearRemodAdd     2919 non-null int64\n",
      "RoofStyle        2919 non-null object\n",
      "RoofMatl         2919 non-null object\n",
      "Exterior1st      2918 non-null object\n",
      "Exterior2nd      2918 non-null object\n",
      "MasVnrType       2895 non-null object\n",
      "MasVnrArea       2896 non-null float64\n",
      "ExterQual        2919 non-null object\n",
      "ExterCond        2919 non-null object\n",
      "Foundation       2919 non-null object\n",
      "BsmtQual         2838 non-null object\n",
      "BsmtCond         2837 non-null object\n",
      "BsmtExposure     2837 non-null object\n",
      "BsmtFinType1     2840 non-null object\n",
      "BsmtFinSF1       2918 non-null float64\n",
      "BsmtFinType2     2839 non-null object\n",
      "BsmtFinSF2       2918 non-null float64\n",
      "BsmtUnfSF        2918 non-null float64\n",
      "TotalBsmtSF      2918 non-null float64\n",
      "Heating          2919 non-null object\n",
      "HeatingQC        2919 non-null object\n",
      "CentralAir       2919 non-null object\n",
      "Electrical       2918 non-null object\n",
      "1stFlrSF         2919 non-null int64\n",
      "2ndFlrSF         2919 non-null int64\n",
      "LowQualFinSF     2919 non-null int64\n",
      "GrLivArea        2919 non-null int64\n",
      "BsmtFullBath     2917 non-null float64\n",
      "BsmtHalfBath     2917 non-null float64\n",
      "FullBath         2919 non-null int64\n",
      "HalfBath         2919 non-null int64\n",
      "BedroomAbvGr     2919 non-null int64\n",
      "KitchenAbvGr     2919 non-null int64\n",
      "KitchenQual      2918 non-null object\n",
      "TotRmsAbvGrd     2919 non-null int64\n",
      "Functional       2917 non-null object\n",
      "Fireplaces       2919 non-null int64\n",
      "FireplaceQu      1499 non-null object\n",
      "GarageType       2762 non-null object\n",
      "GarageYrBlt      2760 non-null float64\n",
      "GarageFinish     2760 non-null object\n",
      "GarageCars       2918 non-null float64\n",
      "GarageArea       2918 non-null float64\n",
      "GarageQual       2760 non-null object\n",
      "GarageCond       2760 non-null object\n",
      "PavedDrive       2919 non-null object\n",
      "WoodDeckSF       2919 non-null int64\n",
      "OpenPorchSF      2919 non-null int64\n",
      "EnclosedPorch    2919 non-null int64\n",
      "3SsnPorch        2919 non-null int64\n",
      "ScreenPorch      2919 non-null int64\n",
      "PoolArea         2919 non-null int64\n",
      "PoolQC           10 non-null object\n",
      "Fence            571 non-null object\n",
      "MiscFeature      105 non-null object\n",
      "MiscVal          2919 non-null int64\n",
      "MoSold           2919 non-null int64\n",
      "YrSold           2919 non-null int64\n",
      "SaleType         2918 non-null object\n",
      "SaleCondition    2919 non-null object\n",
      "dtypes: float64(11), int64(26), object(43)\n",
      "memory usage: 1.8+ MB\n"
     ]
    }
   ],
   "source": [
    "data.info()"
   ]
  },
  {
   "cell_type": "code",
   "execution_count": 52,
   "metadata": {
    "collapsed": false
   },
   "outputs": [
    {
     "data": {
      "text/html": [
       "<div>\n",
       "<style>\n",
       "    .dataframe thead tr:only-child th {\n",
       "        text-align: right;\n",
       "    }\n",
       "\n",
       "    .dataframe thead th {\n",
       "        text-align: left;\n",
       "    }\n",
       "\n",
       "    .dataframe tbody tr th {\n",
       "        vertical-align: top;\n",
       "    }\n",
       "</style>\n",
       "<table border=\"1\" class=\"dataframe\">\n",
       "  <thead>\n",
       "    <tr style=\"text-align: right;\">\n",
       "      <th></th>\n",
       "      <th>MSZoning</th>\n",
       "      <th>Street</th>\n",
       "      <th>Alley</th>\n",
       "      <th>LotShape</th>\n",
       "      <th>LandContour</th>\n",
       "      <th>Utilities</th>\n",
       "      <th>LotConfig</th>\n",
       "      <th>LandSlope</th>\n",
       "      <th>Neighborhood</th>\n",
       "      <th>Condition1</th>\n",
       "      <th>...</th>\n",
       "      <th>GarageType</th>\n",
       "      <th>GarageFinish</th>\n",
       "      <th>GarageQual</th>\n",
       "      <th>GarageCond</th>\n",
       "      <th>PavedDrive</th>\n",
       "      <th>PoolQC</th>\n",
       "      <th>Fence</th>\n",
       "      <th>MiscFeature</th>\n",
       "      <th>SaleType</th>\n",
       "      <th>SaleCondition</th>\n",
       "    </tr>\n",
       "  </thead>\n",
       "  <tbody>\n",
       "    <tr>\n",
       "      <th>count</th>\n",
       "      <td>2915</td>\n",
       "      <td>2919</td>\n",
       "      <td>198</td>\n",
       "      <td>2919</td>\n",
       "      <td>2919</td>\n",
       "      <td>2917</td>\n",
       "      <td>2919</td>\n",
       "      <td>2919</td>\n",
       "      <td>2919</td>\n",
       "      <td>2919</td>\n",
       "      <td>...</td>\n",
       "      <td>2762</td>\n",
       "      <td>2760</td>\n",
       "      <td>2760</td>\n",
       "      <td>2760</td>\n",
       "      <td>2919</td>\n",
       "      <td>10</td>\n",
       "      <td>571</td>\n",
       "      <td>105</td>\n",
       "      <td>2918</td>\n",
       "      <td>2919</td>\n",
       "    </tr>\n",
       "    <tr>\n",
       "      <th>unique</th>\n",
       "      <td>5</td>\n",
       "      <td>2</td>\n",
       "      <td>2</td>\n",
       "      <td>4</td>\n",
       "      <td>4</td>\n",
       "      <td>2</td>\n",
       "      <td>5</td>\n",
       "      <td>3</td>\n",
       "      <td>25</td>\n",
       "      <td>9</td>\n",
       "      <td>...</td>\n",
       "      <td>6</td>\n",
       "      <td>3</td>\n",
       "      <td>5</td>\n",
       "      <td>5</td>\n",
       "      <td>3</td>\n",
       "      <td>3</td>\n",
       "      <td>4</td>\n",
       "      <td>4</td>\n",
       "      <td>9</td>\n",
       "      <td>6</td>\n",
       "    </tr>\n",
       "    <tr>\n",
       "      <th>top</th>\n",
       "      <td>RL</td>\n",
       "      <td>Pave</td>\n",
       "      <td>Grvl</td>\n",
       "      <td>Reg</td>\n",
       "      <td>Lvl</td>\n",
       "      <td>AllPub</td>\n",
       "      <td>Inside</td>\n",
       "      <td>Gtl</td>\n",
       "      <td>NAmes</td>\n",
       "      <td>Norm</td>\n",
       "      <td>...</td>\n",
       "      <td>Attchd</td>\n",
       "      <td>Unf</td>\n",
       "      <td>TA</td>\n",
       "      <td>TA</td>\n",
       "      <td>Y</td>\n",
       "      <td>Ex</td>\n",
       "      <td>MnPrv</td>\n",
       "      <td>Shed</td>\n",
       "      <td>WD</td>\n",
       "      <td>Normal</td>\n",
       "    </tr>\n",
       "    <tr>\n",
       "      <th>freq</th>\n",
       "      <td>2265</td>\n",
       "      <td>2907</td>\n",
       "      <td>120</td>\n",
       "      <td>1859</td>\n",
       "      <td>2622</td>\n",
       "      <td>2916</td>\n",
       "      <td>2133</td>\n",
       "      <td>2778</td>\n",
       "      <td>443</td>\n",
       "      <td>2511</td>\n",
       "      <td>...</td>\n",
       "      <td>1723</td>\n",
       "      <td>1230</td>\n",
       "      <td>2604</td>\n",
       "      <td>2654</td>\n",
       "      <td>2641</td>\n",
       "      <td>4</td>\n",
       "      <td>329</td>\n",
       "      <td>95</td>\n",
       "      <td>2525</td>\n",
       "      <td>2402</td>\n",
       "    </tr>\n",
       "  </tbody>\n",
       "</table>\n",
       "<p>4 rows × 43 columns</p>\n",
       "</div>"
      ],
      "text/plain": [
       "       MSZoning Street Alley LotShape LandContour Utilities LotConfig  \\\n",
       "count      2915   2919   198     2919        2919      2917      2919   \n",
       "unique        5      2     2        4           4         2         5   \n",
       "top          RL   Pave  Grvl      Reg         Lvl    AllPub    Inside   \n",
       "freq       2265   2907   120     1859        2622      2916      2133   \n",
       "\n",
       "       LandSlope Neighborhood Condition1      ...      GarageType  \\\n",
       "count       2919         2919       2919      ...            2762   \n",
       "unique         3           25          9      ...               6   \n",
       "top          Gtl        NAmes       Norm      ...          Attchd   \n",
       "freq        2778          443       2511      ...            1723   \n",
       "\n",
       "       GarageFinish GarageQual GarageCond PavedDrive PoolQC  Fence  \\\n",
       "count          2760       2760       2760       2919     10    571   \n",
       "unique            3          5          5          3      3      4   \n",
       "top             Unf         TA         TA          Y     Ex  MnPrv   \n",
       "freq           1230       2604       2654       2641      4    329   \n",
       "\n",
       "       MiscFeature SaleType SaleCondition  \n",
       "count          105     2918          2919  \n",
       "unique           4        9             6  \n",
       "top           Shed       WD        Normal  \n",
       "freq            95     2525          2402  \n",
       "\n",
       "[4 rows x 43 columns]"
      ]
     },
     "execution_count": 52,
     "metadata": {},
     "output_type": "execute_result"
    }
   ],
   "source": [
    "data.describe(include=['O'])"
   ]
  },
  {
   "cell_type": "markdown",
   "metadata": {},
   "source": [
    "# Wrangle Data"
   ]
  },
  {
   "cell_type": "markdown",
   "metadata": {},
   "source": [
    "1,Dealing with missing values"
   ]
  },
  {
   "cell_type": "code",
   "execution_count": 53,
   "metadata": {
    "collapsed": true
   },
   "outputs": [],
   "source": [
    "raw_data=data.drop('Id', axis = 1)"
   ]
  },
  {
   "cell_type": "code",
   "execution_count": 54,
   "metadata": {
    "collapsed": true
   },
   "outputs": [],
   "source": [
    "#drop \"Alley\" as it has only 91 entries\n",
    "raw_data=raw_data.drop('Alley', axis = 1)"
   ]
  },
  {
   "cell_type": "code",
   "execution_count": 55,
   "metadata": {
    "collapsed": false
   },
   "outputs": [],
   "source": [
    "# replace miss values of 'LotFrontage' with its median\n",
    "raw_data.loc[ raw_data.LotFrontage.isnull(),'LotFrontage'] =raw_data['LotFrontage'].median()\n",
    "     "
   ]
  },
  {
   "cell_type": "code",
   "execution_count": 56,
   "metadata": {
    "collapsed": false
   },
   "outputs": [
    {
     "name": "stdout",
     "output_type": "stream",
     "text": [
      "0    None\n",
      "dtype: object\n"
     ]
    }
   ],
   "source": [
    "# replace miss values of 'MasVnrType' with its mode\n",
    "print(raw_data['MasVnrType'].mode())\n",
    "raw_data.loc[ raw_data.MasVnrType.isnull(),'MasVnrType'] ='None'"
   ]
  },
  {
   "cell_type": "code",
   "execution_count": 57,
   "metadata": {
    "collapsed": false
   },
   "outputs": [
    {
     "name": "stdout",
     "output_type": "stream",
     "text": [
      "0    0.0\n",
      "dtype: float64\n"
     ]
    }
   ],
   "source": [
    "# replace miss values of 'MasVnrArea' with its mode\n",
    "print(raw_data['MasVnrArea'].mode())\n",
    "raw_data.loc[ raw_data.MasVnrArea.isnull(),'MasVnrArea'] =0.0\n"
   ]
  },
  {
   "cell_type": "code",
   "execution_count": 58,
   "metadata": {
    "collapsed": false
   },
   "outputs": [
    {
     "name": "stdout",
     "output_type": "stream",
     "text": [
      "0    TA\n",
      "dtype: object\n"
     ]
    }
   ],
   "source": [
    "# replace miss values of 'BsmtQual' with its mode\n",
    "print(raw_data['BsmtQual'].mode())\n",
    "raw_data.loc[ raw_data.BsmtQual.isnull(),'BsmtQual'] ='TA'"
   ]
  },
  {
   "cell_type": "code",
   "execution_count": 59,
   "metadata": {
    "collapsed": false
   },
   "outputs": [
    {
     "name": "stdout",
     "output_type": "stream",
     "text": [
      "0    TA\n",
      "dtype: object\n"
     ]
    }
   ],
   "source": [
    "# replace miss values of 'BsmtCond' with its mode\n",
    "print(raw_data['BsmtCond'].mode())\n",
    "raw_data.loc[ raw_data.BsmtCond.isnull(),'BsmtCond'] ='TA'"
   ]
  },
  {
   "cell_type": "code",
   "execution_count": 60,
   "metadata": {
    "collapsed": false
   },
   "outputs": [
    {
     "name": "stdout",
     "output_type": "stream",
     "text": [
      "0    No\n",
      "dtype: object\n"
     ]
    }
   ],
   "source": [
    "# replace miss values of 'BsmtExposure' with its mode\n",
    "print(raw_data['BsmtExposure'].mode())\n",
    "raw_data.loc[ raw_data.BsmtExposure.isnull(),'BsmtExposure'] ='No'"
   ]
  },
  {
   "cell_type": "code",
   "execution_count": 61,
   "metadata": {
    "collapsed": false
   },
   "outputs": [
    {
     "name": "stdout",
     "output_type": "stream",
     "text": [
      "0    Unf\n",
      "dtype: object\n"
     ]
    }
   ],
   "source": [
    "# replace miss values of 'BsmtFinType1' with its mode\n",
    "print(raw_data['BsmtFinType1'].mode())\n",
    "raw_data.loc[ raw_data.BsmtFinType1.isnull(),'BsmtFinType1'] ='Unf'"
   ]
  },
  {
   "cell_type": "code",
   "execution_count": 62,
   "metadata": {
    "collapsed": false
   },
   "outputs": [
    {
     "name": "stdout",
     "output_type": "stream",
     "text": [
      "0    Unf\n",
      "dtype: object\n"
     ]
    }
   ],
   "source": [
    "# replace miss values of 'BsmtFinType2' with its mode\n",
    "print(raw_data['BsmtFinType2'].mode())\n",
    "raw_data.loc[ raw_data.BsmtFinType2.isnull(),'BsmtFinType2'] ='Unf'"
   ]
  },
  {
   "cell_type": "code",
   "execution_count": 63,
   "metadata": {
    "collapsed": false
   },
   "outputs": [
    {
     "name": "stdout",
     "output_type": "stream",
     "text": [
      "0    SBrkr\n",
      "dtype: object\n"
     ]
    }
   ],
   "source": [
    "# replace miss values of 'BElectrical' with its mode\n",
    "print(raw_data['Electrical'].mode())\n",
    "raw_data.loc[ raw_data.Electrical.isnull(),'Electrical'] ='SBrkr'"
   ]
  },
  {
   "cell_type": "code",
   "execution_count": 64,
   "metadata": {
    "collapsed": true
   },
   "outputs": [],
   "source": [
    "#drop \"FireplaceQu\" as it has only 770 entries\n",
    "raw_data=raw_data.drop('FireplaceQu', axis = 1)"
   ]
  },
  {
   "cell_type": "code",
   "execution_count": 65,
   "metadata": {
    "collapsed": false
   },
   "outputs": [
    {
     "name": "stdout",
     "output_type": "stream",
     "text": [
      "0    Attchd\n",
      "dtype: object\n"
     ]
    }
   ],
   "source": [
    "# replace miss values of 'GarageType' with its mode\n",
    "print(raw_data['GarageType'].mode())\n",
    "raw_data.loc[ raw_data.GarageType.isnull(),'GarageType'] ='Attchd'"
   ]
  },
  {
   "cell_type": "code",
   "execution_count": 66,
   "metadata": {
    "collapsed": false
   },
   "outputs": [
    {
     "name": "stdout",
     "output_type": "stream",
     "text": [
      "0    2005.0\n",
      "dtype: float64\n"
     ]
    }
   ],
   "source": [
    "# replace miss values of 'GarageYrBlt' with its mode\n",
    "print(raw_data['GarageYrBlt'].mode())\n",
    "raw_data.loc[ raw_data.GarageYrBlt.isnull(),'GarageYrBlt'] =2005.0"
   ]
  },
  {
   "cell_type": "code",
   "execution_count": 67,
   "metadata": {
    "collapsed": false
   },
   "outputs": [
    {
     "name": "stdout",
     "output_type": "stream",
     "text": [
      "0    TA\n",
      "dtype: object\n"
     ]
    }
   ],
   "source": [
    "# replace miss values of 'GarageQual' with its mode\n",
    "print(raw_data['GarageQual'].mode())\n",
    "raw_data.loc[ raw_data.GarageQual.isnull(),'GarageQual'] ='TA'"
   ]
  },
  {
   "cell_type": "code",
   "execution_count": 68,
   "metadata": {
    "collapsed": false
   },
   "outputs": [
    {
     "name": "stdout",
     "output_type": "stream",
     "text": [
      "0    Unf\n",
      "dtype: object\n"
     ]
    }
   ],
   "source": [
    "# replace miss values of 'GarageFinish' with its mode\n",
    "print(raw_data['GarageFinish'].mode())\n",
    "raw_data.loc[ raw_data.GarageFinish.isnull(),'GarageFinish'] ='Unf'"
   ]
  },
  {
   "cell_type": "code",
   "execution_count": 69,
   "metadata": {
    "collapsed": false
   },
   "outputs": [
    {
     "name": "stdout",
     "output_type": "stream",
     "text": [
      "0    TA\n",
      "dtype: object\n"
     ]
    }
   ],
   "source": [
    "# replace miss values of 'GarageCond' with its mode\n",
    "print(raw_data['GarageCond'].mode())\n",
    "raw_data.loc[ raw_data.GarageCond.isnull(),'GarageCond'] ='TA'"
   ]
  },
  {
   "cell_type": "code",
   "execution_count": 70,
   "metadata": {
    "collapsed": false
   },
   "outputs": [],
   "source": [
    "#drop \"PoolQC \" as it has only 7 entries\n",
    "raw_data=raw_data.drop('PoolQC', axis = 1)"
   ]
  },
  {
   "cell_type": "code",
   "execution_count": 71,
   "metadata": {
    "collapsed": true
   },
   "outputs": [],
   "source": [
    "#drop \"Fence \" as it has only 281 entries\n",
    "raw_data=raw_data.drop('Fence', axis = 1)"
   ]
  },
  {
   "cell_type": "code",
   "execution_count": 72,
   "metadata": {
    "collapsed": false
   },
   "outputs": [],
   "source": [
    "#drop \"MiscFeature  \" as it has only 54 entries\n",
    "raw_data=raw_data.drop('MiscFeature', axis = 1)"
   ]
  },
  {
   "cell_type": "code",
   "execution_count": 73,
   "metadata": {
    "collapsed": false
   },
   "outputs": [
    {
     "name": "stdout",
     "output_type": "stream",
     "text": [
      "0    0.0\n",
      "dtype: float64\n"
     ]
    }
   ],
   "source": [
    "# replace miss values of 'BsmtFinSF1' with its mode\n",
    "print(raw_data['BsmtFinSF1'].mode())\n",
    "raw_data.loc[ raw_data.BsmtFinSF1.isnull(),'BsmtFinSF1'] =0.0"
   ]
  },
  {
   "cell_type": "code",
   "execution_count": 74,
   "metadata": {
    "collapsed": false
   },
   "outputs": [
    {
     "name": "stdout",
     "output_type": "stream",
     "text": [
      "0    0.0\n",
      "dtype: float64\n"
     ]
    }
   ],
   "source": [
    "# replace miss values of 'BsmtFinSF2' with its mode\n",
    "print(raw_data['BsmtFinSF2'].mode())\n",
    "raw_data.loc[ raw_data.BsmtFinSF2.isnull(),'BsmtFinSF2'] =0.0"
   ]
  },
  {
   "cell_type": "code",
   "execution_count": 75,
   "metadata": {
    "collapsed": false
   },
   "outputs": [
    {
     "name": "stdout",
     "output_type": "stream",
     "text": [
      "0    0.0\n",
      "dtype: float64\n"
     ]
    }
   ],
   "source": [
    "# replace miss values of 'BsmtFullBath' with its mode\n",
    "print(raw_data['BsmtFullBath'].mode())\n",
    "raw_data.loc[ raw_data.BsmtFullBath.isnull(),'BsmtFullBath'] =0.0"
   ]
  },
  {
   "cell_type": "code",
   "execution_count": 76,
   "metadata": {
    "collapsed": false
   },
   "outputs": [
    {
     "name": "stdout",
     "output_type": "stream",
     "text": [
      "0    0.0\n",
      "dtype: float64\n"
     ]
    }
   ],
   "source": [
    "# replace miss values of 'BsmtHalfBath' with its mode\n",
    "print(raw_data['BsmtHalfBath'].mode())\n",
    "raw_data.loc[ raw_data.BsmtHalfBath.isnull(),'BsmtHalfBath'] =0.0"
   ]
  },
  {
   "cell_type": "code",
   "execution_count": 77,
   "metadata": {
    "collapsed": false
   },
   "outputs": [
    {
     "name": "stdout",
     "output_type": "stream",
     "text": [
      "0    0.0\n",
      "dtype: float64\n"
     ]
    }
   ],
   "source": [
    "# replace miss values of 'BsmtUnfSF' with its mode\n",
    "print(raw_data['BsmtUnfSF'].mode())\n",
    "raw_data.loc[ raw_data.BsmtUnfSF.isnull(),'BsmtUnfSF'] =0.0"
   ]
  },
  {
   "cell_type": "code",
   "execution_count": 78,
   "metadata": {
    "collapsed": false
   },
   "outputs": [
    {
     "name": "stdout",
     "output_type": "stream",
     "text": [
      "0    VinylSd\n",
      "dtype: object\n"
     ]
    }
   ],
   "source": [
    "# replace miss values of 'Exterior1st' with its mode\n",
    "print(raw_data['Exterior1st'].mode())\n",
    "raw_data.loc[ raw_data.Exterior1st.isnull(),'Exterior1st'] ='VinylSd'"
   ]
  },
  {
   "cell_type": "code",
   "execution_count": 79,
   "metadata": {
    "collapsed": false
   },
   "outputs": [
    {
     "name": "stdout",
     "output_type": "stream",
     "text": [
      "0    VinylSd\n",
      "dtype: object\n"
     ]
    }
   ],
   "source": [
    "# replace miss values of 'Exterior2nd ' with its mode\n",
    "print(raw_data['Exterior2nd'].mode())\n",
    "raw_data.loc[ raw_data.Exterior2nd .isnull(),'Exterior2nd'] ='VinylSd'"
   ]
  },
  {
   "cell_type": "code",
   "execution_count": 80,
   "metadata": {
    "collapsed": false
   },
   "outputs": [
    {
     "name": "stdout",
     "output_type": "stream",
     "text": [
      "0    Typ\n",
      "dtype: object\n"
     ]
    }
   ],
   "source": [
    "# replace miss values of 'Functional' with its mode\n",
    "print(raw_data['Functional'].mode())\n",
    "raw_data.loc[ raw_data.Functional.isnull(),'Functional'] ='Typ'"
   ]
  },
  {
   "cell_type": "code",
   "execution_count": 81,
   "metadata": {
    "collapsed": false
   },
   "outputs": [
    {
     "name": "stdout",
     "output_type": "stream",
     "text": [
      "0    0.0\n",
      "dtype: float64\n"
     ]
    }
   ],
   "source": [
    "# replace miss values of 'GarageArea' with its mode\n",
    "print(raw_data['GarageArea'].mode())\n",
    "raw_data.loc[ raw_data.GarageArea.isnull(),'GarageArea'] =0.0"
   ]
  },
  {
   "cell_type": "code",
   "execution_count": 82,
   "metadata": {
    "collapsed": false
   },
   "outputs": [
    {
     "name": "stdout",
     "output_type": "stream",
     "text": [
      "0    2.0\n",
      "dtype: float64\n"
     ]
    }
   ],
   "source": [
    "# replace miss values of 'GarageCars' with its mode\n",
    "print(raw_data['GarageCars'].mode())\n",
    "raw_data.loc[ raw_data.GarageCars.isnull(),'GarageCars'] =2.0"
   ]
  },
  {
   "cell_type": "code",
   "execution_count": 83,
   "metadata": {
    "collapsed": false
   },
   "outputs": [
    {
     "name": "stdout",
     "output_type": "stream",
     "text": [
      "0    2.0\n",
      "dtype: float64\n"
     ]
    }
   ],
   "source": [
    "# replace miss values of 'GarageCars' with its mode\n",
    "print(raw_data['GarageCars'].mode())\n",
    "raw_data.loc[ raw_data.GarageCars.isnull(),'GarageCars'] =2.0"
   ]
  },
  {
   "cell_type": "code",
   "execution_count": 84,
   "metadata": {
    "collapsed": false
   },
   "outputs": [
    {
     "name": "stdout",
     "output_type": "stream",
     "text": [
      "0    TA\n",
      "dtype: object\n"
     ]
    }
   ],
   "source": [
    "# replace miss values of 'KitchenQual' with its mode\n",
    "print(raw_data['KitchenQual'].mode())\n",
    "raw_data.loc[ raw_data.KitchenQual.isnull(),'KitchenQual'] ='TA'"
   ]
  },
  {
   "cell_type": "code",
   "execution_count": 85,
   "metadata": {
    "collapsed": false
   },
   "outputs": [
    {
     "name": "stdout",
     "output_type": "stream",
     "text": [
      "0    RL\n",
      "dtype: object\n"
     ]
    }
   ],
   "source": [
    "# replace miss values of 'MSZoning' with its mode\n",
    "print(raw_data['MSZoning'].mode())\n",
    "raw_data.loc[ raw_data.MSZoning.isnull(),'MSZoning'] ='RL'"
   ]
  },
  {
   "cell_type": "code",
   "execution_count": 86,
   "metadata": {
    "collapsed": false
   },
   "outputs": [
    {
     "name": "stdout",
     "output_type": "stream",
     "text": [
      "0    WD\n",
      "dtype: object\n"
     ]
    }
   ],
   "source": [
    "# replace miss values of 'SaleType' with its mode\n",
    "print(raw_data['SaleType'].mode())\n",
    "raw_data.loc[ raw_data.SaleType.isnull(),'SaleType'] ='WD'"
   ]
  },
  {
   "cell_type": "code",
   "execution_count": 87,
   "metadata": {
    "collapsed": false
   },
   "outputs": [
    {
     "name": "stdout",
     "output_type": "stream",
     "text": [
      "0    0.0\n",
      "dtype: float64\n"
     ]
    }
   ],
   "source": [
    "# replace miss values of 'TotalBsmtSF' with its mode\n",
    "print(raw_data['TotalBsmtSF'].mode())\n",
    "raw_data.loc[ raw_data.TotalBsmtSF.isnull(),'TotalBsmtSF'] =0.0"
   ]
  },
  {
   "cell_type": "code",
   "execution_count": 88,
   "metadata": {
    "collapsed": false
   },
   "outputs": [
    {
     "name": "stdout",
     "output_type": "stream",
     "text": [
      "0    AllPub\n",
      "dtype: object\n"
     ]
    }
   ],
   "source": [
    "# replace miss values of 'Utilities' with its mode\n",
    "print(raw_data['Utilities'].mode())\n",
    "raw_data.loc[ raw_data.Utilities.isnull(),'Utilities'] ='AllPub'"
   ]
  },
  {
   "cell_type": "code",
   "execution_count": 89,
   "metadata": {
    "collapsed": false
   },
   "outputs": [
    {
     "name": "stdout",
     "output_type": "stream",
     "text": [
      "<class 'pandas.core.frame.DataFrame'>\n",
      "Int64Index: 2919 entries, 0 to 1458\n",
      "Data columns (total 74 columns):\n",
      "MSSubClass       2919 non-null int64\n",
      "MSZoning         2919 non-null object\n",
      "LotFrontage      2919 non-null float64\n",
      "LotArea          2919 non-null int64\n",
      "Street           2919 non-null object\n",
      "LotShape         2919 non-null object\n",
      "LandContour      2919 non-null object\n",
      "Utilities        2919 non-null object\n",
      "LotConfig        2919 non-null object\n",
      "LandSlope        2919 non-null object\n",
      "Neighborhood     2919 non-null object\n",
      "Condition1       2919 non-null object\n",
      "Condition2       2919 non-null object\n",
      "BldgType         2919 non-null object\n",
      "HouseStyle       2919 non-null object\n",
      "OverallQual      2919 non-null int64\n",
      "OverallCond      2919 non-null int64\n",
      "YearBuilt        2919 non-null int64\n",
      "YearRemodAdd     2919 non-null int64\n",
      "RoofStyle        2919 non-null object\n",
      "RoofMatl         2919 non-null object\n",
      "Exterior1st      2919 non-null object\n",
      "Exterior2nd      2919 non-null object\n",
      "MasVnrType       2919 non-null object\n",
      "MasVnrArea       2919 non-null float64\n",
      "ExterQual        2919 non-null object\n",
      "ExterCond        2919 non-null object\n",
      "Foundation       2919 non-null object\n",
      "BsmtQual         2919 non-null object\n",
      "BsmtCond         2919 non-null object\n",
      "BsmtExposure     2919 non-null object\n",
      "BsmtFinType1     2919 non-null object\n",
      "BsmtFinSF1       2919 non-null float64\n",
      "BsmtFinType2     2919 non-null object\n",
      "BsmtFinSF2       2919 non-null float64\n",
      "BsmtUnfSF        2919 non-null float64\n",
      "TotalBsmtSF      2919 non-null float64\n",
      "Heating          2919 non-null object\n",
      "HeatingQC        2919 non-null object\n",
      "CentralAir       2919 non-null object\n",
      "Electrical       2919 non-null object\n",
      "1stFlrSF         2919 non-null int64\n",
      "2ndFlrSF         2919 non-null int64\n",
      "LowQualFinSF     2919 non-null int64\n",
      "GrLivArea        2919 non-null int64\n",
      "BsmtFullBath     2919 non-null float64\n",
      "BsmtHalfBath     2919 non-null float64\n",
      "FullBath         2919 non-null int64\n",
      "HalfBath         2919 non-null int64\n",
      "BedroomAbvGr     2919 non-null int64\n",
      "KitchenAbvGr     2919 non-null int64\n",
      "KitchenQual      2919 non-null object\n",
      "TotRmsAbvGrd     2919 non-null int64\n",
      "Functional       2919 non-null object\n",
      "Fireplaces       2919 non-null int64\n",
      "GarageType       2919 non-null object\n",
      "GarageYrBlt      2919 non-null float64\n",
      "GarageFinish     2919 non-null object\n",
      "GarageCars       2919 non-null float64\n",
      "GarageArea       2919 non-null float64\n",
      "GarageQual       2919 non-null object\n",
      "GarageCond       2919 non-null object\n",
      "PavedDrive       2919 non-null object\n",
      "WoodDeckSF       2919 non-null int64\n",
      "OpenPorchSF      2919 non-null int64\n",
      "EnclosedPorch    2919 non-null int64\n",
      "3SsnPorch        2919 non-null int64\n",
      "ScreenPorch      2919 non-null int64\n",
      "PoolArea         2919 non-null int64\n",
      "MiscVal          2919 non-null int64\n",
      "MoSold           2919 non-null int64\n",
      "YrSold           2919 non-null int64\n",
      "SaleType         2919 non-null object\n",
      "SaleCondition    2919 non-null object\n",
      "dtypes: float64(11), int64(25), object(38)\n",
      "memory usage: 1.7+ MB\n"
     ]
    }
   ],
   "source": [
    "raw_data.info()"
   ]
  },
  {
   "cell_type": "markdown",
   "metadata": {},
   "source": [
    "2，Normalizing Numerical Features"
   ]
  },
  {
   "cell_type": "code",
   "execution_count": 90,
   "metadata": {
    "collapsed": false
   },
   "outputs": [
    {
     "name": "stdout",
     "output_type": "stream",
     "text": [
      "['MSSubClass', 'LotArea', 'OverallQual', 'OverallCond', 'YearBuilt', 'YearRemodAdd', '1stFlrSF', '2ndFlrSF', 'LowQualFinSF', 'GrLivArea', 'FullBath', 'HalfBath', 'BedroomAbvGr', 'KitchenAbvGr', 'TotRmsAbvGrd', 'Fireplaces', 'WoodDeckSF', 'OpenPorchSF', 'EnclosedPorch', '3SsnPorch', 'ScreenPorch', 'PoolArea', 'MiscVal', 'MoSold', 'YrSold', 'LotFrontage', 'MasVnrArea', 'BsmtFinSF1', 'BsmtFinSF2', 'BsmtUnfSF', 'TotalBsmtSF', 'BsmtFullBath', 'BsmtHalfBath', 'GarageYrBlt', 'GarageCars', 'GarageArea']\n"
     ]
    }
   ],
   "source": [
    "from sklearn.preprocessing import MinMaxScaler\n",
    "scaler = MinMaxScaler()\n",
    "numerical = list(raw_data.select_dtypes(include=['int64']).columns.values)+list(raw_data.select_dtypes(include=['float64']).columns.values)\n",
    "print(numerical)\n",
    "raw_data[numerical] = scaler.fit_transform(raw_data[numerical])"
   ]
  },
  {
   "cell_type": "code",
   "execution_count": 91,
   "metadata": {
    "collapsed": false
   },
   "outputs": [
    {
     "data": {
      "text/html": [
       "<div>\n",
       "<style>\n",
       "    .dataframe thead tr:only-child th {\n",
       "        text-align: right;\n",
       "    }\n",
       "\n",
       "    .dataframe thead th {\n",
       "        text-align: left;\n",
       "    }\n",
       "\n",
       "    .dataframe tbody tr th {\n",
       "        vertical-align: top;\n",
       "    }\n",
       "</style>\n",
       "<table border=\"1\" class=\"dataframe\">\n",
       "  <thead>\n",
       "    <tr style=\"text-align: right;\">\n",
       "      <th></th>\n",
       "      <th>MSSubClass</th>\n",
       "      <th>MSZoning</th>\n",
       "      <th>LotFrontage</th>\n",
       "      <th>LotArea</th>\n",
       "      <th>Street</th>\n",
       "      <th>LotShape</th>\n",
       "      <th>LandContour</th>\n",
       "      <th>Utilities</th>\n",
       "      <th>LotConfig</th>\n",
       "      <th>LandSlope</th>\n",
       "      <th>...</th>\n",
       "      <th>OpenPorchSF</th>\n",
       "      <th>EnclosedPorch</th>\n",
       "      <th>3SsnPorch</th>\n",
       "      <th>ScreenPorch</th>\n",
       "      <th>PoolArea</th>\n",
       "      <th>MiscVal</th>\n",
       "      <th>MoSold</th>\n",
       "      <th>YrSold</th>\n",
       "      <th>SaleType</th>\n",
       "      <th>SaleCondition</th>\n",
       "    </tr>\n",
       "  </thead>\n",
       "  <tbody>\n",
       "    <tr>\n",
       "      <th>0</th>\n",
       "      <td>0.235294</td>\n",
       "      <td>RL</td>\n",
       "      <td>0.150685</td>\n",
       "      <td>0.033420</td>\n",
       "      <td>Pave</td>\n",
       "      <td>Reg</td>\n",
       "      <td>Lvl</td>\n",
       "      <td>AllPub</td>\n",
       "      <td>Inside</td>\n",
       "      <td>Gtl</td>\n",
       "      <td>...</td>\n",
       "      <td>0.082210</td>\n",
       "      <td>0.000000</td>\n",
       "      <td>0.0</td>\n",
       "      <td>0.0</td>\n",
       "      <td>0.0</td>\n",
       "      <td>0.0</td>\n",
       "      <td>0.090909</td>\n",
       "      <td>0.50</td>\n",
       "      <td>WD</td>\n",
       "      <td>Normal</td>\n",
       "    </tr>\n",
       "    <tr>\n",
       "      <th>1</th>\n",
       "      <td>0.000000</td>\n",
       "      <td>RL</td>\n",
       "      <td>0.202055</td>\n",
       "      <td>0.038795</td>\n",
       "      <td>Pave</td>\n",
       "      <td>Reg</td>\n",
       "      <td>Lvl</td>\n",
       "      <td>AllPub</td>\n",
       "      <td>FR2</td>\n",
       "      <td>Gtl</td>\n",
       "      <td>...</td>\n",
       "      <td>0.000000</td>\n",
       "      <td>0.000000</td>\n",
       "      <td>0.0</td>\n",
       "      <td>0.0</td>\n",
       "      <td>0.0</td>\n",
       "      <td>0.0</td>\n",
       "      <td>0.363636</td>\n",
       "      <td>0.25</td>\n",
       "      <td>WD</td>\n",
       "      <td>Normal</td>\n",
       "    </tr>\n",
       "    <tr>\n",
       "      <th>2</th>\n",
       "      <td>0.235294</td>\n",
       "      <td>RL</td>\n",
       "      <td>0.160959</td>\n",
       "      <td>0.046507</td>\n",
       "      <td>Pave</td>\n",
       "      <td>IR1</td>\n",
       "      <td>Lvl</td>\n",
       "      <td>AllPub</td>\n",
       "      <td>Inside</td>\n",
       "      <td>Gtl</td>\n",
       "      <td>...</td>\n",
       "      <td>0.056604</td>\n",
       "      <td>0.000000</td>\n",
       "      <td>0.0</td>\n",
       "      <td>0.0</td>\n",
       "      <td>0.0</td>\n",
       "      <td>0.0</td>\n",
       "      <td>0.727273</td>\n",
       "      <td>0.50</td>\n",
       "      <td>WD</td>\n",
       "      <td>Normal</td>\n",
       "    </tr>\n",
       "    <tr>\n",
       "      <th>3</th>\n",
       "      <td>0.294118</td>\n",
       "      <td>RL</td>\n",
       "      <td>0.133562</td>\n",
       "      <td>0.038561</td>\n",
       "      <td>Pave</td>\n",
       "      <td>IR1</td>\n",
       "      <td>Lvl</td>\n",
       "      <td>AllPub</td>\n",
       "      <td>Corner</td>\n",
       "      <td>Gtl</td>\n",
       "      <td>...</td>\n",
       "      <td>0.047170</td>\n",
       "      <td>0.268775</td>\n",
       "      <td>0.0</td>\n",
       "      <td>0.0</td>\n",
       "      <td>0.0</td>\n",
       "      <td>0.0</td>\n",
       "      <td>0.090909</td>\n",
       "      <td>0.00</td>\n",
       "      <td>WD</td>\n",
       "      <td>Abnorml</td>\n",
       "    </tr>\n",
       "    <tr>\n",
       "      <th>4</th>\n",
       "      <td>0.235294</td>\n",
       "      <td>RL</td>\n",
       "      <td>0.215753</td>\n",
       "      <td>0.060576</td>\n",
       "      <td>Pave</td>\n",
       "      <td>IR1</td>\n",
       "      <td>Lvl</td>\n",
       "      <td>AllPub</td>\n",
       "      <td>FR2</td>\n",
       "      <td>Gtl</td>\n",
       "      <td>...</td>\n",
       "      <td>0.113208</td>\n",
       "      <td>0.000000</td>\n",
       "      <td>0.0</td>\n",
       "      <td>0.0</td>\n",
       "      <td>0.0</td>\n",
       "      <td>0.0</td>\n",
       "      <td>1.000000</td>\n",
       "      <td>0.50</td>\n",
       "      <td>WD</td>\n",
       "      <td>Normal</td>\n",
       "    </tr>\n",
       "  </tbody>\n",
       "</table>\n",
       "<p>5 rows × 74 columns</p>\n",
       "</div>"
      ],
      "text/plain": [
       "   MSSubClass MSZoning  LotFrontage   LotArea Street LotShape LandContour  \\\n",
       "0    0.235294       RL     0.150685  0.033420   Pave      Reg         Lvl   \n",
       "1    0.000000       RL     0.202055  0.038795   Pave      Reg         Lvl   \n",
       "2    0.235294       RL     0.160959  0.046507   Pave      IR1         Lvl   \n",
       "3    0.294118       RL     0.133562  0.038561   Pave      IR1         Lvl   \n",
       "4    0.235294       RL     0.215753  0.060576   Pave      IR1         Lvl   \n",
       "\n",
       "  Utilities LotConfig LandSlope      ...      OpenPorchSF EnclosedPorch  \\\n",
       "0    AllPub    Inside       Gtl      ...         0.082210      0.000000   \n",
       "1    AllPub       FR2       Gtl      ...         0.000000      0.000000   \n",
       "2    AllPub    Inside       Gtl      ...         0.056604      0.000000   \n",
       "3    AllPub    Corner       Gtl      ...         0.047170      0.268775   \n",
       "4    AllPub       FR2       Gtl      ...         0.113208      0.000000   \n",
       "\n",
       "  3SsnPorch ScreenPorch PoolArea  MiscVal    MoSold  YrSold  SaleType  \\\n",
       "0       0.0         0.0      0.0      0.0  0.090909    0.50        WD   \n",
       "1       0.0         0.0      0.0      0.0  0.363636    0.25        WD   \n",
       "2       0.0         0.0      0.0      0.0  0.727273    0.50        WD   \n",
       "3       0.0         0.0      0.0      0.0  0.090909    0.00        WD   \n",
       "4       0.0         0.0      0.0      0.0  1.000000    0.50        WD   \n",
       "\n",
       "  SaleCondition  \n",
       "0        Normal  \n",
       "1        Normal  \n",
       "2        Normal  \n",
       "3       Abnorml  \n",
       "4        Normal  \n",
       "\n",
       "[5 rows x 74 columns]"
      ]
     },
     "execution_count": 91,
     "metadata": {},
     "output_type": "execute_result"
    }
   ],
   "source": [
    "raw_data.head()"
   ]
  },
  {
   "cell_type": "markdown",
   "metadata": {},
   "source": [
    "3.Converting a categorical feature"
   ]
  },
  {
   "cell_type": "code",
   "execution_count": 92,
   "metadata": {
    "collapsed": false
   },
   "outputs": [
    {
     "name": "stdout",
     "output_type": "stream",
     "text": [
      "['MSZoning', 'Street', 'LotShape', 'LandContour', 'Utilities', 'LotConfig', 'LandSlope', 'Neighborhood', 'Condition1', 'Condition2', 'BldgType', 'HouseStyle', 'RoofStyle', 'RoofMatl', 'Exterior1st', 'Exterior2nd', 'MasVnrType', 'ExterQual', 'ExterCond', 'Foundation', 'BsmtQual', 'BsmtCond', 'BsmtExposure', 'BsmtFinType1', 'BsmtFinType2', 'Heating', 'HeatingQC', 'CentralAir', 'Electrical', 'KitchenQual', 'Functional', 'GarageType', 'GarageFinish', 'GarageQual', 'GarageCond', 'PavedDrive', 'SaleType', 'SaleCondition']\n"
     ]
    },
    {
     "data": {
      "text/html": [
       "<div>\n",
       "<style>\n",
       "    .dataframe thead tr:only-child th {\n",
       "        text-align: right;\n",
       "    }\n",
       "\n",
       "    .dataframe thead th {\n",
       "        text-align: left;\n",
       "    }\n",
       "\n",
       "    .dataframe tbody tr th {\n",
       "        vertical-align: top;\n",
       "    }\n",
       "</style>\n",
       "<table border=\"1\" class=\"dataframe\">\n",
       "  <thead>\n",
       "    <tr style=\"text-align: right;\">\n",
       "      <th></th>\n",
       "      <th>MSSubClass</th>\n",
       "      <th>MSZoning</th>\n",
       "      <th>LotFrontage</th>\n",
       "      <th>LotArea</th>\n",
       "      <th>Street</th>\n",
       "      <th>LotShape</th>\n",
       "      <th>LandContour</th>\n",
       "      <th>Utilities</th>\n",
       "      <th>LotConfig</th>\n",
       "      <th>LandSlope</th>\n",
       "      <th>...</th>\n",
       "      <th>OpenPorchSF</th>\n",
       "      <th>EnclosedPorch</th>\n",
       "      <th>3SsnPorch</th>\n",
       "      <th>ScreenPorch</th>\n",
       "      <th>PoolArea</th>\n",
       "      <th>MiscVal</th>\n",
       "      <th>MoSold</th>\n",
       "      <th>YrSold</th>\n",
       "      <th>SaleType</th>\n",
       "      <th>SaleCondition</th>\n",
       "    </tr>\n",
       "  </thead>\n",
       "  <tbody>\n",
       "    <tr>\n",
       "      <th>0</th>\n",
       "      <td>0.235294</td>\n",
       "      <td>3</td>\n",
       "      <td>0.150685</td>\n",
       "      <td>0.033420</td>\n",
       "      <td>1</td>\n",
       "      <td>3</td>\n",
       "      <td>3</td>\n",
       "      <td>0</td>\n",
       "      <td>4</td>\n",
       "      <td>0</td>\n",
       "      <td>...</td>\n",
       "      <td>0.082210</td>\n",
       "      <td>0.000000</td>\n",
       "      <td>0.0</td>\n",
       "      <td>0.0</td>\n",
       "      <td>0.0</td>\n",
       "      <td>0.0</td>\n",
       "      <td>0.090909</td>\n",
       "      <td>0.50</td>\n",
       "      <td>8</td>\n",
       "      <td>4</td>\n",
       "    </tr>\n",
       "    <tr>\n",
       "      <th>1</th>\n",
       "      <td>0.000000</td>\n",
       "      <td>3</td>\n",
       "      <td>0.202055</td>\n",
       "      <td>0.038795</td>\n",
       "      <td>1</td>\n",
       "      <td>3</td>\n",
       "      <td>3</td>\n",
       "      <td>0</td>\n",
       "      <td>2</td>\n",
       "      <td>0</td>\n",
       "      <td>...</td>\n",
       "      <td>0.000000</td>\n",
       "      <td>0.000000</td>\n",
       "      <td>0.0</td>\n",
       "      <td>0.0</td>\n",
       "      <td>0.0</td>\n",
       "      <td>0.0</td>\n",
       "      <td>0.363636</td>\n",
       "      <td>0.25</td>\n",
       "      <td>8</td>\n",
       "      <td>4</td>\n",
       "    </tr>\n",
       "    <tr>\n",
       "      <th>2</th>\n",
       "      <td>0.235294</td>\n",
       "      <td>3</td>\n",
       "      <td>0.160959</td>\n",
       "      <td>0.046507</td>\n",
       "      <td>1</td>\n",
       "      <td>0</td>\n",
       "      <td>3</td>\n",
       "      <td>0</td>\n",
       "      <td>4</td>\n",
       "      <td>0</td>\n",
       "      <td>...</td>\n",
       "      <td>0.056604</td>\n",
       "      <td>0.000000</td>\n",
       "      <td>0.0</td>\n",
       "      <td>0.0</td>\n",
       "      <td>0.0</td>\n",
       "      <td>0.0</td>\n",
       "      <td>0.727273</td>\n",
       "      <td>0.50</td>\n",
       "      <td>8</td>\n",
       "      <td>4</td>\n",
       "    </tr>\n",
       "    <tr>\n",
       "      <th>3</th>\n",
       "      <td>0.294118</td>\n",
       "      <td>3</td>\n",
       "      <td>0.133562</td>\n",
       "      <td>0.038561</td>\n",
       "      <td>1</td>\n",
       "      <td>0</td>\n",
       "      <td>3</td>\n",
       "      <td>0</td>\n",
       "      <td>0</td>\n",
       "      <td>0</td>\n",
       "      <td>...</td>\n",
       "      <td>0.047170</td>\n",
       "      <td>0.268775</td>\n",
       "      <td>0.0</td>\n",
       "      <td>0.0</td>\n",
       "      <td>0.0</td>\n",
       "      <td>0.0</td>\n",
       "      <td>0.090909</td>\n",
       "      <td>0.00</td>\n",
       "      <td>8</td>\n",
       "      <td>0</td>\n",
       "    </tr>\n",
       "    <tr>\n",
       "      <th>4</th>\n",
       "      <td>0.235294</td>\n",
       "      <td>3</td>\n",
       "      <td>0.215753</td>\n",
       "      <td>0.060576</td>\n",
       "      <td>1</td>\n",
       "      <td>0</td>\n",
       "      <td>3</td>\n",
       "      <td>0</td>\n",
       "      <td>2</td>\n",
       "      <td>0</td>\n",
       "      <td>...</td>\n",
       "      <td>0.113208</td>\n",
       "      <td>0.000000</td>\n",
       "      <td>0.0</td>\n",
       "      <td>0.0</td>\n",
       "      <td>0.0</td>\n",
       "      <td>0.0</td>\n",
       "      <td>1.000000</td>\n",
       "      <td>0.50</td>\n",
       "      <td>8</td>\n",
       "      <td>4</td>\n",
       "    </tr>\n",
       "  </tbody>\n",
       "</table>\n",
       "<p>5 rows × 74 columns</p>\n",
       "</div>"
      ],
      "text/plain": [
       "   MSSubClass  MSZoning  LotFrontage   LotArea  Street  LotShape  LandContour  \\\n",
       "0    0.235294         3     0.150685  0.033420       1         3            3   \n",
       "1    0.000000         3     0.202055  0.038795       1         3            3   \n",
       "2    0.235294         3     0.160959  0.046507       1         0            3   \n",
       "3    0.294118         3     0.133562  0.038561       1         0            3   \n",
       "4    0.235294         3     0.215753  0.060576       1         0            3   \n",
       "\n",
       "   Utilities  LotConfig  LandSlope      ...        OpenPorchSF  EnclosedPorch  \\\n",
       "0          0          4          0      ...           0.082210       0.000000   \n",
       "1          0          2          0      ...           0.000000       0.000000   \n",
       "2          0          4          0      ...           0.056604       0.000000   \n",
       "3          0          0          0      ...           0.047170       0.268775   \n",
       "4          0          2          0      ...           0.113208       0.000000   \n",
       "\n",
       "   3SsnPorch  ScreenPorch  PoolArea  MiscVal    MoSold  YrSold  SaleType  \\\n",
       "0        0.0          0.0       0.0      0.0  0.090909    0.50         8   \n",
       "1        0.0          0.0       0.0      0.0  0.363636    0.25         8   \n",
       "2        0.0          0.0       0.0      0.0  0.727273    0.50         8   \n",
       "3        0.0          0.0       0.0      0.0  0.090909    0.00         8   \n",
       "4        0.0          0.0       0.0      0.0  1.000000    0.50         8   \n",
       "\n",
       "   SaleCondition  \n",
       "0              4  \n",
       "1              4  \n",
       "2              4  \n",
       "3              0  \n",
       "4              4  \n",
       "\n",
       "[5 rows x 74 columns]"
      ]
     },
     "execution_count": 92,
     "metadata": {},
     "output_type": "execute_result"
    }
   ],
   "source": [
    "from sklearn import preprocessing\n",
    "le = preprocessing.LabelEncoder()\n",
    "\n",
    "categorical=list(raw_data.select_dtypes(include=['object']).columns.values)\n",
    "print(categorical)\n",
    "for value in categorical:\n",
    "    le.fit(raw_data[value])\n",
    "    raw_data[value]=le.transform(raw_data[value])\n",
    "raw_data.head()\n"
   ]
  },
  {
   "cell_type": "markdown",
   "metadata": {},
   "source": [
    "4.Shuffle and Split Data"
   ]
  },
  {
   "cell_type": "code",
   "execution_count": 93,
   "metadata": {
    "collapsed": false,
    "scrolled": true
   },
   "outputs": [],
   "source": [
    "from sklearn.cross_validation import train_test_split\n",
    "feature_train_all=raw_data[:1460]\n",
    "feature_test=raw_data[1460:]\n",
    "X_train, X_test, y_train, y_test = train_test_split(feature_train_all,target_data, test_size = 0.2, random_state = 0)\n"
   ]
  },
  {
   "cell_type": "code",
   "execution_count": 94,
   "metadata": {
    "collapsed": false,
    "scrolled": true
   },
   "outputs": [
    {
     "name": "stdout",
     "output_type": "stream",
     "text": [
      "1168\n"
     ]
    }
   ],
   "source": [
    "print(X_train.shape[0])"
   ]
  },
  {
   "cell_type": "markdown",
   "metadata": {},
   "source": [
    "# Modeling-using tensorflow"
   ]
  },
  {
   "cell_type": "markdown",
   "metadata": {},
   "source": [
    "Trial_1"
   ]
  },
  {
   "cell_type": "code",
   "execution_count": 95,
   "metadata": {
    "collapsed": true
   },
   "outputs": [],
   "source": [
    "import tensorflow as tf\n",
    "import math\n",
    "\n",
    "# Parameters\n",
    "\n",
    "training_epochs = 500\n",
    "keep_probability = 1\n",
    "#learning_rate = 0.001\n"
   ]
  },
  {
   "cell_type": "code",
   "execution_count": 48,
   "metadata": {
    "collapsed": false
   },
   "outputs": [],
   "source": [
    "keep_prob = tf.placeholder(tf.float32)\n",
    "\n",
    "\n",
    "\n",
    "x = tf.placeholder(\"float\", [X_train.shape[0], X_train.shape[1]])\n",
    "weight_1=tf.Variable(tf.truncated_normal([X_train.shape[1],500], mean=0, stddev=1))\n",
    "bias_1=tf.Variable(tf.zeros(500))\n",
    "layer_1 = tf.add(tf.matmul(x, weight_1),bias_1)\n",
    "layer_1 = tf.nn.dropout(layer_1, keep_prob)\n",
    "\n",
    "weight_2=tf.Variable(tf.truncated_normal([layer_1.get_shape().as_list()[1],500], mean=0, stddev=1))\n",
    "bias_2=tf.Variable(tf.zeros(500))\n",
    "layer_2 = tf.add(tf.matmul(layer_1, weight_2),bias_2)\n",
    "layer_2 = tf.nn.dropout(layer_2, keep_prob)\n",
    "\n",
    "weight_3=tf.Variable(tf.truncated_normal([layer_2.get_shape().as_list()[1],500], mean=0, stddev=1))\n",
    "bias_3=tf.Variable(tf.zeros(500))\n",
    "layer_3 = tf.add(tf.matmul(layer_2, weight_3),bias_3)\n",
    "layer_3 = tf.nn.dropout(layer_3, keep_prob)\n",
    "\n",
    "weight_4=tf.Variable(tf.truncated_normal([layer_3.get_shape().as_list()[1],1], mean=0, stddev=1))\n",
    "bias_4=tf.Variable(tf.zeros(1))\n",
    "output = tf.add(tf.matmul(layer_3, weight_4),bias_4)\n",
    "\n",
    "\n",
    "# Mean squared error\n",
    "y = tf.placeholder(\"float\", [1168])\n",
    "cost = tf.reduce_sum(tf.pow(output-y, 2))/1168\n",
    "optimizer = tf.train.AdamOptimizer().minimize(cost)\n",
    "#optimizer = tf.train.GradientDescentOptimizer(learning_rate=learning_rate).minimize(cost)\n",
    "\n",
    "#predict feature train\n",
    "x_train=tf.placeholder(\"float\", [292, 74])\n",
    "L1 = tf.add(tf.matmul(x_train, weight_1),bias_1)\n",
    "L2=tf.add(tf.matmul(L1, weight_2),bias_2)\n",
    "L3 = tf.add(tf.matmul(L2, weight_3),bias_3)\n",
    "Pred_train= tf.add(tf.matmul(L3, weight_4),bias_4)\n",
    "\n",
    "#predict feature original\n",
    "x_original=tf.placeholder(\"float\", [1168, 74])\n",
    "L1 = tf.add(tf.matmul(x_original, weight_1),bias_1)\n",
    "L2=tf.add(tf.matmul(L1, weight_2),bias_2)\n",
    "L3 = tf.add(tf.matmul(L2, weight_3),bias_3)\n",
    "Pred_original= tf.add(tf.matmul(L3, weight_4),bias_4)\n",
    "\n",
    "#predict feature test\n",
    "x_test=tf.placeholder(\"float\", [1459, 74])\n",
    "L1 = tf.add(tf.matmul(x_test, weight_1),bias_1)\n",
    "L2=tf.add(tf.matmul(L1, weight_2),bias_2)\n",
    "L3 = tf.add(tf.matmul(L2, weight_3),bias_3)\n",
    "Pred_test= tf.add(tf.matmul(L3, weight_4),bias_4)\n",
    "\n",
    "# Initializing the variables\n",
    "init = tf.global_variables_initializer()\n",
    "\n",
    "\n",
    "# Launch the graph\n",
    "with tf.Session() as sess:\n",
    "    sess.run(init)\n",
    "    # Training cycle\n",
    "    for epoch in range(training_epochs):\n",
    "        sess.run(optimizer, feed_dict={x: X_train, y: y_train, keep_prob: keep_probability})\n",
    "    sess.run(Pred_train, feed_dict={x_train: X_test})  \n",
    "    sess.run(Pred_test, feed_dict={x_test: feature_test})\n",
    "    sess.run(Pred_original, feed_dict={x_original: X_train})\n",
    "    #transfor Pred_train to numpy array\n",
    "    Pred_train_np = Pred_train.eval({x_train: X_test})\n",
    "    #transfor Pred_test to numpy array\n",
    "    Pred_test_np = Pred_test.eval({x_test: feature_test})\n",
    "    #transfor Pred_original to numpy array\n",
    "    Pred_original_np = Pred_original.eval({x_original: X_train})"
   ]
  },
  {
   "cell_type": "code",
   "execution_count": 49,
   "metadata": {
    "collapsed": false
   },
   "outputs": [
    {
     "name": "stdout",
     "output_type": "stream",
     "text": [
      "-0.0371161197469\n",
      "0.00301878663576\n"
     ]
    }
   ],
   "source": [
    "from sklearn.metrics import r2_score\n",
    "Pred_train_dataframe= pd.DataFrame(Pred_train_np, index=y_test.index)\n",
    "Pred_original_dataframe= pd.DataFrame(Pred_original_np, index=y_train.index)\n",
    "print(r2_score(y_test,Pred_train_dataframe))\n",
    "print(r2_score(y_train,Pred_original_dataframe))"
   ]
  },
  {
   "cell_type": "code",
   "execution_count": 50,
   "metadata": {
    "collapsed": true
   },
   "outputs": [],
   "source": [
    "df = pd.DataFrame(Pred_train_np, index=y_test.index)"
   ]
  },
  {
   "cell_type": "code",
   "execution_count": 138,
   "metadata": {
    "collapsed": false
   },
   "outputs": [
    {
     "name": "stdout",
     "output_type": "stream",
     "text": [
      "<type 'numpy.ndarray'>\n",
      "(292, 1)\n",
      "(1459, 1)\n",
      "[[ 168409.84375  ]\n",
      " [ 178066.46875  ]\n",
      " [ 162072.03125  ]\n",
      " [ 182225.59375  ]\n",
      " [ 193659.625    ]\n",
      " [ 185653.53125  ]\n",
      " [ 193972.140625 ]\n",
      " [ 185488.984375 ]\n",
      " [ 154461.09375  ]\n",
      " [ 186965.140625 ]\n",
      " [ 185056.09375  ]\n",
      " [ 197337.34375  ]\n",
      " [ 178881.734375 ]\n",
      " [ 185444.40625  ]\n",
      " [ 177291.5      ]\n",
      " [ 185676.265625 ]\n",
      " [ 174105.875    ]\n",
      " [ 184753.5625   ]\n",
      " [ 178583.9375   ]\n",
      " [ 172501.828125 ]\n",
      " [ 186428.71875  ]\n",
      " [ 169203.828125 ]\n",
      " [ 188613.875    ]\n",
      " [ 183425.140625 ]\n",
      " [ 184146.90625  ]\n",
      " [ 188698.8125   ]\n",
      " [ 189349.25     ]\n",
      " [ 177163.125    ]\n",
      " [ 152379.0625   ]\n",
      " [ 150708.34375  ]\n",
      " [ 167645.78125  ]\n",
      " [ 183686.375    ]\n",
      " [ 183881.890625 ]\n",
      " [ 182357.5      ]\n",
      " [ 180030.84375  ]\n",
      " [ 170026.40625  ]\n",
      " [ 175883.78125  ]\n",
      " [ 189307.28125  ]\n",
      " [ 193188.234375 ]\n",
      " [ 167566.203125 ]\n",
      " [ 186000.65625  ]\n",
      " [ 183249.15625  ]\n",
      " [ 164057.703125 ]\n",
      " [ 168527.421875 ]\n",
      " [ 180152.15625  ]\n",
      " [ 179463.71875  ]\n",
      " [ 182470.953125 ]\n",
      " [ 156469.71875  ]\n",
      " [ 188069.625    ]\n",
      " [ 168403.1875   ]\n",
      " [ 176826.625    ]\n",
      " [ 185485.90625  ]\n",
      " [ 188185.328125 ]\n",
      " [ 180470.40625  ]\n",
      " [ 199459.5625   ]\n",
      " [ 190440.890625 ]\n",
      " [ 182626.6875   ]\n",
      " [ 177373.90625  ]\n",
      " [ 199096.65625  ]\n",
      " [ 181602.8125   ]\n",
      " [ 170163.328125 ]\n",
      " [ 186218.09375  ]\n",
      " [ 167402.5625   ]\n",
      " [ 177366.59375  ]\n",
      " [ 180848.46875  ]\n",
      " [ 173344.34375  ]\n",
      " [ 197507.84375  ]\n",
      " [ 179712.515625 ]\n",
      " [ 190314.53125  ]\n",
      " [ 177490.65625  ]\n",
      " [ 179654.84375  ]\n",
      " [ 167476.28125  ]\n",
      " [ 151706.515625 ]\n",
      " [ 170482.875    ]\n",
      " [ 121874.5234375]\n",
      " [ 176153.71875  ]\n",
      " [ 183043.53125  ]\n",
      " [ 198094.75     ]\n",
      " [ 171171.9375   ]\n",
      " [ 134307.15625  ]\n",
      " [ 200070.859375 ]\n",
      " [ 172046.875    ]\n",
      " [ 181048.40625  ]\n",
      " [ 181189.5      ]\n",
      " [ 136902.203125 ]\n",
      " [ 179741.78125  ]\n",
      " [ 192199.       ]\n",
      " [ 186826.8125   ]\n",
      " [ 180111.59375  ]\n",
      " [ 180010.34375  ]\n",
      " [ 186098.515625 ]\n",
      " [ 179883.46875  ]\n",
      " [ 174501.78125  ]\n",
      " [ 179071.125    ]\n",
      " [ 178923.40625  ]\n",
      " [ 178567.46875  ]\n",
      " [ 177104.46875  ]\n",
      " [ 178877.28125  ]\n",
      " [ 178301.625    ]\n",
      " [ 181810.       ]\n",
      " [ 176849.46875  ]\n",
      " [ 162645.5625   ]\n",
      " [ 185928.015625 ]\n",
      " [ 175052.15625  ]\n",
      " [ 198221.421875 ]\n",
      " [ 183639.703125 ]\n",
      " [ 181927.40625  ]\n",
      " [ 180458.03125  ]\n",
      " [ 195396.765625 ]\n",
      " [ 202975.953125 ]\n",
      " [ 183474.0625   ]\n",
      " [ 191351.0625   ]\n",
      " [ 181508.125    ]\n",
      " [ 187730.765625 ]\n",
      " [ 192551.03125  ]\n",
      " [ 184445.40625  ]\n",
      " [ 175009.515625 ]\n",
      " [ 177000.359375 ]\n",
      " [ 194644.46875  ]\n",
      " [ 192026.578125 ]\n",
      " [ 191151.953125 ]\n",
      " [ 192729.09375  ]\n",
      " [ 196875.5625   ]\n",
      " [ 186877.       ]\n",
      " [ 168173.5      ]\n",
      " [ 160010.984375 ]\n",
      " [ 160395.90625  ]\n",
      " [ 182358.9375   ]\n",
      " [ 181522.765625 ]\n",
      " [ 151598.       ]\n",
      " [ 189813.234375 ]\n",
      " [ 179949.75     ]\n",
      " [ 201911.4375   ]\n",
      " [ 165331.59375  ]\n",
      " [ 175163.828125 ]\n",
      " [ 175623.078125 ]\n",
      " [ 199600.625    ]\n",
      " [ 197152.       ]\n",
      " [ 188946.640625 ]\n",
      " [ 191077.34375  ]\n",
      " [ 171724.203125 ]\n",
      " [ 202332.125    ]\n",
      " [ 141679.53125  ]\n",
      " [ 166488.40625  ]\n",
      " [ 198357.40625  ]\n",
      " [ 170173.796875 ]\n",
      " [ 174447.9375   ]\n",
      " [ 164971.84375  ]\n",
      " [ 176547.125    ]\n",
      " [ 184181.1875   ]\n",
      " [ 182398.15625  ]\n",
      " [ 172375.9375   ]\n",
      " [ 166943.25     ]\n",
      " [ 174587.421875 ]\n",
      " [ 205276.453125 ]\n",
      " [ 192709.78125  ]\n",
      " [ 186761.3125   ]\n",
      " [ 184670.421875 ]\n",
      " [ 178740.609375 ]\n",
      " [ 178147.96875  ]\n",
      " [ 164381.       ]\n",
      " [ 144118.59375  ]\n",
      " [ 186304.40625  ]\n",
      " [ 186656.109375 ]\n",
      " [ 194078.046875 ]\n",
      " [ 161575.203125 ]\n",
      " [ 172914.8125   ]\n",
      " [ 188628.9375   ]\n",
      " [ 194998.546875 ]\n",
      " [ 186735.375    ]\n",
      " [ 182956.71875  ]\n",
      " [ 195904.90625  ]\n",
      " [ 182123.5      ]\n",
      " [ 168908.       ]\n",
      " [ 162302.1875   ]\n",
      " [ 175076.28125  ]\n",
      " [ 189345.84375  ]\n",
      " [ 185223.96875  ]\n",
      " [ 140189.46875  ]\n",
      " [ 184628.0625   ]\n",
      " [ 174149.875    ]\n",
      " [ 186633.625    ]\n",
      " [ 193704.96875  ]\n",
      " [ 186177.125    ]\n",
      " [ 179383.703125 ]\n",
      " [ 174011.546875 ]\n",
      " [ 193236.84375  ]\n",
      " [ 173827.90625  ]\n",
      " [ 178507.71875  ]\n",
      " [ 189114.65625  ]\n",
      " [ 179125.703125 ]\n",
      " [ 172438.40625  ]\n",
      " [ 178639.625    ]\n",
      " [ 179786.921875 ]\n",
      " [ 185067.609375 ]\n",
      " [ 182279.90625  ]\n",
      " [ 191909.046875 ]\n",
      " [ 192344.09375  ]\n",
      " [ 176622.640625 ]\n",
      " [ 181405.671875 ]\n",
      " [ 151322.359375 ]\n",
      " [ 175978.078125 ]\n",
      " [ 169107.703125 ]\n",
      " [ 175950.140625 ]\n",
      " [ 197980.       ]\n",
      " [ 195864.671875 ]\n",
      " [ 183466.515625 ]\n",
      " [ 183671.75     ]\n",
      " [ 176544.828125 ]\n",
      " [ 178816.78125  ]\n",
      " [ 203766.78125  ]\n",
      " [ 178158.9375   ]\n",
      " [ 181313.296875 ]\n",
      " [ 174739.75     ]\n",
      " [ 192462.515625 ]\n",
      " [ 179012.875    ]\n",
      " [ 183811.09375  ]\n",
      " [ 166390.625    ]\n",
      " [ 182719.75     ]\n",
      " [ 184198.65625  ]\n",
      " [ 197348.4375   ]\n",
      " [ 180885.359375 ]\n",
      " [ 185246.8125   ]\n",
      " [ 166877.15625  ]\n",
      " [ 181618.84375  ]\n",
      " [ 194398.140625 ]\n",
      " [ 183292.828125 ]\n",
      " [ 169750.78125  ]\n",
      " [ 192881.09375  ]\n",
      " [ 183187.28125  ]\n",
      " [ 197581.75     ]\n",
      " [ 171595.640625 ]\n",
      " [ 166596.6875   ]\n",
      " [ 186704.21875  ]\n",
      " [ 174344.0625   ]\n",
      " [ 173247.828125 ]\n",
      " [ 206641.78125  ]\n",
      " [ 183006.8125   ]\n",
      " [ 178771.4375   ]\n",
      " [ 182362.5625   ]\n",
      " [ 178091.53125  ]\n",
      " [ 200924.328125 ]\n",
      " [ 181691.515625 ]\n",
      " [ 177839.75     ]\n",
      " [ 181392.78125  ]\n",
      " [ 189994.484375 ]\n",
      " [ 142452.515625 ]\n",
      " [ 185349.625    ]\n",
      " [ 155077.3125   ]\n",
      " [ 168621.28125  ]\n",
      " [ 179146.875    ]\n",
      " [ 192203.625    ]\n",
      " [ 184345.9375   ]\n",
      " [ 177002.21875  ]\n",
      " [ 167790.765625 ]\n",
      " [ 180167.0625   ]\n",
      " [ 191203.5      ]\n",
      " [ 183852.8125   ]\n",
      " [ 181041.4375   ]\n",
      " [ 160557.59375  ]\n",
      " [ 179411.359375 ]\n",
      " [ 179591.15625  ]\n",
      " [ 181578.96875  ]\n",
      " [ 189137.015625 ]\n",
      " [ 165724.40625  ]\n",
      " [ 158467.71875  ]\n",
      " [ 193695.6875   ]\n",
      " [ 175013.3125   ]\n",
      " [ 157850.203125 ]\n",
      " [ 172095.5625   ]\n",
      " [ 180542.421875 ]\n",
      " [ 182700.84375  ]\n",
      " [ 172488.78125  ]\n",
      " [ 172955.875    ]\n",
      " [ 190356.078125 ]\n",
      " [ 187675.25     ]\n",
      " [ 170343.625    ]\n",
      " [ 174512.71875  ]\n",
      " [ 182891.21875  ]\n",
      " [ 148781.65625  ]\n",
      " [ 181780.46875  ]\n",
      " [ 176997.609375 ]\n",
      " [ 174666.5      ]\n",
      " [ 169053.71875  ]\n",
      " [ 173073.65625  ]\n",
      " [ 186806.203125 ]\n",
      " [ 189197.578125 ]\n",
      " [ 154436.546875 ]\n",
      " [ 159458.125    ]\n",
      " [ 155582.890625 ]\n",
      " [ 174955.71875  ]\n",
      " [ 176530.46875  ]]\n",
      "<class 'pandas.core.series.Series'>\n"
     ]
    }
   ],
   "source": [
    "print(type(Pred_train_np))\n",
    "print(Pred_train_np.shape)\n",
    "print(Pred_test_np.shape)\n",
    "print(Pred_train_np)\n",
    "print(type(y_test))"
   ]
  },
  {
   "cell_type": "code",
   "execution_count": 139,
   "metadata": {
    "collapsed": false
   },
   "outputs": [
    {
     "name": "stdout",
     "output_type": "stream",
     "text": [
      "                  0\n",
      "529   168409.843750\n",
      "491   178066.468750\n",
      "459   162072.031250\n",
      "279   182225.593750\n",
      "655   193659.625000\n",
      "1013  185653.531250\n",
      "1403  193972.140625\n",
      "601   185488.984375\n",
      "1182  154461.093750\n",
      "687   186965.140625\n",
      "1317  185056.093750\n",
      "1003  197337.343750\n",
      "1300  178881.734375\n",
      "1392  185444.406250\n",
      "1014  177291.500000\n",
      "254   185676.265625\n",
      "1322  174105.875000\n",
      "89    184753.562500\n",
      "31    178583.937500\n",
      "482   172501.828125\n",
      "142   186428.718750\n",
      "811   169203.828125\n",
      "52    188613.875000\n",
      "857   183425.140625\n",
      "1159  184146.906250\n",
      "991   188698.812500\n",
      "1358  189349.250000\n",
      "649   177163.125000\n",
      "724   152379.062500\n",
      "575   150708.343750\n",
      "...             ...\n",
      "579   181578.968750\n",
      "520   189137.015625\n",
      "825   165724.406250\n",
      "644   158467.718750\n",
      "642   193695.687500\n",
      "29    175013.312500\n",
      "907   157850.203125\n",
      "1166  172095.562500\n",
      "1192  180542.421875\n",
      "519   182700.843750\n",
      "361   172488.781250\n",
      "124   172955.875000\n",
      "198   190356.078125\n",
      "787   187675.250000\n",
      "1211  170343.625000\n",
      "1075  174512.718750\n",
      "1237  182891.218750\n",
      "557   148781.656250\n",
      "303   181780.468750\n",
      "1359  176997.609375\n",
      "1301  174666.500000\n",
      "1427  169053.718750\n",
      "1402  173073.656250\n",
      "1223  186806.203125\n",
      "1029  189197.578125\n",
      "326   154436.546875\n",
      "440   159458.125000\n",
      "1387  155582.890625\n",
      "1323  174955.718750\n",
      "61    176530.468750\n",
      "\n",
      "[292 rows x 1 columns]\n",
      "529     200624\n",
      "491     133000\n",
      "459     110000\n",
      "279     192000\n",
      "655      88000\n",
      "1013     85000\n",
      "1403    282922\n",
      "601     141000\n",
      "1182    745000\n",
      "687     148800\n",
      "1317    208900\n",
      "1003    136905\n",
      "1300    225000\n",
      "1392    123000\n",
      "1014    119200\n",
      "254     145000\n",
      "1322    190000\n",
      "89      123600\n",
      "31      149350\n",
      "482     155000\n",
      "142     166000\n",
      "811     144500\n",
      "52      110000\n",
      "857     174000\n",
      "1159    185000\n",
      "991     168000\n",
      "1358    177500\n",
      "649      84500\n",
      "724     320000\n",
      "575     118500\n",
      "         ...  \n",
      "579     131500\n",
      "520     106250\n",
      "825     385000\n",
      "644     370878\n",
      "642     345000\n",
      "29       68500\n",
      "907     250000\n",
      "1166    245350\n",
      "1192    125000\n",
      "519     234000\n",
      "361     145000\n",
      "124     181000\n",
      "198     104000\n",
      "787     233000\n",
      "1211    164000\n",
      "1075    219500\n",
      "1237    195000\n",
      "557     108000\n",
      "303     149900\n",
      "1359    315000\n",
      "1301    177500\n",
      "1427    140000\n",
      "1402    193879\n",
      "1223    137900\n",
      "1029    118000\n",
      "326     324000\n",
      "440     555000\n",
      "1387    136000\n",
      "1323     82500\n",
      "61      101000\n",
      "Name: SalePrice, Length: 292, dtype: int64\n"
     ]
    }
   ],
   "source": [
    "df = pd.DataFrame(Pred_train_np, index=y_test.index)\n",
    "print(df)\n",
    "print(y_test)"
   ]
  },
  {
   "cell_type": "code",
   "execution_count": 140,
   "metadata": {
    "collapsed": false
   },
   "outputs": [
    {
     "name": "stdout",
     "output_type": "stream",
     "text": [
      "-0.0684082752836\n"
     ]
    }
   ],
   "source": [
    "from sklearn.metrics import r2_score\n",
    "print(r2_score(y_test,df))"
   ]
  },
  {
   "cell_type": "markdown",
   "metadata": {},
   "source": [
    "Trial_2"
   ]
  },
  {
   "cell_type": "code",
   "execution_count": 51,
   "metadata": {
    "collapsed": true
   },
   "outputs": [],
   "source": [
    "keep_prob = tf.placeholder(tf.float32)\n",
    "\n",
    "\n",
    "\n",
    "x = tf.placeholder(\"float\", [X_train.shape[0], X_train.shape[1]])\n",
    "weight_1=tf.Variable(tf.truncated_normal([X_train.shape[1],50], mean=0, stddev=1))\n",
    "bias_1=tf.Variable(tf.zeros(50))\n",
    "layer_1 = tf.add(tf.matmul(x, weight_1),bias_1)\n",
    "layer_1 = tf.nn.dropout(layer_1, keep_prob)\n",
    "\n",
    "weight_2=tf.Variable(tf.truncated_normal([layer_1.get_shape().as_list()[1],50], mean=0, stddev=1))\n",
    "bias_2=tf.Variable(tf.zeros(50))\n",
    "layer_2 = tf.add(tf.matmul(layer_1, weight_2),bias_2)\n",
    "layer_2 = tf.nn.dropout(layer_2, keep_prob)\n",
    "\n",
    "weight_3=tf.Variable(tf.truncated_normal([layer_2.get_shape().as_list()[1],50], mean=0, stddev=1))\n",
    "bias_3=tf.Variable(tf.zeros(50))\n",
    "layer_3 = tf.add(tf.matmul(layer_2, weight_3),bias_3)\n",
    "layer_3 = tf.nn.dropout(layer_3, keep_prob)\n",
    "\n",
    "weight_4=tf.Variable(tf.truncated_normal([layer_3.get_shape().as_list()[1],1], mean=0, stddev=1))\n",
    "bias_4=tf.Variable(tf.zeros(1))\n",
    "output = tf.add(tf.matmul(layer_3, weight_4),bias_4)\n",
    "\n",
    "\n",
    "# Mean squared error\n",
    "y = tf.placeholder(\"float\", [1168])\n",
    "cost = tf.reduce_sum(tf.pow(output-y, 2))/1168\n",
    "optimizer = tf.train.AdamOptimizer().minimize(cost)\n",
    "#optimizer = tf.train.GradientDescentOptimizer(learning_rate=learning_rate).minimize(cost)\n",
    "\n",
    "#predict feature train\n",
    "x_train=tf.placeholder(\"float\", [292, 74])\n",
    "L1 = tf.add(tf.matmul(x_train, weight_1),bias_1)\n",
    "L2=tf.add(tf.matmul(L1, weight_2),bias_2)\n",
    "L3 = tf.add(tf.matmul(L2, weight_3),bias_3)\n",
    "Pred_train= tf.add(tf.matmul(L3, weight_4),bias_4)\n",
    "\n",
    "#predict feature original\n",
    "x_original=tf.placeholder(\"float\", [1168, 74])\n",
    "L1 = tf.add(tf.matmul(x_original, weight_1),bias_1)\n",
    "L2=tf.add(tf.matmul(L1, weight_2),bias_2)\n",
    "L3 = tf.add(tf.matmul(L2, weight_3),bias_3)\n",
    "Pred_original= tf.add(tf.matmul(L3, weight_4),bias_4)\n",
    "\n",
    "#predict feature test\n",
    "x_test=tf.placeholder(\"float\", [1459, 74])\n",
    "L1 = tf.add(tf.matmul(x_test, weight_1),bias_1)\n",
    "L2=tf.add(tf.matmul(L1, weight_2),bias_2)\n",
    "L3 = tf.add(tf.matmul(L2, weight_3),bias_3)\n",
    "Pred_test= tf.add(tf.matmul(L3, weight_4),bias_4)\n",
    "\n",
    "# Initializing the variables\n",
    "init = tf.global_variables_initializer()\n",
    "\n",
    "\n",
    "# Launch the graph\n",
    "with tf.Session() as sess:\n",
    "    sess.run(init)\n",
    "    # Training cycle\n",
    "    for epoch in range(training_epochs):\n",
    "        sess.run(optimizer, feed_dict={x: X_train, y: y_train, keep_prob: keep_probability})\n",
    "    sess.run(Pred_train, feed_dict={x_train: X_test})  \n",
    "    sess.run(Pred_test, feed_dict={x_test: feature_test})\n",
    "    sess.run(Pred_original, feed_dict={x_original: X_train})\n",
    "    #transfor Pred_train to numpy array\n",
    "    Pred_train_np = Pred_train.eval({x_train: X_test})\n",
    "    #transfor Pred_test to numpy array\n",
    "    Pred_test_np = Pred_test.eval({x_test: feature_test})\n",
    "    #transfor Pred_original to numpy array\n",
    "    Pred_original_np = Pred_original.eval({x_original: X_train})"
   ]
  },
  {
   "cell_type": "code",
   "execution_count": 52,
   "metadata": {
    "collapsed": false
   },
   "outputs": [
    {
     "name": "stdout",
     "output_type": "stream",
     "text": [
      "0.0220573004074\n",
      "0.0163834590983\n"
     ]
    }
   ],
   "source": [
    "from sklearn.metrics import r2_score\n",
    "Pred_train_dataframe= pd.DataFrame(Pred_train_np, index=y_test.index)\n",
    "Pred_original_dataframe= pd.DataFrame(Pred_original_np, index=y_train.index)\n",
    "print(r2_score(y_test,Pred_train_dataframe))\n",
    "print(r2_score(y_train,Pred_original_dataframe))"
   ]
  },
  {
   "cell_type": "code",
   "execution_count": null,
   "metadata": {
    "collapsed": true
   },
   "outputs": [],
   "source": [
    "Trial_3"
   ]
  },
  {
   "cell_type": "code",
   "execution_count": 53,
   "metadata": {
    "collapsed": true
   },
   "outputs": [],
   "source": [
    "keep_prob = tf.placeholder(tf.float32)\n",
    "\n",
    "\n",
    "\n",
    "x = tf.placeholder(\"float\", [X_train.shape[0], X_train.shape[1]])\n",
    "weight_1=tf.Variable(tf.truncated_normal([X_train.shape[1],50], mean=0, stddev=1))\n",
    "bias_1=tf.Variable(tf.zeros(50))\n",
    "layer_1 = tf.add(tf.matmul(x, weight_1),bias_1)\n",
    "layer_1 = tf.nn.dropout(layer_1, keep_prob)\n",
    "\n",
    "weight_2=tf.Variable(tf.truncated_normal([layer_1.get_shape().as_list()[1],50], mean=0, stddev=1))\n",
    "bias_2=tf.Variable(tf.zeros(50))\n",
    "layer_2 = tf.add(tf.matmul(layer_1, weight_2),bias_2)\n",
    "layer_2 = tf.nn.dropout(layer_2, keep_prob)\n",
    "\n",
    "# weight_3=tf.Variable(tf.truncated_normal([layer_2.get_shape().as_list()[1],50], mean=0, stddev=1))\n",
    "# bias_3=tf.Variable(tf.zeros(50))\n",
    "# layer_3 = tf.add(tf.matmul(layer_2, weight_3),bias_3)\n",
    "# layer_3 = tf.nn.dropout(layer_3, keep_prob)\n",
    "\n",
    "weight_4=tf.Variable(tf.truncated_normal([layer_2.get_shape().as_list()[1],1], mean=0, stddev=1))\n",
    "bias_4=tf.Variable(tf.zeros(1))\n",
    "output = tf.add(tf.matmul(layer_2, weight_4),bias_4)\n",
    "\n",
    "\n",
    "# Mean squared error\n",
    "y = tf.placeholder(\"float\", [1168])\n",
    "cost = tf.reduce_sum(tf.pow(output-y, 2))/1168\n",
    "optimizer = tf.train.AdamOptimizer().minimize(cost)\n",
    "#optimizer = tf.train.GradientDescentOptimizer(learning_rate=learning_rate).minimize(cost)\n",
    "\n",
    "#predict feature train\n",
    "x_train=tf.placeholder(\"float\", [292, 74])\n",
    "L1 = tf.add(tf.matmul(x_train, weight_1),bias_1)\n",
    "L2=tf.add(tf.matmul(L1, weight_2),bias_2)\n",
    "#L3 = tf.add(tf.matmul(L2, weight_3),bias_3)\n",
    "Pred_train= tf.add(tf.matmul(L2, weight_4),bias_4)\n",
    "\n",
    "#predict feature original\n",
    "x_original=tf.placeholder(\"float\", [1168, 74])\n",
    "L1 = tf.add(tf.matmul(x_original, weight_1),bias_1)\n",
    "L2=tf.add(tf.matmul(L1, weight_2),bias_2)\n",
    "#L3 = tf.add(tf.matmul(L2, weight_3),bias_3)\n",
    "Pred_original= tf.add(tf.matmul(L2, weight_4),bias_4)\n",
    "\n",
    "#predict feature test\n",
    "x_test=tf.placeholder(\"float\", [1459, 74])\n",
    "L1 = tf.add(tf.matmul(x_test, weight_1),bias_1)\n",
    "L2=tf.add(tf.matmul(L1, weight_2),bias_2)\n",
    "#L3 = tf.add(tf.matmul(L2, weight_3),bias_3)\n",
    "Pred_test= tf.add(tf.matmul(L2, weight_4),bias_4)\n",
    "\n",
    "# Initializing the variables\n",
    "init = tf.global_variables_initializer()\n",
    "\n",
    "\n",
    "# Launch the graph\n",
    "with tf.Session() as sess:\n",
    "    sess.run(init)\n",
    "    # Training cycle\n",
    "    for epoch in range(training_epochs):\n",
    "        sess.run(optimizer, feed_dict={x: X_train, y: y_train, keep_prob: keep_probability})\n",
    "    sess.run(Pred_train, feed_dict={x_train: X_test})  \n",
    "    sess.run(Pred_test, feed_dict={x_test: feature_test})\n",
    "    sess.run(Pred_original, feed_dict={x_original: X_train})\n",
    "    #transfor Pred_train to numpy array\n",
    "    Pred_train_np = Pred_train.eval({x_train: X_test})\n",
    "    #transfor Pred_test to numpy array\n",
    "    Pred_test_np = Pred_test.eval({x_test: feature_test})\n",
    "    #transfor Pred_original to numpy array\n",
    "    Pred_original_np = Pred_original.eval({x_original: X_train})"
   ]
  },
  {
   "cell_type": "code",
   "execution_count": 54,
   "metadata": {
    "collapsed": false
   },
   "outputs": [
    {
     "name": "stdout",
     "output_type": "stream",
     "text": [
      "-0.0120553899471\n",
      "-0.0173565106288\n"
     ]
    }
   ],
   "source": [
    "from sklearn.metrics import r2_score\n",
    "Pred_train_dataframe= pd.DataFrame(Pred_train_np, index=y_test.index)\n",
    "Pred_original_dataframe= pd.DataFrame(Pred_original_np, index=y_train.index)\n",
    "print(r2_score(y_test,Pred_train_dataframe))\n",
    "print(r2_score(y_train,Pred_original_dataframe))"
   ]
  },
  {
   "cell_type": "markdown",
   "metadata": {},
   "source": [
    "Trial_4"
   ]
  },
  {
   "cell_type": "code",
   "execution_count": 56,
   "metadata": {
    "collapsed": false
   },
   "outputs": [],
   "source": [
    "keep_prob = tf.placeholder(tf.float32)\n",
    "\n",
    "\n",
    "\n",
    "x = tf.placeholder(\"float\", [X_train.shape[0], X_train.shape[1]])\n",
    "weight_1=tf.Variable(tf.truncated_normal([X_train.shape[1],30], mean=0, stddev=1))\n",
    "bias_1=tf.Variable(tf.zeros(30))\n",
    "layer_1 = tf.add(tf.matmul(x, weight_1),bias_1)\n",
    "layer_1 = tf.nn.dropout(layer_1, keep_prob)\n",
    "\n",
    "weight_2=tf.Variable(tf.truncated_normal([layer_1.get_shape().as_list()[1],30], mean=0, stddev=1))\n",
    "bias_2=tf.Variable(tf.zeros(30))\n",
    "layer_2 = tf.add(tf.matmul(layer_1, weight_2),bias_2)\n",
    "layer_2 = tf.nn.dropout(layer_2, keep_prob)\n",
    "\n",
    "# weight_3=tf.Variable(tf.truncated_normal([layer_2.get_shape().as_list()[1],50], mean=0, stddev=1))\n",
    "# bias_3=tf.Variable(tf.zeros(50))\n",
    "# layer_3 = tf.add(tf.matmul(layer_2, weight_3),bias_3)\n",
    "# layer_3 = tf.nn.dropout(layer_3, keep_prob)\n",
    "\n",
    "weight_4=tf.Variable(tf.truncated_normal([layer_2.get_shape().as_list()[1],1], mean=0, stddev=1))\n",
    "bias_4=tf.Variable(tf.zeros(1))\n",
    "output = tf.add(tf.matmul(layer_2, weight_4),bias_4)\n",
    "\n",
    "\n",
    "# Mean squared error\n",
    "y = tf.placeholder(\"float\", [1168])\n",
    "cost = tf.reduce_sum(tf.pow(output-y, 2))/1168\n",
    "optimizer = tf.train.AdamOptimizer().minimize(cost)\n",
    "#optimizer = tf.train.GradientDescentOptimizer(learning_rate=learning_rate).minimize(cost)\n",
    "\n",
    "#predict feature train\n",
    "x_train=tf.placeholder(\"float\", [292, 74])\n",
    "L1 = tf.add(tf.matmul(x_train, weight_1),bias_1)\n",
    "L2=tf.add(tf.matmul(L1, weight_2),bias_2)\n",
    "#L3 = tf.add(tf.matmul(L2, weight_3),bias_3)\n",
    "Pred_train= tf.add(tf.matmul(L2, weight_4),bias_4)\n",
    "\n",
    "#predict feature original\n",
    "x_original=tf.placeholder(\"float\", [1168, 74])\n",
    "L1 = tf.add(tf.matmul(x_original, weight_1),bias_1)\n",
    "L2=tf.add(tf.matmul(L1, weight_2),bias_2)\n",
    "#L3 = tf.add(tf.matmul(L2, weight_3),bias_3)\n",
    "Pred_original= tf.add(tf.matmul(L2, weight_4),bias_4)\n",
    "\n",
    "#predict feature test\n",
    "x_test=tf.placeholder(\"float\", [1459, 74])\n",
    "L1 = tf.add(tf.matmul(x_test, weight_1),bias_1)\n",
    "L2=tf.add(tf.matmul(L1, weight_2),bias_2)\n",
    "#L3 = tf.add(tf.matmul(L2, weight_3),bias_3)\n",
    "Pred_test= tf.add(tf.matmul(L2, weight_4),bias_4)\n",
    "\n",
    "# Initializing the variables\n",
    "init = tf.global_variables_initializer()\n",
    "\n",
    "\n",
    "# Launch the graph\n",
    "with tf.Session() as sess:\n",
    "    sess.run(init)\n",
    "    # Training cycle\n",
    "    for epoch in range(training_epochs):\n",
    "        sess.run(optimizer, feed_dict={x: X_train, y: y_train, keep_prob: keep_probability})\n",
    "    sess.run(Pred_train, feed_dict={x_train: X_test})  \n",
    "    sess.run(Pred_test, feed_dict={x_test: feature_test})\n",
    "    sess.run(Pred_original, feed_dict={x_original: X_train})\n",
    "    #transfor Pred_train to numpy array\n",
    "    Pred_train_np = Pred_train.eval({x_train: X_test})\n",
    "    #transfor Pred_test to numpy array\n",
    "    Pred_test_np = Pred_test.eval({x_test: feature_test})\n",
    "    #transfor Pred_original to numpy array\n",
    "    Pred_original_np = Pred_original.eval({x_original: X_train})"
   ]
  },
  {
   "cell_type": "code",
   "execution_count": 57,
   "metadata": {
    "collapsed": false
   },
   "outputs": [
    {
     "name": "stdout",
     "output_type": "stream",
     "text": [
      "-0.996618889069\n",
      "-1.0856960964\n"
     ]
    }
   ],
   "source": [
    "from sklearn.metrics import r2_score\n",
    "Pred_train_dataframe= pd.DataFrame(Pred_train_np, index=y_test.index)\n",
    "Pred_original_dataframe= pd.DataFrame(Pred_original_np, index=y_train.index)\n",
    "print(r2_score(y_test,Pred_train_dataframe))\n",
    "print(r2_score(y_train,Pred_original_dataframe))"
   ]
  },
  {
   "cell_type": "markdown",
   "metadata": {},
   "source": [
    "Trial_5"
   ]
  },
  {
   "cell_type": "code",
   "execution_count": 61,
   "metadata": {
    "collapsed": false
   },
   "outputs": [
    {
     "name": "stdout",
     "output_type": "stream",
     "text": [
      "0.00473397982742\n",
      "0.020246793112\n"
     ]
    }
   ],
   "source": [
    "keep_prob = tf.placeholder(tf.float32)\n",
    "\n",
    "\n",
    "\n",
    "x = tf.placeholder(\"float\", [X_train.shape[0], X_train.shape[1]])\n",
    "weight_1=tf.Variable(tf.truncated_normal([X_train.shape[1],50], mean=0, stddev=1))\n",
    "bias_1=tf.Variable(tf.zeros(50))\n",
    "layer_1 = tf.add(tf.matmul(x, weight_1),bias_1)\n",
    "layer_1 = tf.nn.dropout(layer_1, keep_prob)\n",
    "\n",
    "weight_2=tf.Variable(tf.truncated_normal([layer_1.get_shape().as_list()[1],50], mean=0, stddev=1))\n",
    "bias_2=tf.Variable(tf.zeros(50))\n",
    "layer_2 = tf.add(tf.matmul(layer_1, weight_2),bias_2)\n",
    "layer_2 = tf.nn.dropout(layer_2, keep_prob)\n",
    "\n",
    "weight_3=tf.Variable(tf.truncated_normal([layer_2.get_shape().as_list()[1],50], mean=0, stddev=1))\n",
    "bias_3=tf.Variable(tf.zeros(50))\n",
    "layer_3 = tf.add(tf.matmul(layer_2, weight_3),bias_3)\n",
    "layer_3 = tf.nn.dropout(layer_3, keep_prob)\n",
    "\n",
    "weight_4=tf.Variable(tf.truncated_normal([layer_3.get_shape().as_list()[1],1], mean=0, stddev=1))\n",
    "bias_4=tf.Variable(tf.zeros(1))\n",
    "output = tf.add(tf.matmul(layer_3, weight_4),bias_4)\n",
    "\n",
    "\n",
    "# Mean squared error\n",
    "y = tf.placeholder(\"float\", [1168])\n",
    "cost = tf.reduce_sum(tf.pow(output-y, 2))/1168\n",
    "optimizer = tf.train.AdamOptimizer().minimize(cost)\n",
    "#optimizer = tf.train.GradientDescentOptimizer(learning_rate=learning_rate).minimize(cost)\n",
    "\n",
    "#predict feature train\n",
    "x_train=tf.placeholder(\"float\", [292, 74])\n",
    "L1 = tf.add(tf.matmul(x_train, weight_1),bias_1)\n",
    "L2=tf.add(tf.matmul(L1, weight_2),bias_2)\n",
    "L3 = tf.add(tf.matmul(L2, weight_3),bias_3)\n",
    "Pred_train= tf.add(tf.matmul(L3, weight_4),bias_4)\n",
    "\n",
    "#predict feature original\n",
    "x_original=tf.placeholder(\"float\", [1168, 74])\n",
    "L1 = tf.add(tf.matmul(x_original, weight_1),bias_1)\n",
    "L2=tf.add(tf.matmul(L1, weight_2),bias_2)\n",
    "L3 = tf.add(tf.matmul(L2, weight_3),bias_3)\n",
    "Pred_original= tf.add(tf.matmul(L3, weight_4),bias_4)\n",
    "\n",
    "#predict feature test\n",
    "x_test=tf.placeholder(\"float\", [1459, 74])\n",
    "L1 = tf.add(tf.matmul(x_test, weight_1),bias_1)\n",
    "L2=tf.add(tf.matmul(L1, weight_2),bias_2)\n",
    "L3 = tf.add(tf.matmul(L2, weight_3),bias_3)\n",
    "Pred_test= tf.add(tf.matmul(L3, weight_4),bias_4)\n",
    "\n",
    "# Initializing the variables\n",
    "init = tf.global_variables_initializer()\n",
    "\n",
    "\n",
    "# Launch the graph\n",
    "with tf.Session() as sess:\n",
    "    sess.run(init)\n",
    "    # Training cycle\n",
    "    for epoch in range(training_epochs):\n",
    "        sess.run(optimizer, feed_dict={x: X_train, y: y_train, keep_prob: keep_probability})\n",
    "    sess.run(Pred_train, feed_dict={x_train: X_test})  \n",
    "    sess.run(Pred_test, feed_dict={x_test: feature_test})\n",
    "    sess.run(Pred_original, feed_dict={x_original: X_train})\n",
    "    #transfor Pred_train to numpy array\n",
    "    Pred_train_np = Pred_train.eval({x_train: X_test})\n",
    "    #transfor Pred_test to numpy array\n",
    "    Pred_test_np = Pred_test.eval({x_test: feature_test})\n",
    "    #transfor Pred_original to numpy array\n",
    "    Pred_original_np = Pred_original.eval({x_original: X_train})\n",
    "\n",
    "\n",
    "from sklearn.metrics import r2_score\n",
    "Pred_train_dataframe= pd.DataFrame(Pred_train_np, index=y_test.index)\n",
    "Pred_original_dataframe= pd.DataFrame(Pred_original_np, index=y_train.index)\n",
    "print(r2_score(y_test,Pred_train_dataframe))\n",
    "print(r2_score(y_train,Pred_original_dataframe))"
   ]
  },
  {
   "cell_type": "markdown",
   "metadata": {},
   "source": [
    "Trial_6"
   ]
  },
  {
   "cell_type": "code",
   "execution_count": null,
   "metadata": {
    "collapsed": true
   },
   "outputs": [],
   "source": [
    "ful=tf.nn.relu(ful)"
   ]
  },
  {
   "cell_type": "code",
   "execution_count": 77,
   "metadata": {
    "collapsed": false
   },
   "outputs": [
    {
     "name": "stdout",
     "output_type": "stream",
     "text": [
      "-0.0119872960942\n",
      "-0.00317707791972\n"
     ]
    }
   ],
   "source": [
    "training_epochs = 500\n",
    "keep_probability = 1\n",
    "learning_rate = 0.1\n",
    "layers=50\n",
    "\n",
    "\n",
    "\n",
    "keep_prob = tf.placeholder(tf.float32)\n",
    "\n",
    "x = tf.placeholder(\"float\", [X_train.shape[0], X_train.shape[1]])\n",
    "weight_1=tf.Variable(tf.truncated_normal([X_train.shape[1],layers], mean=0, stddev=1))\n",
    "bias_1=tf.Variable(tf.zeros(layers))\n",
    "layer_1 = tf.add(tf.matmul(x, weight_1),bias_1)\n",
    "#layer_1=tf.nn.relu(layer_1)\n",
    "layer_1 = tf.nn.dropout(layer_1, keep_prob)\n",
    "\n",
    "weight_2=tf.Variable(tf.truncated_normal([layer_1.get_shape().as_list()[1],layers], mean=0, stddev=1))\n",
    "bias_2=tf.Variable(tf.zeros(layers))\n",
    "layer_2 = tf.add(tf.matmul(layer_1, weight_2),bias_2)\n",
    "#layer_2=tf.nn.relu(layer_2)\n",
    "layer_2 = tf.nn.dropout(layer_2, keep_prob)\n",
    "\n",
    "weight_3=tf.Variable(tf.truncated_normal([layer_2.get_shape().as_list()[1],layers], mean=0, stddev=1))\n",
    "bias_3=tf.Variable(tf.zeros(layers))\n",
    "layer_3 = tf.add(tf.matmul(layer_2, weight_3),bias_3)\n",
    "#layer_3=tf.nn.relu(layer_3)\n",
    "layer_3 = tf.nn.dropout(layer_3, keep_prob)\n",
    "\n",
    "weight_4=tf.Variable(tf.truncated_normal([layer_3.get_shape().as_list()[1],1], mean=0, stddev=1))\n",
    "bias_4=tf.Variable(tf.zeros(1))\n",
    "output = tf.add(tf.matmul(layer_3, weight_4),bias_4)\n",
    "\n",
    "\n",
    "# Mean squared error\n",
    "y = tf.placeholder(\"float\", [1168])\n",
    "cost = tf.reduce_sum(tf.pow(output-y, 2))/1168\n",
    "optimizer = tf.train.AdamOptimizer().minimize(cost)\n",
    "#optimizer = tf.train.GradientDescentOptimizer(learning_rate=learning_rate).minimize(cost)\n",
    "\n",
    "#predict feature train\n",
    "x_train=tf.placeholder(\"float\", [292, 74])\n",
    "L1 = tf.add(tf.matmul(x_train, weight_1),bias_1)\n",
    "L2=tf.add(tf.matmul(L1, weight_2),bias_2)\n",
    "L3 = tf.add(tf.matmul(L2, weight_3),bias_3)\n",
    "Pred_train= tf.add(tf.matmul(L3, weight_4),bias_4)\n",
    "\n",
    "#predict feature original\n",
    "x_original=tf.placeholder(\"float\", [1168, 74])\n",
    "L1 = tf.add(tf.matmul(x_original, weight_1),bias_1)\n",
    "L2=tf.add(tf.matmul(L1, weight_2),bias_2)\n",
    "L3 = tf.add(tf.matmul(L2, weight_3),bias_3)\n",
    "Pred_original= tf.add(tf.matmul(L3, weight_4),bias_4)\n",
    "\n",
    "#predict feature test\n",
    "x_test=tf.placeholder(\"float\", [1459, 74])\n",
    "L1 = tf.add(tf.matmul(x_test, weight_1),bias_1)\n",
    "L2=tf.add(tf.matmul(L1, weight_2),bias_2)\n",
    "L3 = tf.add(tf.matmul(L2, weight_3),bias_3)\n",
    "Pred_test= tf.add(tf.matmul(L3, weight_4),bias_4)\n",
    "\n",
    "# Initializing the variables\n",
    "init = tf.global_variables_initializer()\n",
    "\n",
    "\n",
    "# Launch the graph\n",
    "with tf.Session() as sess:\n",
    "    sess.run(init)\n",
    "    # Training cycle\n",
    "    for epoch in range(training_epochs):\n",
    "        sess.run(optimizer, feed_dict={x: X_train, y: y_train, keep_prob: keep_probability})\n",
    "    sess.run(Pred_train, feed_dict={x_train: X_test})  \n",
    "    sess.run(Pred_test, feed_dict={x_test: feature_test})\n",
    "    sess.run(Pred_original, feed_dict={x_original: X_train})\n",
    "    #transfor Pred_train to numpy array\n",
    "    Pred_train_np = Pred_train.eval({x_train: X_test})\n",
    "    #transfor Pred_test to numpy array\n",
    "    Pred_test_np = Pred_test.eval({x_test: feature_test})\n",
    "    #transfor Pred_original to numpy array\n",
    "    Pred_original_np = Pred_original.eval({x_original: X_train})\n",
    "\n",
    "\n",
    "from sklearn.metrics import r2_score\n",
    "Pred_train_dataframe= pd.DataFrame(Pred_train_np, index=y_test.index)\n",
    "Pred_original_dataframe= pd.DataFrame(Pred_original_np, index=y_train.index)\n",
    "print(r2_score(y_test,Pred_train_dataframe))\n",
    "print(r2_score(y_train,Pred_original_dataframe))"
   ]
  },
  {
   "cell_type": "markdown",
   "metadata": {},
   "source": [
    "Trial_7"
   ]
  },
  {
   "cell_type": "code",
   "execution_count": 84,
   "metadata": {
    "collapsed": false
   },
   "outputs": [
    {
     "name": "stdout",
     "output_type": "stream",
     "text": [
      "-4.44647608972\n",
      "-4.95293676217\n"
     ]
    }
   ],
   "source": [
    "training_epochs = 500\n",
    "keep_probability = 1\n",
    "learning_rate = 0.01\n",
    "layers=64\n",
    "\n",
    "\n",
    "\n",
    "keep_prob = tf.placeholder(tf.float32)\n",
    "\n",
    "x = tf.placeholder(\"float\", [X_train.shape[0], X_train.shape[1]])\n",
    "weight_1=tf.Variable(tf.truncated_normal([X_train.shape[1],layers], mean=0, stddev=1))\n",
    "bias_1=tf.Variable(tf.zeros(layers))\n",
    "layer_1 = tf.add(tf.matmul(x, weight_1),bias_1)\n",
    "#layer_1=tf.nn.relu(layer_1)\n",
    "layer_1 = tf.nn.dropout(layer_1, keep_prob)\n",
    "\n",
    "# weight_2=tf.Variable(tf.truncated_normal([layer_1.get_shape().as_list()[1],layers], mean=0, stddev=1))\n",
    "# bias_2=tf.Variable(tf.zeros(layers))\n",
    "# layer_2 = tf.add(tf.matmul(layer_1, weight_2),bias_2)\n",
    "# #layer_2=tf.nn.relu(layer_2)\n",
    "# layer_2 = tf.nn.dropout(layer_2, keep_prob)\n",
    "\n",
    "# weight_3=tf.Variable(tf.truncated_normal([layer_2.get_shape().as_list()[1],layers], mean=0, stddev=1))\n",
    "# bias_3=tf.Variable(tf.zeros(layers))\n",
    "# layer_3 = tf.add(tf.matmul(layer_2, weight_3),bias_3)\n",
    "# #layer_3=tf.nn.relu(layer_3)\n",
    "# layer_3 = tf.nn.dropout(layer_3, keep_prob)\n",
    "\n",
    "weight_4=tf.Variable(tf.truncated_normal([layer_1.get_shape().as_list()[1],1], mean=0, stddev=1))\n",
    "bias_4=tf.Variable(tf.zeros(1))\n",
    "output = tf.add(tf.matmul(layer_1, weight_4),bias_4)\n",
    "\n",
    "\n",
    "# Mean squared error\n",
    "y = tf.placeholder(\"float\", [1168])\n",
    "cost = tf.reduce_sum(tf.pow(output-y, 2))/1168\n",
    "optimizer = tf.train.AdamOptimizer().minimize(cost)\n",
    "#optimizer = tf.train.GradientDescentOptimizer(learning_rate=learning_rate).minimize(cost)\n",
    "\n",
    "#predict feature train\n",
    "x_train=tf.placeholder(\"float\", [292, 74])\n",
    "L1 = tf.add(tf.matmul(x_train, weight_1),bias_1)\n",
    "# L2=tf.add(tf.matmul(L1, weight_2),bias_2)\n",
    "# L3 = tf.add(tf.matmul(L2, weight_3),bias_3)\n",
    "Pred_train= tf.add(tf.matmul(L1, weight_4),bias_4)\n",
    "\n",
    "#predict feature original\n",
    "x_original=tf.placeholder(\"float\", [1168, 74])\n",
    "L1 = tf.add(tf.matmul(x_original, weight_1),bias_1)\n",
    "# L2=tf.add(tf.matmul(L1, weight_2),bias_2)\n",
    "# L3 = tf.add(tf.matmul(L2, weight_3),bias_3)\n",
    "Pred_original= tf.add(tf.matmul(L1, weight_4),bias_4)\n",
    "\n",
    "#predict feature test\n",
    "x_test=tf.placeholder(\"float\", [1459, 74])\n",
    "L1 = tf.add(tf.matmul(x_test, weight_1),bias_1)\n",
    "# L2=tf.add(tf.matmul(L1, weight_2),bias_2)\n",
    "# L3 = tf.add(tf.matmul(L2, weight_3),bias_3)\n",
    "Pred_test= tf.add(tf.matmul(L1, weight_4),bias_4)\n",
    "\n",
    "# Initializing the variables\n",
    "init = tf.global_variables_initializer()\n",
    "\n",
    "\n",
    "# Launch the graph\n",
    "with tf.Session() as sess:\n",
    "    sess.run(init)\n",
    "    # Training cycle\n",
    "    for epoch in range(training_epochs):\n",
    "        sess.run(optimizer, feed_dict={x: X_train, y: y_train, keep_prob: keep_probability})\n",
    "    sess.run(Pred_train, feed_dict={x_train: X_test})  \n",
    "    sess.run(Pred_test, feed_dict={x_test: feature_test})\n",
    "    sess.run(Pred_original, feed_dict={x_original: X_train})\n",
    "    #transfor Pred_train to numpy array\n",
    "    Pred_train_np = Pred_train.eval({x_train: X_test})\n",
    "    #transfor Pred_test to numpy array\n",
    "    Pred_test_np = Pred_test.eval({x_test: feature_test})\n",
    "    #transfor Pred_original to numpy array\n",
    "    Pred_original_np = Pred_original.eval({x_original: X_train})\n",
    "\n",
    "\n",
    "from sklearn.metrics import r2_score\n",
    "Pred_train_dataframe= pd.DataFrame(Pred_train_np, index=y_test.index)\n",
    "Pred_original_dataframe= pd.DataFrame(Pred_original_np, index=y_train.index)\n",
    "print(r2_score(y_test,Pred_train_dataframe))\n",
    "print(r2_score(y_train,Pred_original_dataframe))"
   ]
  },
  {
   "cell_type": "code",
   "execution_count": null,
   "metadata": {
    "collapsed": true
   },
   "outputs": [],
   "source": []
  },
  {
   "cell_type": "code",
   "execution_count": null,
   "metadata": {
    "collapsed": true
   },
   "outputs": [],
   "source": []
  },
  {
   "cell_type": "code",
   "execution_count": 68,
   "metadata": {
    "collapsed": false
   },
   "outputs": [],
   "source": [
    "submission = pd.DataFrame({\n",
    "        \"Id\": data_test[\"Id\"],\n",
    "        \"SalePrice\": Y_pred\n",
    "    })\n",
    "submission.to_csv('submission.csv', index=False)"
   ]
  },
  {
   "cell_type": "code",
   "execution_count": null,
   "metadata": {
    "collapsed": true
   },
   "outputs": [],
   "source": []
  }
 ],
 "metadata": {
  "anaconda-cloud": {},
  "kernelspec": {
   "display_name": "Python [conda env:tensorflow]",
   "language": "python",
   "name": "conda-env-tensorflow-py"
  },
  "language_info": {
   "codemirror_mode": {
    "name": "ipython",
    "version": 3
   },
   "file_extension": ".py",
   "mimetype": "text/x-python",
   "name": "python",
   "nbconvert_exporter": "python",
   "pygments_lexer": "ipython3",
   "version": "3.5.3"
  }
 },
 "nbformat": 4,
 "nbformat_minor": 2
}
