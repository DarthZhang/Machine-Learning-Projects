{
 "cells": [
  {
   "cell_type": "code",
   "execution_count": 1,
   "metadata": {
    "collapsed": true
   },
   "outputs": [],
   "source": [
    "import numpy as np # linear algebra\n",
    "import pandas as pd # data processing, CSV file I/O (e.g. pd.read_csv)"
   ]
  },
  {
   "cell_type": "code",
   "execution_count": 2,
   "metadata": {
    "collapsed": true
   },
   "outputs": [],
   "source": [
    "# Input data files are available in the \"../input/\" directory.\n",
    "# For example, running this (by clicking run or pressing Shift+Enter) will list the files in the input directory\n",
    "\n",
    "from subprocess import check_output"
   ]
  },
  {
   "cell_type": "code",
   "execution_count": 3,
   "metadata": {
    "collapsed": false
   },
   "outputs": [],
   "source": [
    "#Read Data\n",
    "train_variant = pd.read_csv(\"training_variants\")\n",
    "test_variant = pd.read_csv(\"test_variants\")\n",
    "train_text = pd.read_csv(\"training_text\", sep=\"\\|\\|\", engine='python', header=None, skiprows=1, names=[\"ID\",\"Text\"])\n",
    "test_text = pd.read_csv(\"test_text\", sep=\"\\|\\|\", engine='python', header=None, skiprows=1, names=[\"ID\",\"Text\"])"
   ]
  },
  {
   "cell_type": "code",
   "execution_count": 4,
   "metadata": {
    "collapsed": false
   },
   "outputs": [
    {
     "data": {
      "text/html": [
       "<div>\n",
       "<table border=\"1\" class=\"dataframe\">\n",
       "  <thead>\n",
       "    <tr style=\"text-align: right;\">\n",
       "      <th></th>\n",
       "      <th>ID</th>\n",
       "      <th>Gene</th>\n",
       "      <th>Variation</th>\n",
       "      <th>Class</th>\n",
       "    </tr>\n",
       "  </thead>\n",
       "  <tbody>\n",
       "    <tr>\n",
       "      <th>0</th>\n",
       "      <td>0</td>\n",
       "      <td>FAM58A</td>\n",
       "      <td>Truncating Mutations</td>\n",
       "      <td>1</td>\n",
       "    </tr>\n",
       "    <tr>\n",
       "      <th>1</th>\n",
       "      <td>1</td>\n",
       "      <td>CBL</td>\n",
       "      <td>W802*</td>\n",
       "      <td>2</td>\n",
       "    </tr>\n",
       "    <tr>\n",
       "      <th>2</th>\n",
       "      <td>2</td>\n",
       "      <td>CBL</td>\n",
       "      <td>Q249E</td>\n",
       "      <td>2</td>\n",
       "    </tr>\n",
       "    <tr>\n",
       "      <th>3</th>\n",
       "      <td>3</td>\n",
       "      <td>CBL</td>\n",
       "      <td>N454D</td>\n",
       "      <td>3</td>\n",
       "    </tr>\n",
       "    <tr>\n",
       "      <th>4</th>\n",
       "      <td>4</td>\n",
       "      <td>CBL</td>\n",
       "      <td>L399V</td>\n",
       "      <td>4</td>\n",
       "    </tr>\n",
       "  </tbody>\n",
       "</table>\n",
       "</div>"
      ],
      "text/plain": [
       "   ID    Gene             Variation  Class\n",
       "0   0  FAM58A  Truncating Mutations      1\n",
       "1   1     CBL                 W802*      2\n",
       "2   2     CBL                 Q249E      2\n",
       "3   3     CBL                 N454D      3\n",
       "4   4     CBL                 L399V      4"
      ]
     },
     "execution_count": 4,
     "metadata": {},
     "output_type": "execute_result"
    }
   ],
   "source": [
    "train_variant.head()"
   ]
  },
  {
   "cell_type": "code",
   "execution_count": 5,
   "metadata": {
    "collapsed": false
   },
   "outputs": [
    {
     "data": {
      "text/html": [
       "<div>\n",
       "<table border=\"1\" class=\"dataframe\">\n",
       "  <thead>\n",
       "    <tr style=\"text-align: right;\">\n",
       "      <th></th>\n",
       "      <th>ID</th>\n",
       "      <th>Gene</th>\n",
       "      <th>Variation</th>\n",
       "    </tr>\n",
       "  </thead>\n",
       "  <tbody>\n",
       "    <tr>\n",
       "      <th>0</th>\n",
       "      <td>0</td>\n",
       "      <td>ACSL4</td>\n",
       "      <td>R570S</td>\n",
       "    </tr>\n",
       "    <tr>\n",
       "      <th>1</th>\n",
       "      <td>1</td>\n",
       "      <td>NAGLU</td>\n",
       "      <td>P521L</td>\n",
       "    </tr>\n",
       "    <tr>\n",
       "      <th>2</th>\n",
       "      <td>2</td>\n",
       "      <td>PAH</td>\n",
       "      <td>L333F</td>\n",
       "    </tr>\n",
       "    <tr>\n",
       "      <th>3</th>\n",
       "      <td>3</td>\n",
       "      <td>ING1</td>\n",
       "      <td>A148D</td>\n",
       "    </tr>\n",
       "    <tr>\n",
       "      <th>4</th>\n",
       "      <td>4</td>\n",
       "      <td>TMEM216</td>\n",
       "      <td>G77A</td>\n",
       "    </tr>\n",
       "  </tbody>\n",
       "</table>\n",
       "</div>"
      ],
      "text/plain": [
       "   ID     Gene Variation\n",
       "0   0    ACSL4     R570S\n",
       "1   1    NAGLU     P521L\n",
       "2   2      PAH     L333F\n",
       "3   3     ING1     A148D\n",
       "4   4  TMEM216      G77A"
      ]
     },
     "execution_count": 5,
     "metadata": {},
     "output_type": "execute_result"
    }
   ],
   "source": [
    "test_variant.head()"
   ]
  },
  {
   "cell_type": "code",
   "execution_count": 6,
   "metadata": {
    "collapsed": false
   },
   "outputs": [
    {
     "data": {
      "text/html": [
       "<div>\n",
       "<table border=\"1\" class=\"dataframe\">\n",
       "  <thead>\n",
       "    <tr style=\"text-align: right;\">\n",
       "      <th></th>\n",
       "      <th>ID</th>\n",
       "      <th>Text</th>\n",
       "    </tr>\n",
       "  </thead>\n",
       "  <tbody>\n",
       "    <tr>\n",
       "      <th>0</th>\n",
       "      <td>0</td>\n",
       "      <td>Cyclin-dependent kinases (CDKs) regulate a var...</td>\n",
       "    </tr>\n",
       "    <tr>\n",
       "      <th>1</th>\n",
       "      <td>1</td>\n",
       "      <td>Abstract Background  Non-small cell lung canc...</td>\n",
       "    </tr>\n",
       "    <tr>\n",
       "      <th>2</th>\n",
       "      <td>2</td>\n",
       "      <td>Abstract Background  Non-small cell lung canc...</td>\n",
       "    </tr>\n",
       "    <tr>\n",
       "      <th>3</th>\n",
       "      <td>3</td>\n",
       "      <td>Recent evidence has demonstrated that acquired...</td>\n",
       "    </tr>\n",
       "    <tr>\n",
       "      <th>4</th>\n",
       "      <td>4</td>\n",
       "      <td>Oncogenic mutations in the monomeric Casitas B...</td>\n",
       "    </tr>\n",
       "  </tbody>\n",
       "</table>\n",
       "</div>"
      ],
      "text/plain": [
       "   ID                                               Text\n",
       "0   0  Cyclin-dependent kinases (CDKs) regulate a var...\n",
       "1   1   Abstract Background  Non-small cell lung canc...\n",
       "2   2   Abstract Background  Non-small cell lung canc...\n",
       "3   3  Recent evidence has demonstrated that acquired...\n",
       "4   4  Oncogenic mutations in the monomeric Casitas B..."
      ]
     },
     "execution_count": 6,
     "metadata": {},
     "output_type": "execute_result"
    }
   ],
   "source": [
    "train_text.head()"
   ]
  },
  {
   "cell_type": "code",
   "execution_count": 7,
   "metadata": {
    "collapsed": false
   },
   "outputs": [
    {
     "data": {
      "text/html": [
       "<div>\n",
       "<table border=\"1\" class=\"dataframe\">\n",
       "  <thead>\n",
       "    <tr style=\"text-align: right;\">\n",
       "      <th></th>\n",
       "      <th>ID</th>\n",
       "      <th>Text</th>\n",
       "    </tr>\n",
       "  </thead>\n",
       "  <tbody>\n",
       "    <tr>\n",
       "      <th>0</th>\n",
       "      <td>0</td>\n",
       "      <td>2. This mutation resulted in a myeloproliferat...</td>\n",
       "    </tr>\n",
       "    <tr>\n",
       "      <th>1</th>\n",
       "      <td>1</td>\n",
       "      <td>Abstract The Large Tumor Suppressor 1 (LATS1)...</td>\n",
       "    </tr>\n",
       "    <tr>\n",
       "      <th>2</th>\n",
       "      <td>2</td>\n",
       "      <td>Vascular endothelial growth factor receptor (V...</td>\n",
       "    </tr>\n",
       "    <tr>\n",
       "      <th>3</th>\n",
       "      <td>3</td>\n",
       "      <td>Inflammatory myofibroblastic tumor (IMT) is a ...</td>\n",
       "    </tr>\n",
       "    <tr>\n",
       "      <th>4</th>\n",
       "      <td>4</td>\n",
       "      <td>Abstract Retinoblastoma is a pediatric retina...</td>\n",
       "    </tr>\n",
       "  </tbody>\n",
       "</table>\n",
       "</div>"
      ],
      "text/plain": [
       "   ID                                               Text\n",
       "0   0  2. This mutation resulted in a myeloproliferat...\n",
       "1   1   Abstract The Large Tumor Suppressor 1 (LATS1)...\n",
       "2   2  Vascular endothelial growth factor receptor (V...\n",
       "3   3  Inflammatory myofibroblastic tumor (IMT) is a ...\n",
       "4   4   Abstract Retinoblastoma is a pediatric retina..."
      ]
     },
     "execution_count": 7,
     "metadata": {},
     "output_type": "execute_result"
    }
   ],
   "source": [
    "test_text.head()"
   ]
  },
  {
   "cell_type": "code",
   "execution_count": 8,
   "metadata": {
    "collapsed": true
   },
   "outputs": [],
   "source": [
    "#Train data number of observations in each class\n",
    "##Class1:568#Class2:452#Class3:89#Class4:686\n",
    "##Class6:275#Class7:953#Class8:19#Class9:37\n",
    "##Class5:242\n",
    "train = pd.merge(train_variant, train_text, how='left', on='ID')\n",
    "x_train = train.drop('Class', axis=1)"
   ]
  },
  {
   "cell_type": "code",
   "execution_count": 9,
   "metadata": {
    "collapsed": false
   },
   "outputs": [
    {
     "data": {
      "text/html": [
       "<div>\n",
       "<table border=\"1\" class=\"dataframe\">\n",
       "  <thead>\n",
       "    <tr style=\"text-align: right;\">\n",
       "      <th></th>\n",
       "      <th>ID</th>\n",
       "      <th>Gene</th>\n",
       "      <th>Variation</th>\n",
       "      <th>Text</th>\n",
       "    </tr>\n",
       "  </thead>\n",
       "  <tbody>\n",
       "    <tr>\n",
       "      <th>0</th>\n",
       "      <td>0</td>\n",
       "      <td>FAM58A</td>\n",
       "      <td>Truncating Mutations</td>\n",
       "      <td>Cyclin-dependent kinases (CDKs) regulate a var...</td>\n",
       "    </tr>\n",
       "    <tr>\n",
       "      <th>1</th>\n",
       "      <td>1</td>\n",
       "      <td>CBL</td>\n",
       "      <td>W802*</td>\n",
       "      <td>Abstract Background  Non-small cell lung canc...</td>\n",
       "    </tr>\n",
       "    <tr>\n",
       "      <th>2</th>\n",
       "      <td>2</td>\n",
       "      <td>CBL</td>\n",
       "      <td>Q249E</td>\n",
       "      <td>Abstract Background  Non-small cell lung canc...</td>\n",
       "    </tr>\n",
       "    <tr>\n",
       "      <th>3</th>\n",
       "      <td>3</td>\n",
       "      <td>CBL</td>\n",
       "      <td>N454D</td>\n",
       "      <td>Recent evidence has demonstrated that acquired...</td>\n",
       "    </tr>\n",
       "    <tr>\n",
       "      <th>4</th>\n",
       "      <td>4</td>\n",
       "      <td>CBL</td>\n",
       "      <td>L399V</td>\n",
       "      <td>Oncogenic mutations in the monomeric Casitas B...</td>\n",
       "    </tr>\n",
       "  </tbody>\n",
       "</table>\n",
       "</div>"
      ],
      "text/plain": [
       "   ID    Gene             Variation  \\\n",
       "0   0  FAM58A  Truncating Mutations   \n",
       "1   1     CBL                 W802*   \n",
       "2   2     CBL                 Q249E   \n",
       "3   3     CBL                 N454D   \n",
       "4   4     CBL                 L399V   \n",
       "\n",
       "                                                Text  \n",
       "0  Cyclin-dependent kinases (CDKs) regulate a var...  \n",
       "1   Abstract Background  Non-small cell lung canc...  \n",
       "2   Abstract Background  Non-small cell lung canc...  \n",
       "3  Recent evidence has demonstrated that acquired...  \n",
       "4  Oncogenic mutations in the monomeric Casitas B...  "
      ]
     },
     "execution_count": 9,
     "metadata": {},
     "output_type": "execute_result"
    }
   ],
   "source": [
    "x_train.head()"
   ]
  },
  {
   "cell_type": "code",
   "execution_count": 10,
   "metadata": {
    "collapsed": false
   },
   "outputs": [
    {
     "data": {
      "text/html": [
       "<div>\n",
       "<table border=\"1\" class=\"dataframe\">\n",
       "  <thead>\n",
       "    <tr style=\"text-align: right;\">\n",
       "      <th></th>\n",
       "      <th>ID</th>\n",
       "      <th>Gene</th>\n",
       "      <th>Variation</th>\n",
       "      <th>Text</th>\n",
       "    </tr>\n",
       "  </thead>\n",
       "  <tbody>\n",
       "    <tr>\n",
       "      <th>0</th>\n",
       "      <td>0</td>\n",
       "      <td>ACSL4</td>\n",
       "      <td>R570S</td>\n",
       "      <td>2. This mutation resulted in a myeloproliferat...</td>\n",
       "    </tr>\n",
       "    <tr>\n",
       "      <th>1</th>\n",
       "      <td>1</td>\n",
       "      <td>NAGLU</td>\n",
       "      <td>P521L</td>\n",
       "      <td>Abstract The Large Tumor Suppressor 1 (LATS1)...</td>\n",
       "    </tr>\n",
       "    <tr>\n",
       "      <th>2</th>\n",
       "      <td>2</td>\n",
       "      <td>PAH</td>\n",
       "      <td>L333F</td>\n",
       "      <td>Vascular endothelial growth factor receptor (V...</td>\n",
       "    </tr>\n",
       "    <tr>\n",
       "      <th>3</th>\n",
       "      <td>3</td>\n",
       "      <td>ING1</td>\n",
       "      <td>A148D</td>\n",
       "      <td>Inflammatory myofibroblastic tumor (IMT) is a ...</td>\n",
       "    </tr>\n",
       "    <tr>\n",
       "      <th>4</th>\n",
       "      <td>4</td>\n",
       "      <td>TMEM216</td>\n",
       "      <td>G77A</td>\n",
       "      <td>Abstract Retinoblastoma is a pediatric retina...</td>\n",
       "    </tr>\n",
       "  </tbody>\n",
       "</table>\n",
       "</div>"
      ],
      "text/plain": [
       "   ID     Gene Variation                                               Text\n",
       "0   0    ACSL4     R570S  2. This mutation resulted in a myeloproliferat...\n",
       "1   1    NAGLU     P521L   Abstract The Large Tumor Suppressor 1 (LATS1)...\n",
       "2   2      PAH     L333F  Vascular endothelial growth factor receptor (V...\n",
       "3   3     ING1     A148D  Inflammatory myofibroblastic tumor (IMT) is a ...\n",
       "4   4  TMEM216      G77A   Abstract Retinoblastoma is a pediatric retina..."
      ]
     },
     "execution_count": 10,
     "metadata": {},
     "output_type": "execute_result"
    }
   ],
   "source": [
    "x_test = pd.merge(test_variant, test_text, how='left', on='ID')\n",
    "test_index = x_test['ID'].values\n",
    "x_test.head()"
   ]
  },
  {
   "cell_type": "code",
   "execution_count": 11,
   "metadata": {
    "collapsed": false
   },
   "outputs": [
    {
     "data": {
      "text/html": [
       "<div>\n",
       "<table border=\"1\" class=\"dataframe\">\n",
       "  <thead>\n",
       "    <tr style=\"text-align: right;\">\n",
       "      <th></th>\n",
       "      <th>ID</th>\n",
       "      <th>Gene</th>\n",
       "      <th>Variation</th>\n",
       "      <th>Text</th>\n",
       "    </tr>\n",
       "  </thead>\n",
       "  <tbody>\n",
       "    <tr>\n",
       "      <th>0</th>\n",
       "      <td>0</td>\n",
       "      <td>FAM58A</td>\n",
       "      <td>Truncating Mutations</td>\n",
       "      <td>Cyclin-dependent kinases (CDKs) regulate a var...</td>\n",
       "    </tr>\n",
       "    <tr>\n",
       "      <th>1</th>\n",
       "      <td>1</td>\n",
       "      <td>CBL</td>\n",
       "      <td>W802*</td>\n",
       "      <td>Abstract Background  Non-small cell lung canc...</td>\n",
       "    </tr>\n",
       "    <tr>\n",
       "      <th>2</th>\n",
       "      <td>2</td>\n",
       "      <td>CBL</td>\n",
       "      <td>Q249E</td>\n",
       "      <td>Abstract Background  Non-small cell lung canc...</td>\n",
       "    </tr>\n",
       "    <tr>\n",
       "      <th>3</th>\n",
       "      <td>3</td>\n",
       "      <td>CBL</td>\n",
       "      <td>N454D</td>\n",
       "      <td>Recent evidence has demonstrated that acquired...</td>\n",
       "    </tr>\n",
       "    <tr>\n",
       "      <th>4</th>\n",
       "      <td>4</td>\n",
       "      <td>CBL</td>\n",
       "      <td>L399V</td>\n",
       "      <td>Oncogenic mutations in the monomeric Casitas B...</td>\n",
       "    </tr>\n",
       "  </tbody>\n",
       "</table>\n",
       "</div>"
      ],
      "text/plain": [
       "  ID    Gene             Variation  \\\n",
       "0  0  FAM58A  Truncating Mutations   \n",
       "1  1     CBL                 W802*   \n",
       "2  2     CBL                 Q249E   \n",
       "3  3     CBL                 N454D   \n",
       "4  4     CBL                 L399V   \n",
       "\n",
       "                                                Text  \n",
       "0  Cyclin-dependent kinases (CDKs) regulate a var...  \n",
       "1   Abstract Background  Non-small cell lung canc...  \n",
       "2   Abstract Background  Non-small cell lung canc...  \n",
       "3  Recent evidence has demonstrated that acquired...  \n",
       "4  Oncogenic mutations in the monomeric Casitas B...  "
      ]
     },
     "execution_count": 11,
     "metadata": {},
     "output_type": "execute_result"
    }
   ],
   "source": [
    "data = np.concatenate((x_train, x_test), axis=0)\n",
    "data=pd.DataFrame(data)\n",
    "data.columns = [\"ID\", \"Gene\", \"Variation\", \"Text\"]\n",
    "data.head()"
   ]
  },
  {
   "cell_type": "code",
   "execution_count": 12,
   "metadata": {
    "collapsed": false
   },
   "outputs": [
    {
     "data": {
      "text/plain": [
       "(8989, 4)"
      ]
     },
     "execution_count": 12,
     "metadata": {},
     "output_type": "execute_result"
    }
   ],
   "source": [
    "data.shape"
   ]
  },
  {
   "cell_type": "code",
   "execution_count": 13,
   "metadata": {
    "collapsed": true
   },
   "outputs": [],
   "source": [
    "from sklearn.feature_extraction.text import TfidfVectorizer"
   ]
  },
  {
   "cell_type": "code",
   "execution_count": 14,
   "metadata": {
    "collapsed": false
   },
   "outputs": [],
   "source": [
    "#TFIDF\n",
    "mod=TfidfVectorizer(min_df=5, max_features=500, stop_words='english')\n",
    "mod_TD=mod.fit_transform(data.Text)"
   ]
  },
  {
   "cell_type": "code",
   "execution_count": 15,
   "metadata": {
    "collapsed": true
   },
   "outputs": [],
   "source": [
    "from sklearn.decomposition import TruncatedSVD"
   ]
  },
  {
   "cell_type": "code",
   "execution_count": 16,
   "metadata": {
    "collapsed": false
   },
   "outputs": [],
   "source": [
    "#SVD features\n",
    "SVD=TruncatedSVD(200,random_state=41)\n",
    "SVD_FIT=SVD.fit_transform(mod_TD)\n",
    "yet_to_complete=pd.DataFrame(SVD_FIT)"
   ]
  },
  {
   "cell_type": "code",
   "execution_count": 17,
   "metadata": {
    "collapsed": true
   },
   "outputs": [],
   "source": [
    "from sklearn import preprocessing"
   ]
  },
  {
   "cell_type": "code",
   "execution_count": 18,
   "metadata": {
    "collapsed": false
   },
   "outputs": [],
   "source": [
    "#data.drop(data.columns[[0,3]],inplace=True, axis=1)\n",
    "#as Gene and Variation data values are just scattered like IDS, i dont think these give u great info about the prediction\n",
    "encoder = preprocessing.LabelEncoder()\n",
    "y_train = train['Class'].values\n",
    "encoder.fit(y_train)\n",
    "encoded_y = encoder.transform(y_train)"
   ]
  },
  {
   "cell_type": "code",
   "execution_count": 19,
   "metadata": {
    "collapsed": false
   },
   "outputs": [
    {
     "data": {
      "text/plain": [
       "array([1, 2, 2, ..., 1, 4, 4], dtype=int64)"
      ]
     },
     "execution_count": 19,
     "metadata": {},
     "output_type": "execute_result"
    }
   ],
   "source": [
    "y_train"
   ]
  },
  {
   "cell_type": "code",
   "execution_count": 20,
   "metadata": {
    "collapsed": false
   },
   "outputs": [
    {
     "data": {
      "text/plain": [
       "array([0, 1, 1, ..., 0, 3, 3], dtype=int64)"
      ]
     },
     "execution_count": 20,
     "metadata": {},
     "output_type": "execute_result"
    }
   ],
   "source": [
    "encoded_y"
   ]
  },
  {
   "cell_type": "code",
   "execution_count": 21,
   "metadata": {
    "collapsed": true
   },
   "outputs": [],
   "source": [
    "X_Train=yet_to_complete[:3321]\n",
    "Y_Train=encoded_y[:3321]\n",
    "X_Test=yet_to_complete[2700:3321]\n",
    "Y_Test=encoded_y[2700:3321]"
   ]
  },
  {
   "cell_type": "code",
   "execution_count": 31,
   "metadata": {
    "collapsed": false
   },
   "outputs": [
    {
     "data": {
      "text/plain": [
       "(3321, 200)"
      ]
     },
     "execution_count": 31,
     "metadata": {},
     "output_type": "execute_result"
    }
   ],
   "source": [
    "X_Train.shape"
   ]
  },
  {
   "cell_type": "code",
   "execution_count": null,
   "metadata": {
    "collapsed": true
   },
   "outputs": [],
   "source": []
  },
  {
   "cell_type": "markdown",
   "metadata": {},
   "source": [
    "5 GradientBoostingClassifier"
   ]
  },
  {
   "cell_type": "code",
   "execution_count": 22,
   "metadata": {
    "collapsed": false
   },
   "outputs": [
    {
     "name": "stderr",
     "output_type": "stream",
     "text": [
      "C:\\Program Files\\Anaconda3\\lib\\site-packages\\sklearn\\cross_validation.py:44: DeprecationWarning: This module was deprecated in version 0.18 in favor of the model_selection module into which all the refactored classes and functions are moved. Also note that the interface of the new CV iterators are different from that of this module. This module will be removed in 0.20.\n",
      "  \"This module will be removed in 0.20.\", DeprecationWarning)\n"
     ]
    }
   ],
   "source": [
    "from sklearn.ensemble import GradientBoostingClassifier\n",
    "from sklearn.metrics import log_loss\n",
    "from sklearn.model_selection import GridSearchCV\n",
    "from sklearn.cross_validation import ShuffleSplit"
   ]
  },
  {
   "cell_type": "markdown",
   "metadata": {},
   "source": [
    "5.1 benchmark"
   ]
  },
  {
   "cell_type": "code",
   "execution_count": 49,
   "metadata": {
    "collapsed": false
   },
   "outputs": [
    {
     "data": {
      "text/plain": [
       "GradientBoostingClassifier(criterion='friedman_mse', init=None,\n",
       "              learning_rate=0.1, loss='deviance', max_depth=3,\n",
       "              max_features=None, max_leaf_nodes=None,\n",
       "              min_impurity_split=1e-07, min_samples_leaf=1,\n",
       "              min_samples_split=2, min_weight_fraction_leaf=0.0,\n",
       "              n_estimators=100, presort='auto', random_state=None,\n",
       "              subsample=1.0, verbose=0, warm_start=False)"
      ]
     },
     "execution_count": 49,
     "metadata": {},
     "output_type": "execute_result"
    }
   ],
   "source": [
    "model=GradientBoostingClassifier()\n",
    "model.fit(X_Train,Y_Train)"
   ]
  },
  {
   "cell_type": "code",
   "execution_count": 46,
   "metadata": {
    "collapsed": false
   },
   "outputs": [
    {
     "name": "stdout",
     "output_type": "stream",
     "text": [
      "0.479791900278\n"
     ]
    }
   ],
   "source": [
    "y_pred = model.predict_proba(X_Test)\n",
    "print(log_loss( Y_Test,y_pred))"
   ]
  },
  {
   "cell_type": "markdown",
   "metadata": {},
   "source": [
    "5.2 Fix learning rate and number of estimators for tuning tree-based parameters"
   ]
  },
  {
   "cell_type": "code",
   "execution_count": 23,
   "metadata": {
    "collapsed": false
   },
   "outputs": [
    {
     "name": "stdout",
     "output_type": "stream",
     "text": [
      "[mean: -1.59712, std: 0.14869, params: {'n_estimators': 20}, mean: -1.57449, std: 0.16752, params: {'n_estimators': 30}, mean: -1.58593, std: 0.17979, params: {'n_estimators': 40}, mean: -1.60740, std: 0.19125, params: {'n_estimators': 50}, mean: -1.63347, std: 0.20295, params: {'n_estimators': 60}, mean: -1.66060, std: 0.21028, params: {'n_estimators': 70}, mean: -1.69419, std: 0.22221, params: {'n_estimators': 80}, mean: -1.71913, std: 0.23130, params: {'n_estimators': 90}, mean: -1.74833, std: 0.23347, params: {'n_estimators': 100}, mean: -1.77577, std: 0.24139, params: {'n_estimators': 110}, mean: -1.80508, std: 0.24855, params: {'n_estimators': 120}, mean: -1.84075, std: 0.25526, params: {'n_estimators': 130}, mean: -1.86429, std: 0.26051, params: {'n_estimators': 140}, mean: -1.88967, std: 0.26487, params: {'n_estimators': 150}]\n",
      "{'n_estimators': 30}\n",
      "-1.57448719507\n",
      "0.823942390973\n"
     ]
    },
    {
     "name": "stderr",
     "output_type": "stream",
     "text": [
      "C:\\Program Files\\Anaconda3\\lib\\site-packages\\sklearn\\model_selection\\_search.py:667: DeprecationWarning: The grid_scores_ attribute was deprecated in version 0.18 in favor of the more elaborate cv_results_ attribute. The grid_scores_ attribute will not be available from 0.20\n",
      "  DeprecationWarning)\n"
     ]
    }
   ],
   "source": [
    "param_test1 = {'n_estimators':range(20,151,10)}\n",
    "\n",
    "grid= GridSearchCV(estimator = GradientBoostingClassifier(learning_rate=0.1,\n",
    "min_samples_split=500,min_samples_leaf=50,max_depth=8,max_features='sqrt',subsample=0.8,random_state=10), \n",
    "param_grid = param_test1, scoring='log_loss',n_jobs=4,iid=False, cv=5)\n",
    "\n",
    "grid.fit(X_Train,Y_Train)\n",
    "\n",
    "print(grid.grid_scores_)\n",
    "print(grid.best_params_)\n",
    "print(grid.best_score_)\n",
    "\n",
    "model=grid.best_estimator_\n",
    "\n",
    "y_pred = model.predict_proba(X_Test)\n",
    "print(log_loss( Y_Test,y_pred))"
   ]
  },
  {
   "cell_type": "markdown",
   "metadata": {},
   "source": [
    "5.3 Tune max_depth and num_samples_split"
   ]
  },
  {
   "cell_type": "code",
   "execution_count": 24,
   "metadata": {
    "collapsed": false
   },
   "outputs": [
    {
     "name": "stdout",
     "output_type": "stream",
     "text": [
      "[mean: -1.57904, std: 0.16463, params: {'min_samples_split': 200, 'max_depth': 5}, mean: -1.56999, std: 0.15477, params: {'min_samples_split': 400, 'max_depth': 5}, mean: -1.58097, std: 0.15608, params: {'min_samples_split': 600, 'max_depth': 5}, mean: -1.56508, std: 0.14659, params: {'min_samples_split': 800, 'max_depth': 5}, mean: -1.57890, std: 0.13886, params: {'min_samples_split': 1000, 'max_depth': 5}, mean: -1.58355, std: 0.18053, params: {'min_samples_split': 200, 'max_depth': 7}, mean: -1.57188, std: 0.16840, params: {'min_samples_split': 400, 'max_depth': 7}, mean: -1.57513, std: 0.15705, params: {'min_samples_split': 600, 'max_depth': 7}, mean: -1.56715, std: 0.15101, params: {'min_samples_split': 800, 'max_depth': 7}, mean: -1.57549, std: 0.14370, params: {'min_samples_split': 1000, 'max_depth': 7}, mean: -1.58912, std: 0.17711, params: {'min_samples_split': 200, 'max_depth': 9}, mean: -1.57012, std: 0.17181, params: {'min_samples_split': 400, 'max_depth': 9}, mean: -1.57532, std: 0.15799, params: {'min_samples_split': 600, 'max_depth': 9}, mean: -1.56624, std: 0.15072, params: {'min_samples_split': 800, 'max_depth': 9}, mean: -1.57754, std: 0.14002, params: {'min_samples_split': 1000, 'max_depth': 9}, mean: -1.58122, std: 0.18153, params: {'min_samples_split': 200, 'max_depth': 11}, mean: -1.55869, std: 0.16880, params: {'min_samples_split': 400, 'max_depth': 11}, mean: -1.57375, std: 0.15800, params: {'min_samples_split': 600, 'max_depth': 11}, mean: -1.56396, std: 0.15153, params: {'min_samples_split': 800, 'max_depth': 11}, mean: -1.57592, std: 0.13946, params: {'min_samples_split': 1000, 'max_depth': 11}, mean: -1.58895, std: 0.17714, params: {'min_samples_split': 200, 'max_depth': 13}, mean: -1.57407, std: 0.16749, params: {'min_samples_split': 400, 'max_depth': 13}, mean: -1.56900, std: 0.16067, params: {'min_samples_split': 600, 'max_depth': 13}, mean: -1.56290, std: 0.15180, params: {'min_samples_split': 800, 'max_depth': 13}, mean: -1.57614, std: 0.13962, params: {'min_samples_split': 1000, 'max_depth': 13}, mean: -1.57750, std: 0.18539, params: {'min_samples_split': 200, 'max_depth': 15}, mean: -1.57328, std: 0.16851, params: {'min_samples_split': 400, 'max_depth': 15}, mean: -1.56877, std: 0.16040, params: {'min_samples_split': 600, 'max_depth': 15}, mean: -1.56290, std: 0.15180, params: {'min_samples_split': 800, 'max_depth': 15}, mean: -1.57614, std: 0.13962, params: {'min_samples_split': 1000, 'max_depth': 15}]\n",
      "{'min_samples_split': 400, 'max_depth': 11}\n",
      "-1.5586892687\n",
      "0.75256853873\n"
     ]
    },
    {
     "name": "stderr",
     "output_type": "stream",
     "text": [
      "C:\\Program Files\\Anaconda3\\lib\\site-packages\\sklearn\\model_selection\\_search.py:667: DeprecationWarning: The grid_scores_ attribute was deprecated in version 0.18 in favor of the more elaborate cv_results_ attribute. The grid_scores_ attribute will not be available from 0.20\n",
      "  DeprecationWarning)\n"
     ]
    }
   ],
   "source": [
    "param_test1 = {'max_depth':range(5,16,2), 'min_samples_split':range(200,1001,200)}\n",
    "\n",
    "grid= GridSearchCV(estimator = GradientBoostingClassifier(learning_rate=0.1,n_estimators=30,\n",
    "min_samples_split=500,min_samples_leaf=50,max_depth=8,max_features='sqrt',subsample=0.8,random_state=10), \n",
    "param_grid = param_test1, scoring='log_loss',n_jobs=4,iid=False, cv=5)\n",
    "\n",
    "grid.fit(X_Train,Y_Train)\n",
    "\n",
    "print(grid.grid_scores_)\n",
    "print(grid.best_params_)\n",
    "print(grid.best_score_)\n",
    "\n",
    "model=grid.best_estimator_\n",
    "\n",
    "y_pred = model.predict_proba(X_Test)\n",
    "print(log_loss( Y_Test,y_pred))"
   ]
  },
  {
   "cell_type": "code",
   "execution_count": 25,
   "metadata": {
    "collapsed": false
   },
   "outputs": [
    {
     "name": "stdout",
     "output_type": "stream",
     "text": [
      "[mean: -1.57773, std: 0.17504, params: {'min_samples_split': 300, 'max_depth': 9}, mean: -1.58036, std: 0.16979, params: {'min_samples_split': 320, 'max_depth': 9}, mean: -1.57592, std: 0.17035, params: {'min_samples_split': 340, 'max_depth': 9}, mean: -1.56383, std: 0.17065, params: {'min_samples_split': 360, 'max_depth': 9}, mean: -1.56197, std: 0.16237, params: {'min_samples_split': 380, 'max_depth': 9}, mean: -1.57012, std: 0.17181, params: {'min_samples_split': 400, 'max_depth': 9}, mean: -1.56880, std: 0.16761, params: {'min_samples_split': 420, 'max_depth': 9}, mean: -1.57153, std: 0.16734, params: {'min_samples_split': 440, 'max_depth': 9}, mean: -1.57624, std: 0.16106, params: {'min_samples_split': 460, 'max_depth': 9}, mean: -1.57621, std: 0.16302, params: {'min_samples_split': 480, 'max_depth': 9}, mean: -1.57326, std: 0.16111, params: {'min_samples_split': 300, 'max_depth': 10}, mean: -1.58141, std: 0.18223, params: {'min_samples_split': 320, 'max_depth': 10}, mean: -1.57577, std: 0.17486, params: {'min_samples_split': 340, 'max_depth': 10}, mean: -1.56584, std: 0.16518, params: {'min_samples_split': 360, 'max_depth': 10}, mean: -1.57318, std: 0.16112, params: {'min_samples_split': 380, 'max_depth': 10}, mean: -1.57547, std: 0.17121, params: {'min_samples_split': 400, 'max_depth': 10}, mean: -1.56800, std: 0.16925, params: {'min_samples_split': 420, 'max_depth': 10}, mean: -1.57929, std: 0.16648, params: {'min_samples_split': 440, 'max_depth': 10}, mean: -1.58228, std: 0.16187, params: {'min_samples_split': 460, 'max_depth': 10}, mean: -1.56783, std: 0.16482, params: {'min_samples_split': 480, 'max_depth': 10}, mean: -1.56548, std: 0.16387, params: {'min_samples_split': 300, 'max_depth': 11}, mean: -1.57760, std: 0.17537, params: {'min_samples_split': 320, 'max_depth': 11}, mean: -1.56623, std: 0.17015, params: {'min_samples_split': 340, 'max_depth': 11}, mean: -1.56992, std: 0.16580, params: {'min_samples_split': 360, 'max_depth': 11}, mean: -1.56248, std: 0.16207, params: {'min_samples_split': 380, 'max_depth': 11}, mean: -1.55869, std: 0.16880, params: {'min_samples_split': 400, 'max_depth': 11}, mean: -1.57035, std: 0.17287, params: {'min_samples_split': 420, 'max_depth': 11}, mean: -1.56742, std: 0.16664, params: {'min_samples_split': 440, 'max_depth': 11}, mean: -1.58192, std: 0.16185, params: {'min_samples_split': 460, 'max_depth': 11}, mean: -1.57458, std: 0.17101, params: {'min_samples_split': 480, 'max_depth': 11}, mean: -1.57516, std: 0.17322, params: {'min_samples_split': 300, 'max_depth': 12}, mean: -1.57481, std: 0.17786, params: {'min_samples_split': 320, 'max_depth': 12}, mean: -1.55966, std: 0.16373, params: {'min_samples_split': 340, 'max_depth': 12}, mean: -1.57570, std: 0.17330, params: {'min_samples_split': 360, 'max_depth': 12}, mean: -1.56215, std: 0.16418, params: {'min_samples_split': 380, 'max_depth': 12}, mean: -1.57427, std: 0.17201, params: {'min_samples_split': 400, 'max_depth': 12}, mean: -1.56850, std: 0.16698, params: {'min_samples_split': 420, 'max_depth': 12}, mean: -1.56947, std: 0.16301, params: {'min_samples_split': 440, 'max_depth': 12}, mean: -1.57823, std: 0.15612, params: {'min_samples_split': 460, 'max_depth': 12}, mean: -1.56950, std: 0.16949, params: {'min_samples_split': 480, 'max_depth': 12}, mean: -1.57497, std: 0.17021, params: {'min_samples_split': 300, 'max_depth': 13}, mean: -1.57654, std: 0.17457, params: {'min_samples_split': 320, 'max_depth': 13}, mean: -1.57073, std: 0.17395, params: {'min_samples_split': 340, 'max_depth': 13}, mean: -1.57287, std: 0.17214, params: {'min_samples_split': 360, 'max_depth': 13}, mean: -1.56208, std: 0.16126, params: {'min_samples_split': 380, 'max_depth': 13}, mean: -1.57407, std: 0.16749, params: {'min_samples_split': 400, 'max_depth': 13}, mean: -1.57220, std: 0.16537, params: {'min_samples_split': 420, 'max_depth': 13}, mean: -1.57427, std: 0.15958, params: {'min_samples_split': 440, 'max_depth': 13}, mean: -1.57647, std: 0.16118, params: {'min_samples_split': 460, 'max_depth': 13}, mean: -1.56880, std: 0.16978, params: {'min_samples_split': 480, 'max_depth': 13}]\n",
      "{'min_samples_split': 400, 'max_depth': 11}\n",
      "-1.5586892687\n",
      "0.75256853873\n"
     ]
    },
    {
     "name": "stderr",
     "output_type": "stream",
     "text": [
      "C:\\Program Files\\Anaconda3\\lib\\site-packages\\sklearn\\model_selection\\_search.py:667: DeprecationWarning: The grid_scores_ attribute was deprecated in version 0.18 in favor of the more elaborate cv_results_ attribute. The grid_scores_ attribute will not be available from 0.20\n",
      "  DeprecationWarning)\n"
     ]
    }
   ],
   "source": [
    "param_test1 = {'max_depth':range(9,14,1), 'min_samples_split':range(300,500,20)}\n",
    "\n",
    "grid= GridSearchCV(estimator = GradientBoostingClassifier(learning_rate=0.1,n_estimators=30, min_samples_split=500,\n",
    "min_samples_leaf=50,max_depth=8,max_features='sqrt',subsample=0.8,random_state=10), \n",
    "param_grid = param_test1, scoring='log_loss',n_jobs=4,iid=False, cv=5)\n",
    "\n",
    "grid.fit(X_Train,Y_Train)\n",
    "\n",
    "print(grid.grid_scores_)\n",
    "print(grid.best_params_)\n",
    "print(grid.best_score_)\n",
    "\n",
    "model=grid.best_estimator_\n",
    "\n",
    "y_pred = model.predict_proba(X_Test)\n",
    "print(log_loss( Y_Test,y_pred))"
   ]
  },
  {
   "cell_type": "markdown",
   "metadata": {},
   "source": [
    "5.4 Tune min_samples_leaf"
   ]
  },
  {
   "cell_type": "code",
   "execution_count": 26,
   "metadata": {
    "collapsed": false
   },
   "outputs": [
    {
     "name": "stdout",
     "output_type": "stream",
     "text": [
      "[mean: -1.60863, std: 0.18706, params: {'min_samples_split': 370, 'min_samples_leaf': 20}, mean: -1.61081, std: 0.18171, params: {'min_samples_split': 380, 'min_samples_leaf': 20}, mean: -1.60757, std: 0.18194, params: {'min_samples_split': 390, 'min_samples_leaf': 20}, mean: -1.59739, std: 0.17598, params: {'min_samples_split': 400, 'min_samples_leaf': 20}, mean: -1.58273, std: 0.17991, params: {'min_samples_split': 410, 'min_samples_leaf': 20}, mean: -1.60681, std: 0.17256, params: {'min_samples_split': 420, 'min_samples_leaf': 20}, mean: -1.58104, std: 0.17802, params: {'min_samples_split': 370, 'min_samples_leaf': 30}, mean: -1.57981, std: 0.17934, params: {'min_samples_split': 380, 'min_samples_leaf': 30}, mean: -1.58392, std: 0.17707, params: {'min_samples_split': 390, 'min_samples_leaf': 30}, mean: -1.58447, std: 0.17100, params: {'min_samples_split': 400, 'min_samples_leaf': 30}, mean: -1.56739, std: 0.17968, params: {'min_samples_split': 410, 'min_samples_leaf': 30}, mean: -1.58018, std: 0.17062, params: {'min_samples_split': 420, 'min_samples_leaf': 30}, mean: -1.58349, std: 0.17752, params: {'min_samples_split': 370, 'min_samples_leaf': 40}, mean: -1.58207, std: 0.16807, params: {'min_samples_split': 380, 'min_samples_leaf': 40}, mean: -1.57811, std: 0.17087, params: {'min_samples_split': 390, 'min_samples_leaf': 40}, mean: -1.58093, std: 0.17098, params: {'min_samples_split': 400, 'min_samples_leaf': 40}, mean: -1.58197, std: 0.16467, params: {'min_samples_split': 410, 'min_samples_leaf': 40}, mean: -1.57831, std: 0.16433, params: {'min_samples_split': 420, 'min_samples_leaf': 40}, mean: -1.57606, std: 0.17357, params: {'min_samples_split': 370, 'min_samples_leaf': 50}, mean: -1.56248, std: 0.16207, params: {'min_samples_split': 380, 'min_samples_leaf': 50}, mean: -1.56949, std: 0.16682, params: {'min_samples_split': 390, 'min_samples_leaf': 50}, mean: -1.55869, std: 0.16880, params: {'min_samples_split': 400, 'min_samples_leaf': 50}, mean: -1.56637, std: 0.17016, params: {'min_samples_split': 410, 'min_samples_leaf': 50}, mean: -1.57035, std: 0.17287, params: {'min_samples_split': 420, 'min_samples_leaf': 50}, mean: -1.57245, std: 0.16028, params: {'min_samples_split': 370, 'min_samples_leaf': 60}, mean: -1.55958, std: 0.15909, params: {'min_samples_split': 380, 'min_samples_leaf': 60}, mean: -1.56680, std: 0.15747, params: {'min_samples_split': 390, 'min_samples_leaf': 60}, mean: -1.56365, std: 0.16812, params: {'min_samples_split': 400, 'min_samples_leaf': 60}, mean: -1.56875, std: 0.15988, params: {'min_samples_split': 410, 'min_samples_leaf': 60}, mean: -1.56595, std: 0.15946, params: {'min_samples_split': 420, 'min_samples_leaf': 60}, mean: -1.56421, std: 0.17011, params: {'min_samples_split': 370, 'min_samples_leaf': 70}, mean: -1.55939, std: 0.16431, params: {'min_samples_split': 380, 'min_samples_leaf': 70}, mean: -1.56277, std: 0.15557, params: {'min_samples_split': 390, 'min_samples_leaf': 70}, mean: -1.56832, std: 0.16213, params: {'min_samples_split': 400, 'min_samples_leaf': 70}, mean: -1.55202, std: 0.16974, params: {'min_samples_split': 410, 'min_samples_leaf': 70}, mean: -1.56588, std: 0.16299, params: {'min_samples_split': 420, 'min_samples_leaf': 70}]\n",
      "{'min_samples_split': 410, 'min_samples_leaf': 70}\n",
      "-1.55201696928\n",
      "0.785165081733\n"
     ]
    },
    {
     "name": "stderr",
     "output_type": "stream",
     "text": [
      "C:\\Program Files\\Anaconda3\\lib\\site-packages\\sklearn\\model_selection\\_search.py:667: DeprecationWarning: The grid_scores_ attribute was deprecated in version 0.18 in favor of the more elaborate cv_results_ attribute. The grid_scores_ attribute will not be available from 0.20\n",
      "  DeprecationWarning)\n"
     ]
    }
   ],
   "source": [
    "param_test1 = {'min_samples_split':range(370,430,10), 'min_samples_leaf':range(20,71,10)}\n",
    "\n",
    "grid= GridSearchCV(estimator = GradientBoostingClassifier(learning_rate=0.1,n_estimators=30, min_samples_split=400,\n",
    "min_samples_leaf=50,max_depth=11,max_features='sqrt',subsample=0.8,random_state=10), \n",
    "param_grid = param_test1, scoring='log_loss',n_jobs=4,iid=False, cv=5)\n",
    "\n",
    "grid.fit(X_Train,Y_Train)\n",
    "\n",
    "print(grid.grid_scores_)\n",
    "print(grid.best_params_)\n",
    "print(grid.best_score_)\n",
    "\n",
    "model=grid.best_estimator_\n",
    "\n",
    "y_pred = model.predict_proba(X_Test)\n",
    "print(log_loss( Y_Test,y_pred))"
   ]
  },
  {
   "cell_type": "code",
   "execution_count": 28,
   "metadata": {
    "collapsed": false
   },
   "outputs": [
    {
     "name": "stdout",
     "output_type": "stream",
     "text": [
      "[mean: -1.56832, std: 0.16213, params: {'min_samples_split': 400, 'min_samples_leaf': 70}, mean: -1.56809, std: 0.16565, params: {'min_samples_split': 401, 'min_samples_leaf': 70}, mean: -1.56811, std: 0.17184, params: {'min_samples_split': 402, 'min_samples_leaf': 70}, mean: -1.55594, std: 0.16000, params: {'min_samples_split': 403, 'min_samples_leaf': 70}, mean: -1.55624, std: 0.16145, params: {'min_samples_split': 404, 'min_samples_leaf': 70}, mean: -1.56203, std: 0.16310, params: {'min_samples_split': 405, 'min_samples_leaf': 70}, mean: -1.56020, std: 0.16266, params: {'min_samples_split': 406, 'min_samples_leaf': 70}, mean: -1.56067, std: 0.16548, params: {'min_samples_split': 407, 'min_samples_leaf': 70}, mean: -1.55106, std: 0.16855, params: {'min_samples_split': 408, 'min_samples_leaf': 70}, mean: -1.55476, std: 0.17121, params: {'min_samples_split': 409, 'min_samples_leaf': 70}, mean: -1.55202, std: 0.16974, params: {'min_samples_split': 410, 'min_samples_leaf': 70}, mean: -1.55070, std: 0.16630, params: {'min_samples_split': 411, 'min_samples_leaf': 70}, mean: -1.57112, std: 0.16731, params: {'min_samples_split': 412, 'min_samples_leaf': 70}, mean: -1.55758, std: 0.16825, params: {'min_samples_split': 413, 'min_samples_leaf': 70}, mean: -1.55793, std: 0.16201, params: {'min_samples_split': 414, 'min_samples_leaf': 70}, mean: -1.55797, std: 0.16006, params: {'min_samples_split': 415, 'min_samples_leaf': 70}, mean: -1.56181, std: 0.16112, params: {'min_samples_split': 416, 'min_samples_leaf': 70}, mean: -1.57654, std: 0.16656, params: {'min_samples_split': 417, 'min_samples_leaf': 70}, mean: -1.57194, std: 0.16520, params: {'min_samples_split': 418, 'min_samples_leaf': 70}, mean: -1.57008, std: 0.16863, params: {'min_samples_split': 419, 'min_samples_leaf': 70}, mean: -1.55772, std: 0.15262, params: {'min_samples_split': 400, 'min_samples_leaf': 80}, mean: -1.55595, std: 0.15454, params: {'min_samples_split': 401, 'min_samples_leaf': 80}, mean: -1.55566, std: 0.14983, params: {'min_samples_split': 402, 'min_samples_leaf': 80}, mean: -1.54676, std: 0.15049, params: {'min_samples_split': 403, 'min_samples_leaf': 80}, mean: -1.55605, std: 0.15484, params: {'min_samples_split': 404, 'min_samples_leaf': 80}, mean: -1.54502, std: 0.15151, params: {'min_samples_split': 405, 'min_samples_leaf': 80}, mean: -1.54895, std: 0.15090, params: {'min_samples_split': 406, 'min_samples_leaf': 80}, mean: -1.55447, std: 0.15175, params: {'min_samples_split': 407, 'min_samples_leaf': 80}, mean: -1.55122, std: 0.14979, params: {'min_samples_split': 408, 'min_samples_leaf': 80}, mean: -1.55794, std: 0.15428, params: {'min_samples_split': 409, 'min_samples_leaf': 80}, mean: -1.55567, std: 0.15012, params: {'min_samples_split': 410, 'min_samples_leaf': 80}, mean: -1.55443, std: 0.15158, params: {'min_samples_split': 411, 'min_samples_leaf': 80}, mean: -1.55630, std: 0.15193, params: {'min_samples_split': 412, 'min_samples_leaf': 80}, mean: -1.56334, std: 0.15102, params: {'min_samples_split': 413, 'min_samples_leaf': 80}, mean: -1.55773, std: 0.15013, params: {'min_samples_split': 414, 'min_samples_leaf': 80}, mean: -1.55956, std: 0.15159, params: {'min_samples_split': 415, 'min_samples_leaf': 80}, mean: -1.56012, std: 0.15391, params: {'min_samples_split': 416, 'min_samples_leaf': 80}, mean: -1.56107, std: 0.15394, params: {'min_samples_split': 417, 'min_samples_leaf': 80}, mean: -1.56082, std: 0.15186, params: {'min_samples_split': 418, 'min_samples_leaf': 80}, mean: -1.56336, std: 0.15425, params: {'min_samples_split': 419, 'min_samples_leaf': 80}, mean: -1.54542, std: 0.14554, params: {'min_samples_split': 400, 'min_samples_leaf': 90}, mean: -1.54981, std: 0.14745, params: {'min_samples_split': 401, 'min_samples_leaf': 90}, mean: -1.54915, std: 0.15414, params: {'min_samples_split': 402, 'min_samples_leaf': 90}, mean: -1.54247, std: 0.15040, params: {'min_samples_split': 403, 'min_samples_leaf': 90}, mean: -1.55004, std: 0.15430, params: {'min_samples_split': 404, 'min_samples_leaf': 90}, mean: -1.55351, std: 0.15624, params: {'min_samples_split': 405, 'min_samples_leaf': 90}, mean: -1.55876, std: 0.15188, params: {'min_samples_split': 406, 'min_samples_leaf': 90}, mean: -1.55663, std: 0.15547, params: {'min_samples_split': 407, 'min_samples_leaf': 90}, mean: -1.55147, std: 0.15207, params: {'min_samples_split': 408, 'min_samples_leaf': 90}, mean: -1.55254, std: 0.15070, params: {'min_samples_split': 409, 'min_samples_leaf': 90}, mean: -1.54977, std: 0.14838, params: {'min_samples_split': 410, 'min_samples_leaf': 90}, mean: -1.55690, std: 0.15481, params: {'min_samples_split': 411, 'min_samples_leaf': 90}, mean: -1.55057, std: 0.15330, params: {'min_samples_split': 412, 'min_samples_leaf': 90}, mean: -1.55211, std: 0.14814, params: {'min_samples_split': 413, 'min_samples_leaf': 90}, mean: -1.55304, std: 0.15011, params: {'min_samples_split': 414, 'min_samples_leaf': 90}, mean: -1.55228, std: 0.15506, params: {'min_samples_split': 415, 'min_samples_leaf': 90}, mean: -1.55004, std: 0.14751, params: {'min_samples_split': 416, 'min_samples_leaf': 90}, mean: -1.54717, std: 0.14740, params: {'min_samples_split': 417, 'min_samples_leaf': 90}, mean: -1.54528, std: 0.14499, params: {'min_samples_split': 418, 'min_samples_leaf': 90}, mean: -1.54919, std: 0.14382, params: {'min_samples_split': 419, 'min_samples_leaf': 90}, mean: -1.54386, std: 0.14799, params: {'min_samples_split': 400, 'min_samples_leaf': 100}, mean: -1.54704, std: 0.14872, params: {'min_samples_split': 401, 'min_samples_leaf': 100}, mean: -1.55409, std: 0.14863, params: {'min_samples_split': 402, 'min_samples_leaf': 100}, mean: -1.54924, std: 0.14895, params: {'min_samples_split': 403, 'min_samples_leaf': 100}, mean: -1.55342, std: 0.14620, params: {'min_samples_split': 404, 'min_samples_leaf': 100}, mean: -1.55629, std: 0.14676, params: {'min_samples_split': 405, 'min_samples_leaf': 100}, mean: -1.55476, std: 0.14470, params: {'min_samples_split': 406, 'min_samples_leaf': 100}, mean: -1.55204, std: 0.14534, params: {'min_samples_split': 407, 'min_samples_leaf': 100}, mean: -1.55692, std: 0.15156, params: {'min_samples_split': 408, 'min_samples_leaf': 100}, mean: -1.55837, std: 0.14912, params: {'min_samples_split': 409, 'min_samples_leaf': 100}, mean: -1.55983, std: 0.15090, params: {'min_samples_split': 410, 'min_samples_leaf': 100}, mean: -1.54720, std: 0.14446, params: {'min_samples_split': 411, 'min_samples_leaf': 100}, mean: -1.55769, std: 0.14678, params: {'min_samples_split': 412, 'min_samples_leaf': 100}, mean: -1.55666, std: 0.15133, params: {'min_samples_split': 413, 'min_samples_leaf': 100}, mean: -1.55605, std: 0.14963, params: {'min_samples_split': 414, 'min_samples_leaf': 100}, mean: -1.55464, std: 0.14853, params: {'min_samples_split': 415, 'min_samples_leaf': 100}, mean: -1.55091, std: 0.14625, params: {'min_samples_split': 416, 'min_samples_leaf': 100}, mean: -1.55686, std: 0.15041, params: {'min_samples_split': 417, 'min_samples_leaf': 100}, mean: -1.55706, std: 0.15013, params: {'min_samples_split': 418, 'min_samples_leaf': 100}, mean: -1.55580, std: 0.14895, params: {'min_samples_split': 419, 'min_samples_leaf': 100}, mean: -1.56094, std: 0.14665, params: {'min_samples_split': 400, 'min_samples_leaf': 110}, mean: -1.55898, std: 0.14634, params: {'min_samples_split': 401, 'min_samples_leaf': 110}, mean: -1.55839, std: 0.15067, params: {'min_samples_split': 402, 'min_samples_leaf': 110}, mean: -1.56123, std: 0.14914, params: {'min_samples_split': 403, 'min_samples_leaf': 110}, mean: -1.55853, std: 0.15003, params: {'min_samples_split': 404, 'min_samples_leaf': 110}, mean: -1.55490, std: 0.15052, params: {'min_samples_split': 405, 'min_samples_leaf': 110}, mean: -1.55005, std: 0.14649, params: {'min_samples_split': 406, 'min_samples_leaf': 110}, mean: -1.55734, std: 0.15104, params: {'min_samples_split': 407, 'min_samples_leaf': 110}, mean: -1.56077, std: 0.15139, params: {'min_samples_split': 408, 'min_samples_leaf': 110}, mean: -1.56213, std: 0.15164, params: {'min_samples_split': 409, 'min_samples_leaf': 110}, mean: -1.56508, std: 0.15293, params: {'min_samples_split': 410, 'min_samples_leaf': 110}, mean: -1.56164, std: 0.15666, params: {'min_samples_split': 411, 'min_samples_leaf': 110}, mean: -1.55766, std: 0.15424, params: {'min_samples_split': 412, 'min_samples_leaf': 110}, mean: -1.56091, std: 0.15261, params: {'min_samples_split': 413, 'min_samples_leaf': 110}, mean: -1.55750, std: 0.14631, params: {'min_samples_split': 414, 'min_samples_leaf': 110}, mean: -1.55726, std: 0.14649, params: {'min_samples_split': 415, 'min_samples_leaf': 110}, mean: -1.55459, std: 0.15063, params: {'min_samples_split': 416, 'min_samples_leaf': 110}, mean: -1.55672, std: 0.15188, params: {'min_samples_split': 417, 'min_samples_leaf': 110}, mean: -1.55601, std: 0.15011, params: {'min_samples_split': 418, 'min_samples_leaf': 110}, mean: -1.55384, std: 0.14879, params: {'min_samples_split': 419, 'min_samples_leaf': 110}, mean: -1.55750, std: 0.14556, params: {'min_samples_split': 400, 'min_samples_leaf': 120}, mean: -1.55127, std: 0.14601, params: {'min_samples_split': 401, 'min_samples_leaf': 120}, mean: -1.55817, std: 0.14987, params: {'min_samples_split': 402, 'min_samples_leaf': 120}, mean: -1.55723, std: 0.14534, params: {'min_samples_split': 403, 'min_samples_leaf': 120}, mean: -1.55488, std: 0.14424, params: {'min_samples_split': 404, 'min_samples_leaf': 120}, mean: -1.55318, std: 0.14645, params: {'min_samples_split': 405, 'min_samples_leaf': 120}, mean: -1.55731, std: 0.14777, params: {'min_samples_split': 406, 'min_samples_leaf': 120}, mean: -1.55989, std: 0.14862, params: {'min_samples_split': 407, 'min_samples_leaf': 120}, mean: -1.55752, std: 0.14897, params: {'min_samples_split': 408, 'min_samples_leaf': 120}, mean: -1.55546, std: 0.14527, params: {'min_samples_split': 409, 'min_samples_leaf': 120}, mean: -1.55843, std: 0.14556, params: {'min_samples_split': 410, 'min_samples_leaf': 120}, mean: -1.56047, std: 0.14621, params: {'min_samples_split': 411, 'min_samples_leaf': 120}, mean: -1.55615, std: 0.14642, params: {'min_samples_split': 412, 'min_samples_leaf': 120}, mean: -1.55759, std: 0.14788, params: {'min_samples_split': 413, 'min_samples_leaf': 120}, mean: -1.55934, std: 0.14948, params: {'min_samples_split': 414, 'min_samples_leaf': 120}, mean: -1.55955, std: 0.14930, params: {'min_samples_split': 415, 'min_samples_leaf': 120}, mean: -1.55757, std: 0.14599, params: {'min_samples_split': 416, 'min_samples_leaf': 120}, mean: -1.55532, std: 0.14340, params: {'min_samples_split': 417, 'min_samples_leaf': 120}, mean: -1.55759, std: 0.14545, params: {'min_samples_split': 418, 'min_samples_leaf': 120}, mean: -1.55233, std: 0.14990, params: {'min_samples_split': 419, 'min_samples_leaf': 120}, mean: -1.55677, std: 0.14663, params: {'min_samples_split': 400, 'min_samples_leaf': 130}, mean: -1.55322, std: 0.15055, params: {'min_samples_split': 401, 'min_samples_leaf': 130}, mean: -1.54958, std: 0.14937, params: {'min_samples_split': 402, 'min_samples_leaf': 130}, mean: -1.54536, std: 0.14701, params: {'min_samples_split': 403, 'min_samples_leaf': 130}, mean: -1.54972, std: 0.14321, params: {'min_samples_split': 404, 'min_samples_leaf': 130}, mean: -1.55306, std: 0.14278, params: {'min_samples_split': 405, 'min_samples_leaf': 130}, mean: -1.55445, std: 0.14461, params: {'min_samples_split': 406, 'min_samples_leaf': 130}, mean: -1.55110, std: 0.14658, params: {'min_samples_split': 407, 'min_samples_leaf': 130}, mean: -1.55675, std: 0.14781, params: {'min_samples_split': 408, 'min_samples_leaf': 130}, mean: -1.55769, std: 0.14940, params: {'min_samples_split': 409, 'min_samples_leaf': 130}, mean: -1.55520, std: 0.15183, params: {'min_samples_split': 410, 'min_samples_leaf': 130}, mean: -1.55712, std: 0.15295, params: {'min_samples_split': 411, 'min_samples_leaf': 130}, mean: -1.55647, std: 0.15607, params: {'min_samples_split': 412, 'min_samples_leaf': 130}, mean: -1.55850, std: 0.15245, params: {'min_samples_split': 413, 'min_samples_leaf': 130}, mean: -1.55840, std: 0.15160, params: {'min_samples_split': 414, 'min_samples_leaf': 130}, mean: -1.55473, std: 0.15195, params: {'min_samples_split': 415, 'min_samples_leaf': 130}, mean: -1.55668, std: 0.15650, params: {'min_samples_split': 416, 'min_samples_leaf': 130}, mean: -1.55563, std: 0.15311, params: {'min_samples_split': 417, 'min_samples_leaf': 130}, mean: -1.55602, std: 0.15593, params: {'min_samples_split': 418, 'min_samples_leaf': 130}, mean: -1.55771, std: 0.15417, params: {'min_samples_split': 419, 'min_samples_leaf': 130}, mean: -1.54447, std: 0.14008, params: {'min_samples_split': 400, 'min_samples_leaf': 140}, mean: -1.54367, std: 0.14171, params: {'min_samples_split': 401, 'min_samples_leaf': 140}, mean: -1.54779, std: 0.14521, params: {'min_samples_split': 402, 'min_samples_leaf': 140}, mean: -1.54827, std: 0.14553, params: {'min_samples_split': 403, 'min_samples_leaf': 140}, mean: -1.55309, std: 0.14907, params: {'min_samples_split': 404, 'min_samples_leaf': 140}, mean: -1.54839, std: 0.14375, params: {'min_samples_split': 405, 'min_samples_leaf': 140}, mean: -1.54483, std: 0.14169, params: {'min_samples_split': 406, 'min_samples_leaf': 140}, mean: -1.54977, std: 0.14719, params: {'min_samples_split': 407, 'min_samples_leaf': 140}, mean: -1.54894, std: 0.15044, params: {'min_samples_split': 408, 'min_samples_leaf': 140}, mean: -1.54928, std: 0.15212, params: {'min_samples_split': 409, 'min_samples_leaf': 140}, mean: -1.54807, std: 0.15142, params: {'min_samples_split': 410, 'min_samples_leaf': 140}, mean: -1.54968, std: 0.14863, params: {'min_samples_split': 411, 'min_samples_leaf': 140}, mean: -1.54820, std: 0.15078, params: {'min_samples_split': 412, 'min_samples_leaf': 140}, mean: -1.55167, std: 0.14802, params: {'min_samples_split': 413, 'min_samples_leaf': 140}, mean: -1.55646, std: 0.15234, params: {'min_samples_split': 414, 'min_samples_leaf': 140}, mean: -1.55351, std: 0.15262, params: {'min_samples_split': 415, 'min_samples_leaf': 140}, mean: -1.55786, std: 0.15049, params: {'min_samples_split': 416, 'min_samples_leaf': 140}, mean: -1.55724, std: 0.15148, params: {'min_samples_split': 417, 'min_samples_leaf': 140}, mean: -1.55591, std: 0.15134, params: {'min_samples_split': 418, 'min_samples_leaf': 140}, mean: -1.55439, std: 0.14810, params: {'min_samples_split': 419, 'min_samples_leaf': 140}, mean: -1.55635, std: 0.15642, params: {'min_samples_split': 400, 'min_samples_leaf': 150}, mean: -1.55378, std: 0.15245, params: {'min_samples_split': 401, 'min_samples_leaf': 150}, mean: -1.55671, std: 0.15057, params: {'min_samples_split': 402, 'min_samples_leaf': 150}, mean: -1.56345, std: 0.15933, params: {'min_samples_split': 403, 'min_samples_leaf': 150}, mean: -1.55687, std: 0.15681, params: {'min_samples_split': 404, 'min_samples_leaf': 150}, mean: -1.55656, std: 0.15674, params: {'min_samples_split': 405, 'min_samples_leaf': 150}, mean: -1.55762, std: 0.15878, params: {'min_samples_split': 406, 'min_samples_leaf': 150}, mean: -1.55789, std: 0.15491, params: {'min_samples_split': 407, 'min_samples_leaf': 150}, mean: -1.56514, std: 0.16014, params: {'min_samples_split': 408, 'min_samples_leaf': 150}, mean: -1.56081, std: 0.15946, params: {'min_samples_split': 409, 'min_samples_leaf': 150}, mean: -1.55891, std: 0.16134, params: {'min_samples_split': 410, 'min_samples_leaf': 150}, mean: -1.55852, std: 0.16072, params: {'min_samples_split': 411, 'min_samples_leaf': 150}, mean: -1.55916, std: 0.16050, params: {'min_samples_split': 412, 'min_samples_leaf': 150}, mean: -1.56225, std: 0.16315, params: {'min_samples_split': 413, 'min_samples_leaf': 150}, mean: -1.56120, std: 0.16020, params: {'min_samples_split': 414, 'min_samples_leaf': 150}, mean: -1.56323, std: 0.15696, params: {'min_samples_split': 415, 'min_samples_leaf': 150}, mean: -1.56392, std: 0.16080, params: {'min_samples_split': 416, 'min_samples_leaf': 150}, mean: -1.56342, std: 0.16381, params: {'min_samples_split': 417, 'min_samples_leaf': 150}, mean: -1.56204, std: 0.16344, params: {'min_samples_split': 418, 'min_samples_leaf': 150}, mean: -1.55783, std: 0.15970, params: {'min_samples_split': 419, 'min_samples_leaf': 150}]\n",
      "{'min_samples_split': 403, 'min_samples_leaf': 90}\n",
      "-1.54246594834\n",
      "0.8034756545\n"
     ]
    },
    {
     "name": "stderr",
     "output_type": "stream",
     "text": [
      "C:\\Program Files\\Anaconda3\\lib\\site-packages\\sklearn\\model_selection\\_search.py:667: DeprecationWarning: The grid_scores_ attribute was deprecated in version 0.18 in favor of the more elaborate cv_results_ attribute. The grid_scores_ attribute will not be available from 0.20\n",
      "  DeprecationWarning)\n"
     ]
    }
   ],
   "source": [
    "param_test1 = {'min_samples_split':range(400,420,1), 'min_samples_leaf':range(70,151,10)}\n",
    "\n",
    "grid= GridSearchCV(estimator = GradientBoostingClassifier(learning_rate=0.1,n_estimators=30, min_samples_split=410,\n",
    "min_samples_leaf=70,max_depth=11,max_features='sqrt',subsample=0.8,random_state=10), \n",
    "param_grid = param_test1, scoring='log_loss',n_jobs=4,iid=False, cv=5)\n",
    "\n",
    "grid.fit(X_Train,Y_Train)\n",
    "\n",
    "print(grid.grid_scores_)\n",
    "print(grid.best_params_)\n",
    "print(grid.best_score_)\n",
    "\n",
    "model=grid.best_estimator_\n",
    "\n",
    "y_pred = model.predict_proba(X_Test)\n",
    "print(log_loss( Y_Test,y_pred))"
   ]
  },
  {
   "cell_type": "code",
   "execution_count": 29,
   "metadata": {
    "collapsed": false
   },
   "outputs": [
    {
     "name": "stdout",
     "output_type": "stream",
     "text": [
      "[mean: -1.55772, std: 0.15262, params: {'min_samples_split': 400, 'min_samples_leaf': 80}, mean: -1.55595, std: 0.15454, params: {'min_samples_split': 401, 'min_samples_leaf': 80}, mean: -1.55566, std: 0.14983, params: {'min_samples_split': 402, 'min_samples_leaf': 80}, mean: -1.54676, std: 0.15049, params: {'min_samples_split': 403, 'min_samples_leaf': 80}, mean: -1.55605, std: 0.15484, params: {'min_samples_split': 404, 'min_samples_leaf': 80}, mean: -1.54502, std: 0.15151, params: {'min_samples_split': 405, 'min_samples_leaf': 80}, mean: -1.54895, std: 0.15090, params: {'min_samples_split': 406, 'min_samples_leaf': 80}, mean: -1.55447, std: 0.15175, params: {'min_samples_split': 407, 'min_samples_leaf': 80}, mean: -1.55122, std: 0.14979, params: {'min_samples_split': 408, 'min_samples_leaf': 80}, mean: -1.55794, std: 0.15428, params: {'min_samples_split': 409, 'min_samples_leaf': 80}, mean: -1.55682, std: 0.15141, params: {'min_samples_split': 400, 'min_samples_leaf': 81}, mean: -1.56035, std: 0.14970, params: {'min_samples_split': 401, 'min_samples_leaf': 81}, mean: -1.56172, std: 0.15349, params: {'min_samples_split': 402, 'min_samples_leaf': 81}, mean: -1.56131, std: 0.14776, params: {'min_samples_split': 403, 'min_samples_leaf': 81}, mean: -1.55806, std: 0.14784, params: {'min_samples_split': 404, 'min_samples_leaf': 81}, mean: -1.55702, std: 0.15139, params: {'min_samples_split': 405, 'min_samples_leaf': 81}, mean: -1.55508, std: 0.15111, params: {'min_samples_split': 406, 'min_samples_leaf': 81}, mean: -1.56292, std: 0.14732, params: {'min_samples_split': 407, 'min_samples_leaf': 81}, mean: -1.55885, std: 0.15523, params: {'min_samples_split': 408, 'min_samples_leaf': 81}, mean: -1.55776, std: 0.15668, params: {'min_samples_split': 409, 'min_samples_leaf': 81}, mean: -1.55669, std: 0.15055, params: {'min_samples_split': 400, 'min_samples_leaf': 82}, mean: -1.55725, std: 0.14709, params: {'min_samples_split': 401, 'min_samples_leaf': 82}, mean: -1.55796, std: 0.14917, params: {'min_samples_split': 402, 'min_samples_leaf': 82}, mean: -1.55709, std: 0.15050, params: {'min_samples_split': 403, 'min_samples_leaf': 82}, mean: -1.56148, std: 0.15274, params: {'min_samples_split': 404, 'min_samples_leaf': 82}, mean: -1.55891, std: 0.15104, params: {'min_samples_split': 405, 'min_samples_leaf': 82}, mean: -1.55670, std: 0.15274, params: {'min_samples_split': 406, 'min_samples_leaf': 82}, mean: -1.55079, std: 0.14900, params: {'min_samples_split': 407, 'min_samples_leaf': 82}, mean: -1.55350, std: 0.15524, params: {'min_samples_split': 408, 'min_samples_leaf': 82}, mean: -1.55748, std: 0.15351, params: {'min_samples_split': 409, 'min_samples_leaf': 82}, mean: -1.55872, std: 0.14577, params: {'min_samples_split': 400, 'min_samples_leaf': 83}, mean: -1.55743, std: 0.15014, params: {'min_samples_split': 401, 'min_samples_leaf': 83}, mean: -1.55396, std: 0.14887, params: {'min_samples_split': 402, 'min_samples_leaf': 83}, mean: -1.56138, std: 0.15643, params: {'min_samples_split': 403, 'min_samples_leaf': 83}, mean: -1.56446, std: 0.15807, params: {'min_samples_split': 404, 'min_samples_leaf': 83}, mean: -1.54384, std: 0.14870, params: {'min_samples_split': 405, 'min_samples_leaf': 83}, mean: -1.54980, std: 0.15365, params: {'min_samples_split': 406, 'min_samples_leaf': 83}, mean: -1.55373, std: 0.15089, params: {'min_samples_split': 407, 'min_samples_leaf': 83}, mean: -1.54588, std: 0.14991, params: {'min_samples_split': 408, 'min_samples_leaf': 83}, mean: -1.55288, std: 0.15088, params: {'min_samples_split': 409, 'min_samples_leaf': 83}, mean: -1.54278, std: 0.14985, params: {'min_samples_split': 400, 'min_samples_leaf': 84}, mean: -1.54345, std: 0.15049, params: {'min_samples_split': 401, 'min_samples_leaf': 84}, mean: -1.54595, std: 0.14335, params: {'min_samples_split': 402, 'min_samples_leaf': 84}, mean: -1.54620, std: 0.15250, params: {'min_samples_split': 403, 'min_samples_leaf': 84}, mean: -1.54434, std: 0.15100, params: {'min_samples_split': 404, 'min_samples_leaf': 84}, mean: -1.55239, std: 0.15361, params: {'min_samples_split': 405, 'min_samples_leaf': 84}, mean: -1.55637, std: 0.15806, params: {'min_samples_split': 406, 'min_samples_leaf': 84}, mean: -1.56457, std: 0.15788, params: {'min_samples_split': 407, 'min_samples_leaf': 84}, mean: -1.55389, std: 0.15618, params: {'min_samples_split': 408, 'min_samples_leaf': 84}, mean: -1.55731, std: 0.15776, params: {'min_samples_split': 409, 'min_samples_leaf': 84}, mean: -1.55212, std: 0.15333, params: {'min_samples_split': 400, 'min_samples_leaf': 85}, mean: -1.55152, std: 0.15276, params: {'min_samples_split': 401, 'min_samples_leaf': 85}, mean: -1.55462, std: 0.14876, params: {'min_samples_split': 402, 'min_samples_leaf': 85}, mean: -1.55062, std: 0.15105, params: {'min_samples_split': 403, 'min_samples_leaf': 85}, mean: -1.55573, std: 0.15139, params: {'min_samples_split': 404, 'min_samples_leaf': 85}, mean: -1.55567, std: 0.15026, params: {'min_samples_split': 405, 'min_samples_leaf': 85}, mean: -1.55738, std: 0.15192, params: {'min_samples_split': 406, 'min_samples_leaf': 85}, mean: -1.55646, std: 0.15335, params: {'min_samples_split': 407, 'min_samples_leaf': 85}, mean: -1.55457, std: 0.15356, params: {'min_samples_split': 408, 'min_samples_leaf': 85}, mean: -1.55423, std: 0.15094, params: {'min_samples_split': 409, 'min_samples_leaf': 85}, mean: -1.55211, std: 0.15124, params: {'min_samples_split': 400, 'min_samples_leaf': 86}, mean: -1.54843, std: 0.14889, params: {'min_samples_split': 401, 'min_samples_leaf': 86}, mean: -1.54871, std: 0.14943, params: {'min_samples_split': 402, 'min_samples_leaf': 86}, mean: -1.56141, std: 0.15259, params: {'min_samples_split': 403, 'min_samples_leaf': 86}, mean: -1.55236, std: 0.14993, params: {'min_samples_split': 404, 'min_samples_leaf': 86}, mean: -1.55632, std: 0.15234, params: {'min_samples_split': 405, 'min_samples_leaf': 86}, mean: -1.55232, std: 0.14747, params: {'min_samples_split': 406, 'min_samples_leaf': 86}, mean: -1.55072, std: 0.15199, params: {'min_samples_split': 407, 'min_samples_leaf': 86}, mean: -1.55093, std: 0.15067, params: {'min_samples_split': 408, 'min_samples_leaf': 86}, mean: -1.55367, std: 0.15061, params: {'min_samples_split': 409, 'min_samples_leaf': 86}, mean: -1.55191, std: 0.14938, params: {'min_samples_split': 400, 'min_samples_leaf': 87}, mean: -1.55230, std: 0.14733, params: {'min_samples_split': 401, 'min_samples_leaf': 87}, mean: -1.54725, std: 0.14775, params: {'min_samples_split': 402, 'min_samples_leaf': 87}, mean: -1.54468, std: 0.14879, params: {'min_samples_split': 403, 'min_samples_leaf': 87}, mean: -1.54564, std: 0.14468, params: {'min_samples_split': 404, 'min_samples_leaf': 87}, mean: -1.55626, std: 0.15154, params: {'min_samples_split': 405, 'min_samples_leaf': 87}, mean: -1.55186, std: 0.14967, params: {'min_samples_split': 406, 'min_samples_leaf': 87}, mean: -1.55074, std: 0.15322, params: {'min_samples_split': 407, 'min_samples_leaf': 87}, mean: -1.55563, std: 0.15461, params: {'min_samples_split': 408, 'min_samples_leaf': 87}, mean: -1.55089, std: 0.15317, params: {'min_samples_split': 409, 'min_samples_leaf': 87}, mean: -1.54577, std: 0.14762, params: {'min_samples_split': 400, 'min_samples_leaf': 88}, mean: -1.54852, std: 0.14788, params: {'min_samples_split': 401, 'min_samples_leaf': 88}, mean: -1.54694, std: 0.15095, params: {'min_samples_split': 402, 'min_samples_leaf': 88}, mean: -1.54399, std: 0.14626, params: {'min_samples_split': 403, 'min_samples_leaf': 88}, mean: -1.54907, std: 0.15200, params: {'min_samples_split': 404, 'min_samples_leaf': 88}, mean: -1.55409, std: 0.15052, params: {'min_samples_split': 405, 'min_samples_leaf': 88}, mean: -1.55754, std: 0.15578, params: {'min_samples_split': 406, 'min_samples_leaf': 88}, mean: -1.56048, std: 0.15920, params: {'min_samples_split': 407, 'min_samples_leaf': 88}, mean: -1.55472, std: 0.15861, params: {'min_samples_split': 408, 'min_samples_leaf': 88}, mean: -1.55426, std: 0.15589, params: {'min_samples_split': 409, 'min_samples_leaf': 88}, mean: -1.54932, std: 0.15148, params: {'min_samples_split': 400, 'min_samples_leaf': 89}, mean: -1.54759, std: 0.15038, params: {'min_samples_split': 401, 'min_samples_leaf': 89}, mean: -1.55452, std: 0.15141, params: {'min_samples_split': 402, 'min_samples_leaf': 89}, mean: -1.54879, std: 0.14757, params: {'min_samples_split': 403, 'min_samples_leaf': 89}, mean: -1.54796, std: 0.15679, params: {'min_samples_split': 404, 'min_samples_leaf': 89}, mean: -1.54951, std: 0.15310, params: {'min_samples_split': 405, 'min_samples_leaf': 89}, mean: -1.56158, std: 0.15364, params: {'min_samples_split': 406, 'min_samples_leaf': 89}, mean: -1.55807, std: 0.15357, params: {'min_samples_split': 407, 'min_samples_leaf': 89}, mean: -1.55577, std: 0.14992, params: {'min_samples_split': 408, 'min_samples_leaf': 89}, mean: -1.55960, std: 0.15262, params: {'min_samples_split': 409, 'min_samples_leaf': 89}, mean: -1.54542, std: 0.14554, params: {'min_samples_split': 400, 'min_samples_leaf': 90}, mean: -1.54981, std: 0.14745, params: {'min_samples_split': 401, 'min_samples_leaf': 90}, mean: -1.54915, std: 0.15414, params: {'min_samples_split': 402, 'min_samples_leaf': 90}, mean: -1.54247, std: 0.15040, params: {'min_samples_split': 403, 'min_samples_leaf': 90}, mean: -1.55004, std: 0.15430, params: {'min_samples_split': 404, 'min_samples_leaf': 90}, mean: -1.55351, std: 0.15624, params: {'min_samples_split': 405, 'min_samples_leaf': 90}, mean: -1.55876, std: 0.15188, params: {'min_samples_split': 406, 'min_samples_leaf': 90}, mean: -1.55663, std: 0.15547, params: {'min_samples_split': 407, 'min_samples_leaf': 90}, mean: -1.55147, std: 0.15207, params: {'min_samples_split': 408, 'min_samples_leaf': 90}, mean: -1.55254, std: 0.15070, params: {'min_samples_split': 409, 'min_samples_leaf': 90}, mean: -1.54435, std: 0.14731, params: {'min_samples_split': 400, 'min_samples_leaf': 91}, mean: -1.54632, std: 0.14824, params: {'min_samples_split': 401, 'min_samples_leaf': 91}, mean: -1.54380, std: 0.15054, params: {'min_samples_split': 402, 'min_samples_leaf': 91}, mean: -1.54148, std: 0.14128, params: {'min_samples_split': 403, 'min_samples_leaf': 91}, mean: -1.54305, std: 0.14128, params: {'min_samples_split': 404, 'min_samples_leaf': 91}, mean: -1.54925, std: 0.14517, params: {'min_samples_split': 405, 'min_samples_leaf': 91}, mean: -1.55566, std: 0.14528, params: {'min_samples_split': 406, 'min_samples_leaf': 91}, mean: -1.55721, std: 0.14587, params: {'min_samples_split': 407, 'min_samples_leaf': 91}, mean: -1.55499, std: 0.14435, params: {'min_samples_split': 408, 'min_samples_leaf': 91}, mean: -1.55491, std: 0.14829, params: {'min_samples_split': 409, 'min_samples_leaf': 91}, mean: -1.55073, std: 0.14256, params: {'min_samples_split': 400, 'min_samples_leaf': 92}, mean: -1.55107, std: 0.14255, params: {'min_samples_split': 401, 'min_samples_leaf': 92}, mean: -1.55235, std: 0.14428, params: {'min_samples_split': 402, 'min_samples_leaf': 92}, mean: -1.54945, std: 0.14455, params: {'min_samples_split': 403, 'min_samples_leaf': 92}, mean: -1.54515, std: 0.14372, params: {'min_samples_split': 404, 'min_samples_leaf': 92}, mean: -1.55388, std: 0.14911, params: {'min_samples_split': 405, 'min_samples_leaf': 92}, mean: -1.55860, std: 0.14979, params: {'min_samples_split': 406, 'min_samples_leaf': 92}, mean: -1.55370, std: 0.15076, params: {'min_samples_split': 407, 'min_samples_leaf': 92}, mean: -1.55292, std: 0.15198, params: {'min_samples_split': 408, 'min_samples_leaf': 92}, mean: -1.55576, std: 0.15355, params: {'min_samples_split': 409, 'min_samples_leaf': 92}, mean: -1.55762, std: 0.15531, params: {'min_samples_split': 400, 'min_samples_leaf': 93}, mean: -1.55788, std: 0.15609, params: {'min_samples_split': 401, 'min_samples_leaf': 93}, mean: -1.56207, std: 0.15699, params: {'min_samples_split': 402, 'min_samples_leaf': 93}, mean: -1.55738, std: 0.14723, params: {'min_samples_split': 403, 'min_samples_leaf': 93}, mean: -1.55148, std: 0.14472, params: {'min_samples_split': 404, 'min_samples_leaf': 93}, mean: -1.55422, std: 0.15094, params: {'min_samples_split': 405, 'min_samples_leaf': 93}, mean: -1.55809, std: 0.14900, params: {'min_samples_split': 406, 'min_samples_leaf': 93}, mean: -1.54999, std: 0.14560, params: {'min_samples_split': 407, 'min_samples_leaf': 93}, mean: -1.55493, std: 0.15021, params: {'min_samples_split': 408, 'min_samples_leaf': 93}, mean: -1.55743, std: 0.15022, params: {'min_samples_split': 409, 'min_samples_leaf': 93}, mean: -1.54797, std: 0.15314, params: {'min_samples_split': 400, 'min_samples_leaf': 94}, mean: -1.54445, std: 0.15048, params: {'min_samples_split': 401, 'min_samples_leaf': 94}, mean: -1.54746, std: 0.15617, params: {'min_samples_split': 402, 'min_samples_leaf': 94}, mean: -1.55070, std: 0.15421, params: {'min_samples_split': 403, 'min_samples_leaf': 94}, mean: -1.55012, std: 0.15327, params: {'min_samples_split': 404, 'min_samples_leaf': 94}, mean: -1.55221, std: 0.15481, params: {'min_samples_split': 405, 'min_samples_leaf': 94}, mean: -1.55552, std: 0.15683, params: {'min_samples_split': 406, 'min_samples_leaf': 94}, mean: -1.55469, std: 0.15701, params: {'min_samples_split': 407, 'min_samples_leaf': 94}, mean: -1.55389, std: 0.15215, params: {'min_samples_split': 408, 'min_samples_leaf': 94}, mean: -1.55358, std: 0.15115, params: {'min_samples_split': 409, 'min_samples_leaf': 94}, mean: -1.54085, std: 0.14806, params: {'min_samples_split': 400, 'min_samples_leaf': 95}, mean: -1.54316, std: 0.14557, params: {'min_samples_split': 401, 'min_samples_leaf': 95}, mean: -1.54520, std: 0.15216, params: {'min_samples_split': 402, 'min_samples_leaf': 95}, mean: -1.54577, std: 0.14670, params: {'min_samples_split': 403, 'min_samples_leaf': 95}, mean: -1.54869, std: 0.15271, params: {'min_samples_split': 404, 'min_samples_leaf': 95}, mean: -1.54740, std: 0.15221, params: {'min_samples_split': 405, 'min_samples_leaf': 95}, mean: -1.55390, std: 0.15095, params: {'min_samples_split': 406, 'min_samples_leaf': 95}, mean: -1.55390, std: 0.15344, params: {'min_samples_split': 407, 'min_samples_leaf': 95}, mean: -1.55095, std: 0.15401, params: {'min_samples_split': 408, 'min_samples_leaf': 95}, mean: -1.55722, std: 0.15438, params: {'min_samples_split': 409, 'min_samples_leaf': 95}, mean: -1.55079, std: 0.14865, params: {'min_samples_split': 400, 'min_samples_leaf': 96}, mean: -1.55743, std: 0.15275, params: {'min_samples_split': 401, 'min_samples_leaf': 96}, mean: -1.55106, std: 0.15230, params: {'min_samples_split': 402, 'min_samples_leaf': 96}, mean: -1.55094, std: 0.14732, params: {'min_samples_split': 403, 'min_samples_leaf': 96}, mean: -1.54953, std: 0.15096, params: {'min_samples_split': 404, 'min_samples_leaf': 96}, mean: -1.55458, std: 0.14875, params: {'min_samples_split': 405, 'min_samples_leaf': 96}, mean: -1.55973, std: 0.15104, params: {'min_samples_split': 406, 'min_samples_leaf': 96}, mean: -1.56494, std: 0.15117, params: {'min_samples_split': 407, 'min_samples_leaf': 96}, mean: -1.55235, std: 0.15149, params: {'min_samples_split': 408, 'min_samples_leaf': 96}, mean: -1.55276, std: 0.14985, params: {'min_samples_split': 409, 'min_samples_leaf': 96}, mean: -1.54516, std: 0.14759, params: {'min_samples_split': 400, 'min_samples_leaf': 97}, mean: -1.54142, std: 0.15114, params: {'min_samples_split': 401, 'min_samples_leaf': 97}, mean: -1.55097, std: 0.15091, params: {'min_samples_split': 402, 'min_samples_leaf': 97}, mean: -1.55739, std: 0.14192, params: {'min_samples_split': 403, 'min_samples_leaf': 97}, mean: -1.55575, std: 0.15061, params: {'min_samples_split': 404, 'min_samples_leaf': 97}, mean: -1.55390, std: 0.14886, params: {'min_samples_split': 405, 'min_samples_leaf': 97}, mean: -1.55117, std: 0.14175, params: {'min_samples_split': 406, 'min_samples_leaf': 97}, mean: -1.55534, std: 0.14693, params: {'min_samples_split': 407, 'min_samples_leaf': 97}, mean: -1.55560, std: 0.14396, params: {'min_samples_split': 408, 'min_samples_leaf': 97}, mean: -1.55718, std: 0.14564, params: {'min_samples_split': 409, 'min_samples_leaf': 97}, mean: -1.55541, std: 0.14802, params: {'min_samples_split': 400, 'min_samples_leaf': 98}, mean: -1.55282, std: 0.15019, params: {'min_samples_split': 401, 'min_samples_leaf': 98}, mean: -1.55226, std: 0.14726, params: {'min_samples_split': 402, 'min_samples_leaf': 98}, mean: -1.55219, std: 0.14615, params: {'min_samples_split': 403, 'min_samples_leaf': 98}, mean: -1.55093, std: 0.14771, params: {'min_samples_split': 404, 'min_samples_leaf': 98}, mean: -1.55298, std: 0.14815, params: {'min_samples_split': 405, 'min_samples_leaf': 98}, mean: -1.54836, std: 0.14796, params: {'min_samples_split': 406, 'min_samples_leaf': 98}, mean: -1.55238, std: 0.14872, params: {'min_samples_split': 407, 'min_samples_leaf': 98}, mean: -1.55056, std: 0.15081, params: {'min_samples_split': 408, 'min_samples_leaf': 98}, mean: -1.54571, std: 0.14723, params: {'min_samples_split': 409, 'min_samples_leaf': 98}, mean: -1.55193, std: 0.13983, params: {'min_samples_split': 400, 'min_samples_leaf': 99}, mean: -1.55250, std: 0.14122, params: {'min_samples_split': 401, 'min_samples_leaf': 99}, mean: -1.55358, std: 0.14660, params: {'min_samples_split': 402, 'min_samples_leaf': 99}, mean: -1.55138, std: 0.14885, params: {'min_samples_split': 403, 'min_samples_leaf': 99}, mean: -1.55085, std: 0.15079, params: {'min_samples_split': 404, 'min_samples_leaf': 99}, mean: -1.55457, std: 0.14423, params: {'min_samples_split': 405, 'min_samples_leaf': 99}, mean: -1.55822, std: 0.14861, params: {'min_samples_split': 406, 'min_samples_leaf': 99}, mean: -1.55278, std: 0.14427, params: {'min_samples_split': 407, 'min_samples_leaf': 99}, mean: -1.55216, std: 0.14932, params: {'min_samples_split': 408, 'min_samples_leaf': 99}, mean: -1.55785, std: 0.14783, params: {'min_samples_split': 409, 'min_samples_leaf': 99}]\n",
      "{'min_samples_split': 400, 'min_samples_leaf': 95}\n",
      "-1.54085232125\n",
      "0.808693284005\n"
     ]
    },
    {
     "name": "stderr",
     "output_type": "stream",
     "text": [
      "C:\\Program Files\\Anaconda3\\lib\\site-packages\\sklearn\\model_selection\\_search.py:667: DeprecationWarning: The grid_scores_ attribute was deprecated in version 0.18 in favor of the more elaborate cv_results_ attribute. The grid_scores_ attribute will not be available from 0.20\n",
      "  DeprecationWarning)\n"
     ]
    }
   ],
   "source": [
    "param_test1 = {'min_samples_split':range(400,410,1), 'min_samples_leaf':range(80,100,1)}\n",
    "\n",
    "grid= GridSearchCV(estimator = GradientBoostingClassifier(learning_rate=0.1,n_estimators=30, min_samples_split=410,\n",
    "min_samples_leaf=70,max_depth=11,max_features='sqrt',subsample=0.8,random_state=10), \n",
    "param_grid = param_test1, scoring='log_loss',n_jobs=4,iid=False, cv=5)\n",
    "\n",
    "grid.fit(X_Train,Y_Train)\n",
    "\n",
    "print(grid.grid_scores_)\n",
    "print(grid.best_params_)\n",
    "print(grid.best_score_)\n",
    "\n",
    "model=grid.best_estimator_\n",
    "\n",
    "y_pred = model.predict_proba(X_Test)\n",
    "print(log_loss( Y_Test,y_pred))"
   ]
  },
  {
   "cell_type": "code",
   "execution_count": null,
   "metadata": {
    "collapsed": true
   },
   "outputs": [],
   "source": []
  },
  {
   "cell_type": "code",
   "execution_count": null,
   "metadata": {
    "collapsed": true
   },
   "outputs": [],
   "source": []
  },
  {
   "cell_type": "code",
   "execution_count": null,
   "metadata": {
    "collapsed": true
   },
   "outputs": [],
   "source": [
    "5.5 Tune max_features"
   ]
  },
  {
   "cell_type": "code",
   "execution_count": 32,
   "metadata": {
    "collapsed": false
   },
   "outputs": [
    {
     "name": "stdout",
     "output_type": "stream",
     "text": [
      "[mean: -1.57279, std: 0.18203, params: {'max_features': 45}, mean: -1.57437, std: 0.17828, params: {'max_features': 47}, mean: -1.58613, std: 0.17701, params: {'max_features': 49}, mean: -1.58152, std: 0.16953, params: {'max_features': 51}, mean: -1.57417, std: 0.18126, params: {'max_features': 53}, mean: -1.57027, std: 0.17977, params: {'max_features': 55}, mean: -1.56766, std: 0.16818, params: {'max_features': 57}, mean: -1.57789, std: 0.16945, params: {'max_features': 59}, mean: -1.58232, std: 0.18992, params: {'max_features': 61}, mean: -1.57946, std: 0.18375, params: {'max_features': 63}]\n",
      "{'max_features': 57}\n",
      "-1.56765738862\n",
      "0.75607678148\n"
     ]
    },
    {
     "name": "stderr",
     "output_type": "stream",
     "text": [
      "C:\\Program Files\\Anaconda3\\lib\\site-packages\\sklearn\\model_selection\\_search.py:667: DeprecationWarning: The grid_scores_ attribute was deprecated in version 0.18 in favor of the more elaborate cv_results_ attribute. The grid_scores_ attribute will not be available from 0.20\n",
      "  DeprecationWarning)\n"
     ]
    }
   ],
   "source": [
    "param_test1 = {'max_features':range(45,65,2)}\n",
    "\n",
    "grid= GridSearchCV(estimator = GradientBoostingClassifier(learning_rate=0.1,n_estimators=30, min_samples_split=400,\n",
    "min_samples_leaf=95,max_depth=11,max_features='sqrt',subsample=0.8,random_state=10), \n",
    "param_grid = param_test1, scoring='log_loss',n_jobs=4,iid=False, cv=5)\n",
    "\n",
    "grid.fit(X_Train,Y_Train)\n",
    "\n",
    "print(grid.grid_scores_)\n",
    "print(grid.best_params_)\n",
    "print(grid.best_score_)\n",
    "\n",
    "model=grid.best_estimator_\n",
    "\n",
    "y_pred = model.predict_proba(X_Test)\n",
    "print(log_loss( Y_Test,y_pred))"
   ]
  },
  {
   "cell_type": "code",
   "execution_count": null,
   "metadata": {
    "collapsed": true
   },
   "outputs": [],
   "source": [
    "5.6 Tuning subsample"
   ]
  },
  {
   "cell_type": "code",
   "execution_count": 33,
   "metadata": {
    "collapsed": false
   },
   "outputs": [
    {
     "name": "stdout",
     "output_type": "stream",
     "text": [
      "[mean: -1.58084, std: 0.15496, params: {'subsample': 0.6}, mean: -1.55607, std: 0.16175, params: {'subsample': 0.7}, mean: -1.55037, std: 0.14999, params: {'subsample': 0.75}, mean: -1.54085, std: 0.14806, params: {'subsample': 0.8}, mean: -1.56443, std: 0.15428, params: {'subsample': 0.85}, mean: -1.57190, std: 0.16556, params: {'subsample': 0.9}]\n",
      "{'subsample': 0.8}\n",
      "-1.54085232125\n",
      "0.808693284005\n"
     ]
    },
    {
     "name": "stderr",
     "output_type": "stream",
     "text": [
      "C:\\Program Files\\Anaconda3\\lib\\site-packages\\sklearn\\model_selection\\_search.py:667: DeprecationWarning: The grid_scores_ attribute was deprecated in version 0.18 in favor of the more elaborate cv_results_ attribute. The grid_scores_ attribute will not be available from 0.20\n",
      "  DeprecationWarning)\n"
     ]
    }
   ],
   "source": [
    "param_test1 = {'subsample':[0.6,0.7,0.75,0.8,0.85,0.9]}\n",
    "\n",
    "grid= GridSearchCV(estimator = GradientBoostingClassifier(learning_rate=0.1,n_estimators=30, min_samples_split=400,\n",
    "min_samples_leaf=95,max_depth=11,max_features='sqrt',subsample=0.8,random_state=10), \n",
    "param_grid = param_test1, scoring='log_loss',n_jobs=4,iid=False, cv=5)\n",
    "\n",
    "grid.fit(X_Train,Y_Train)\n",
    "\n",
    "print(grid.grid_scores_)\n",
    "print(grid.best_params_)\n",
    "print(grid.best_score_)\n",
    "\n",
    "model=grid.best_estimator_\n",
    "\n",
    "y_pred = model.predict_proba(X_Test)\n",
    "print(log_loss( Y_Test,y_pred))"
   ]
  },
  {
   "cell_type": "code",
   "execution_count": null,
   "metadata": {
    "collapsed": true
   },
   "outputs": [],
   "source": []
  },
  {
   "cell_type": "code",
   "execution_count": null,
   "metadata": {
    "collapsed": true
   },
   "outputs": [],
   "source": [
    "5.7 lower learning rate"
   ]
  },
  {
   "cell_type": "code",
   "execution_count": 34,
   "metadata": {
    "collapsed": false
   },
   "outputs": [
    {
     "name": "stdout",
     "output_type": "stream",
     "text": [
      "[mean: -2.04397, std: 0.01702, params: {'n_estimators': 10}, mean: -1.91995, std: 0.04009, params: {'n_estimators': 30}, mean: -1.83184, std: 0.05949, params: {'n_estimators': 50}, mean: -1.76853, std: 0.07825, params: {'n_estimators': 70}, mean: -1.72066, std: 0.09153, params: {'n_estimators': 90}, mean: -1.68101, std: 0.10287, params: {'n_estimators': 110}, mean: -1.64945, std: 0.11248, params: {'n_estimators': 130}, mean: -1.62601, std: 0.12153, params: {'n_estimators': 150}, mean: -1.60640, std: 0.12933, params: {'n_estimators': 170}, mean: -1.58974, std: 0.13546, params: {'n_estimators': 190}]\n",
      "{'n_estimators': 190}\n",
      "-1.58973793204\n",
      "0.993815061324\n"
     ]
    },
    {
     "name": "stderr",
     "output_type": "stream",
     "text": [
      "C:\\Program Files\\Anaconda3\\lib\\site-packages\\sklearn\\model_selection\\_search.py:667: DeprecationWarning: The grid_scores_ attribute was deprecated in version 0.18 in favor of the more elaborate cv_results_ attribute. The grid_scores_ attribute will not be available from 0.20\n",
      "  DeprecationWarning)\n"
     ]
    }
   ],
   "source": [
    "param_test1 = {'n_estimators':range(10,200,20)}\n",
    "grid= GridSearchCV(estimator = GradientBoostingClassifier(learning_rate=0.01,n_estimators=30, min_samples_split=400,\n",
    "min_samples_leaf=95,max_depth=11,max_features='sqrt',subsample=0.8,random_state=10), \n",
    "param_grid = param_test1, scoring='log_loss',n_jobs=4,iid=False, cv=5)\n",
    "\n",
    "grid.fit(X_Train,Y_Train)\n",
    "\n",
    "print(grid.grid_scores_)\n",
    "print(grid.best_params_)\n",
    "print(grid.best_score_)\n",
    "\n",
    "model=grid.best_estimator_\n",
    "\n",
    "y_pred = model.predict_proba(X_Test)\n",
    "print(log_loss( Y_Test,y_pred))"
   ]
  },
  {
   "cell_type": "code",
   "execution_count": 35,
   "metadata": {
    "collapsed": false
   },
   "outputs": [
    {
     "name": "stdout",
     "output_type": "stream",
     "text": [
      "[mean: -1.68937, std: 0.22603, params: {'n_estimators': 1000}, mean: -1.74536, std: 0.23871, params: {'n_estimators': 1200}, mean: -1.80004, std: 0.25189, params: {'n_estimators': 1400}, mean: -1.85113, std: 0.26526, params: {'n_estimators': 1600}, mean: -1.90299, std: 0.27687, params: {'n_estimators': 1800}, mean: -1.94938, std: 0.28793, params: {'n_estimators': 2000}, mean: -1.99401, std: 0.30050, params: {'n_estimators': 2200}, mean: -2.03430, std: 0.30943, params: {'n_estimators': 2400}, mean: -2.07193, std: 0.31763, params: {'n_estimators': 2600}, mean: -2.10861, std: 0.32508, params: {'n_estimators': 2800}]\n",
      "{'n_estimators': 1000}\n",
      "-1.68936899243\n",
      "0.327964048753\n"
     ]
    },
    {
     "name": "stderr",
     "output_type": "stream",
     "text": [
      "C:\\Program Files\\Anaconda3\\lib\\site-packages\\sklearn\\model_selection\\_search.py:667: DeprecationWarning: The grid_scores_ attribute was deprecated in version 0.18 in favor of the more elaborate cv_results_ attribute. The grid_scores_ attribute will not be available from 0.20\n",
      "  DeprecationWarning)\n"
     ]
    }
   ],
   "source": [
    "param_test1 = {'n_estimators':range(1000,3000,200)}\n",
    "grid= GridSearchCV(estimator = GradientBoostingClassifier(learning_rate=0.01,n_estimators=30, min_samples_split=400,\n",
    "min_samples_leaf=95,max_depth=11,max_features='sqrt',subsample=0.8,random_state=10), \n",
    "param_grid = param_test1, scoring='log_loss',n_jobs=4,iid=False, cv=5)\n",
    "\n",
    "grid.fit(X_Train,Y_Train)\n",
    "\n",
    "print(grid.grid_scores_)\n",
    "print(grid.best_params_)\n",
    "print(grid.best_score_)\n",
    "\n",
    "model=grid.best_estimator_\n",
    "\n",
    "y_pred = model.predict_proba(X_Test)\n",
    "print(log_loss( Y_Test,y_pred))"
   ]
  },
  {
   "cell_type": "code",
   "execution_count": 44,
   "metadata": {
    "collapsed": false
   },
   "outputs": [
    {
     "name": "stdout",
     "output_type": "stream",
     "text": [
      "[mean: -1.58439, std: 0.13966, params: {'n_estimators': 200}, mean: -1.55501, std: 0.16165, params: {'n_estimators': 300}, mean: -1.55394, std: 0.17792, params: {'n_estimators': 400}, mean: -1.56545, std: 0.18839, params: {'n_estimators': 500}, mean: -1.58541, std: 0.19644, params: {'n_estimators': 600}, mean: -1.60851, std: 0.20333, params: {'n_estimators': 700}, mean: -1.63527, std: 0.21134, params: {'n_estimators': 800}, mean: -1.66067, std: 0.21936, params: {'n_estimators': 900}, mean: -1.68937, std: 0.22603, params: {'n_estimators': 1000}, mean: -1.71672, std: 0.23230, params: {'n_estimators': 1100}]\n",
      "{'n_estimators': 400}\n",
      "-1.55394460174\n",
      "0.679090946848\n"
     ]
    },
    {
     "name": "stderr",
     "output_type": "stream",
     "text": [
      "C:\\Program Files\\Anaconda3\\lib\\site-packages\\sklearn\\model_selection\\_search.py:667: DeprecationWarning: The grid_scores_ attribute was deprecated in version 0.18 in favor of the more elaborate cv_results_ attribute. The grid_scores_ attribute will not be available from 0.20\n",
      "  DeprecationWarning)\n"
     ]
    }
   ],
   "source": [
    "param_test1 = {'n_estimators':range(200,1200,100)}\n",
    "grid= GridSearchCV(estimator = GradientBoostingClassifier(learning_rate=0.01,n_estimators=30, min_samples_split=400,\n",
    "min_samples_leaf=95,max_depth=11,max_features='sqrt',subsample=0.8,random_state=10), \n",
    "param_grid = param_test1, scoring='log_loss',n_jobs=4,iid=False, cv=5)\n",
    "\n",
    "grid.fit(X_Train,Y_Train)\n",
    "\n",
    "print(grid.grid_scores_)\n",
    "print(grid.best_params_)\n",
    "print(grid.best_score_)\n",
    "\n",
    "model=grid.best_estimator_\n",
    "\n",
    "y_pred = model.predict_proba(X_Test)\n",
    "print(log_loss( Y_Test,y_pred))"
   ]
  },
  {
   "cell_type": "code",
   "execution_count": null,
   "metadata": {
    "collapsed": true
   },
   "outputs": [],
   "source": []
  },
  {
   "cell_type": "code",
   "execution_count": 59,
   "metadata": {
    "collapsed": true
   },
   "outputs": [],
   "source": [
    "model=GradientBoostingClassifier(learning_rate=0.01,n_estimators=2000, min_samples_split=400,\n",
    "min_samples_leaf=95,max_depth=11,max_features='sqrt',subsample=0.8,random_state=10)"
   ]
  },
  {
   "cell_type": "code",
   "execution_count": 60,
   "metadata": {
    "collapsed": false
   },
   "outputs": [
    {
     "data": {
      "text/plain": [
       "GradientBoostingClassifier(criterion='friedman_mse', init=None,\n",
       "              learning_rate=0.01, loss='deviance', max_depth=11,\n",
       "              max_features='sqrt', max_leaf_nodes=None,\n",
       "              min_impurity_split=1e-07, min_samples_leaf=95,\n",
       "              min_samples_split=400, min_weight_fraction_leaf=0.0,\n",
       "              n_estimators=3000, presort='auto', random_state=10,\n",
       "              subsample=0.8, verbose=0, warm_start=False)"
      ]
     },
     "execution_count": 60,
     "metadata": {},
     "output_type": "execute_result"
    }
   ],
   "source": [
    "model.fit(X_Train,Y_Train)"
   ]
  },
  {
   "cell_type": "code",
   "execution_count": 61,
   "metadata": {
    "collapsed": true
   },
   "outputs": [],
   "source": [
    "y_pred=model.predict_proba(yet_to_complete[3321:])"
   ]
  },
  {
   "cell_type": "code",
   "execution_count": 62,
   "metadata": {
    "collapsed": true
   },
   "outputs": [],
   "source": [
    "#tweaking the submission file as required\n",
    "subm_file = pd.DataFrame(y_pred)\n",
    "subm_file['id'] = test_index\n",
    "subm_file.columns = ['class1', 'class2', 'class3', 'class4', 'class5', 'class6', 'class7', 'class8', 'class9', 'id']\n",
    "subm_file.to_csv(\"submission.csv\",index=False)"
   ]
  },
  {
   "cell_type": "markdown",
   "metadata": {
    "collapsed": true
   },
   "source": [
    "final results on kaggle: \n",
    "learning_rate=0.1,n_estimators=30: Scored 0.96711 on Kaggle;\n",
    "learning_rate=0.01,n_estimators=1000: Scored 0.72116 on Kaggle;\n",
    "learning_rate=0.01,n_estimators=400: Scored 0.84983 on Kaggle;\n",
    "learning_rate=0.01,n_estimators=2000: Scored 0.70223 on Kaggle;\n",
    "learning_rate=0.01,n_estimators=5000: Scored 0.78279 on Kaggle;\n",
    "the other parametes remain the same,only differ \"learning_rate\" and \"n_estimators\"\n",
    "\n",
    "Observation: the result on kaggle is not matching the result from model tuning,probably because the over_fitting on kaggle leaderboard as it is only calculated with approximately 12% of the test data."
   ]
  },
  {
   "cell_type": "code",
   "execution_count": null,
   "metadata": {
    "collapsed": true
   },
   "outputs": [],
   "source": []
  }
 ],
 "metadata": {
  "anaconda-cloud": {},
  "kernelspec": {
   "display_name": "Python [conda root]",
   "language": "python",
   "name": "conda-root-py"
  },
  "language_info": {
   "codemirror_mode": {
    "name": "ipython",
    "version": 3
   },
   "file_extension": ".py",
   "mimetype": "text/x-python",
   "name": "python",
   "nbconvert_exporter": "python",
   "pygments_lexer": "ipython3",
   "version": "3.5.2"
  }
 },
 "nbformat": 4,
 "nbformat_minor": 1
}
