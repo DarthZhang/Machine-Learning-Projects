{
 "cells": [
  {
   "cell_type": "code",
   "execution_count": 1,
   "metadata": {
    "collapsed": true
   },
   "outputs": [],
   "source": [
    "from scipy.stats import skew\n",
    "from IPython.display import display\n",
    "import matplotlib.pyplot as plt\n",
    "import sys\n",
    "sys.path.append('/Users/yanhuan/anaconda/pkgs/seaborn-0.7.1-py27_0/lib/python2.7/site-packages')\n",
    "#import seaborn as sns\n",
    "import numpy as np\n",
    "import pandas as pd\n",
    "\n",
    "\n",
    "SP500=pd.read_csv('SP500_new.csv')\n",
    "Nasdaq=pd.read_csv('Nasdaq_new.csv')\n",
    "DJI=pd.read_csv('DJI_new.csv')\n",
    "DAX=pd.read_csv('DAX_new.csv')\n",
    "Paris=pd.read_csv('Paris_new.csv')\n",
    "Tokyo=pd.read_csv('Tokyo_new.csv')\n",
    "HongKong=pd.read_csv('HongKong_new.csv')\n",
    "Aus=pd.read_csv('Aus_new.csv')"
   ]
  },
  {
   "cell_type": "markdown",
   "metadata": {},
   "source": [
    "Data Preprocess"
   ]
  },
  {
   "cell_type": "code",
   "execution_count": 2,
   "metadata": {
    "collapsed": true
   },
   "outputs": [],
   "source": [
    "Target=SP500['Adj Close'].pct_change(1).shift(-1)\n",
    "datasets=[SP500,Nasdaq,DJI,DAX,Paris,Tokyo,HongKong,Aus]\n",
    "namesets=['SP500','Nasdaq','DJI','DAX','Paris','Tokyo','HongKong','Aus']\n",
    "def addFeatures(datasets,DaysRet,DaysRetMovAvg,DaysLags):\n",
    "    \"\"\"\n",
    "    compute dataset's DaysReturns,DaysReturnMovAvg and DaysLags\n",
    "    DaysReturnMovAvg must >=2\n",
    "    \"\"\"\n",
    "    Max=max(DaysRet,DaysRetMovAvg,DaysLags+1)\n",
    "    for i in range(len(datasets)):\n",
    "        dataset=datasets[i]\n",
    "        nameset=namesets[i]\n",
    "        for i in range(1,DaysRet+1):\n",
    "            dataset[nameset+'_'+str(i)+'_'+'DaysRet'] = dataset['Adj Close'].pct_change(i)\n",
    "        for i in range(2,DaysRetMovAvg+1):\n",
    "            dataset[nameset+'_'+str(i)+'_'+'DaysRetMovAvg'] = pd.rolling_mean(dataset[nameset+'_'+str(1)+'_'+'DaysRet'], i)\n",
    "        for i in range(1,DaysLags+1):\n",
    "            dataset[nameset+'_'+str(i)+'_'+'DaysLags'] = dataset[nameset+'_'+str(1)+'_'+'DaysRet'].shift(i)\n",
    "        dataset=dataset[Max:]\n",
    "    return Max"
   ]
  },
  {
   "cell_type": "code",
   "execution_count": 3,
   "metadata": {
    "collapsed": false
   },
   "outputs": [
    {
     "name": "stderr",
     "output_type": "stream",
     "text": [
      "C:\\Program Files\\Anaconda3\\lib\\site-packages\\ipykernel\\__main__.py:16: FutureWarning: pd.rolling_mean is deprecated for Series and will be removed in a future version, replace with \n",
      "\tSeries.rolling(window=2,center=False).mean()\n",
      "C:\\Program Files\\Anaconda3\\lib\\site-packages\\ipykernel\\__main__.py:16: FutureWarning: pd.rolling_mean is deprecated for Series and will be removed in a future version, replace with \n",
      "\tSeries.rolling(window=3,center=False).mean()\n",
      "C:\\Program Files\\Anaconda3\\lib\\site-packages\\ipykernel\\__main__.py:16: FutureWarning: pd.rolling_mean is deprecated for Series and will be removed in a future version, replace with \n",
      "\tSeries.rolling(window=4,center=False).mean()\n",
      "C:\\Program Files\\Anaconda3\\lib\\site-packages\\ipykernel\\__main__.py:16: FutureWarning: pd.rolling_mean is deprecated for Series and will be removed in a future version, replace with \n",
      "\tSeries.rolling(window=5,center=False).mean()\n",
      "C:\\Program Files\\Anaconda3\\lib\\site-packages\\ipykernel\\__main__.py:16: FutureWarning: pd.rolling_mean is deprecated for Series and will be removed in a future version, replace with \n",
      "\tSeries.rolling(window=6,center=False).mean()\n",
      "C:\\Program Files\\Anaconda3\\lib\\site-packages\\ipykernel\\__main__.py:16: FutureWarning: pd.rolling_mean is deprecated for Series and will be removed in a future version, replace with \n",
      "\tSeries.rolling(window=7,center=False).mean()\n",
      "C:\\Program Files\\Anaconda3\\lib\\site-packages\\ipykernel\\__main__.py:16: FutureWarning: pd.rolling_mean is deprecated for Series and will be removed in a future version, replace with \n",
      "\tSeries.rolling(window=8,center=False).mean()\n",
      "C:\\Program Files\\Anaconda3\\lib\\site-packages\\ipykernel\\__main__.py:16: FutureWarning: pd.rolling_mean is deprecated for Series and will be removed in a future version, replace with \n",
      "\tSeries.rolling(window=9,center=False).mean()\n"
     ]
    }
   ],
   "source": [
    "Max=addFeatures(datasets,9,9,9)"
   ]
  },
  {
   "cell_type": "code",
   "execution_count": 4,
   "metadata": {
    "collapsed": true
   },
   "outputs": [],
   "source": [
    "def mergedataset(datasets):\n",
    "    useless=['Date','Open','High','Low','Close','Adj Close','Volume']\n",
    "    for i in range(len(datasets)):\n",
    "        datasets[i]=datasets[i].drop(useless, axis = 1)\n",
    "    new_dataset = pd.concat(datasets,axis=1)\n",
    "    return new_dataset\n",
    "\n",
    "features=mergedataset(datasets)\n",
    "\n",
    "features=features[Max:-1]\n",
    "Target=Target[Max:-1]\n",
    "\n",
    "Target[Target > 0] = 1\n",
    "Target[Target <= 0] = 0\n",
    "\n",
    "X_train=features[:-500]\n",
    "X_test=features[-500:]\n",
    "y_train=Target[:-500]\n",
    "y_test=Target[-500:]"
   ]
  },
  {
   "cell_type": "code",
   "execution_count": 11,
   "metadata": {
    "collapsed": true
   },
   "outputs": [],
   "source": [
    "from sklearn.metrics import accuracy_score\n",
    "def performTimeSeriesCV(X_train, y_train,X_test,y_test, algorithm,params_fix, params):\n",
    "    \"\"\"\n",
    "    \"\"\"\n",
    "    \n",
    "    a=params_fix\n",
    "    total={}\n",
    "    for i in range(len(list(params.values())[0])):\n",
    "        for j in range(len(list(params.values())[1])):\n",
    "            a[list(params.keys())[0]]=list(params.values())[0][i]\n",
    "            a[list(params.keys())[1]]=list(params.values())[1][j]\n",
    "        \n",
    "\n",
    "            reg=algorithm(**a)\n",
    "            reg.fit(X_train, y_train)\n",
    "            y_predict=reg.predict(X_test)\n",
    "            accuracy=accuracy_score(y_test,y_predict)\n",
    "            #print(accuracies.mean())\n",
    "            info=[]\n",
    "            info.append(list(params.values())[0][i])\n",
    "            info.append(list(params.values())[1][j])\n",
    "            total[str(accuracy)]=info\n",
    "    compare=[]\n",
    "    for i in total.keys():\n",
    "        compare.append(float(i))\n",
    "    Best_accu=max(compare)\n",
    "    print('Best accuracy:',Best_accu)\n",
    "    print(list(params.keys())[0],':',total[str(Best_accu)][0])\n",
    "    print(list(params.keys())[1],':',total[str(Best_accu)][1])\n",
    "    fin_params=params_fix\n",
    "    fin_params[list(params.keys())[0]]=total[str(Best_accu)][0]\n",
    "    fin_params[list(params.keys())[1]]=total[str(Best_accu)][1]\n",
    "    return fin_params"
   ]
  },
  {
   "cell_type": "markdown",
   "metadata": {},
   "source": [
    "# Modeling-Xgboost"
   ]
  },
  {
   "cell_type": "markdown",
   "metadata": {},
   "source": [
    "1 Fix learning rate and number of estimators for tuning tree-based parameters"
   ]
  },
  {
   "cell_type": "code",
   "execution_count": 6,
   "metadata": {
    "collapsed": false
   },
   "outputs": [
    {
     "name": "stderr",
     "output_type": "stream",
     "text": [
      "C:\\Program Files\\Anaconda3\\lib\\site-packages\\sklearn\\cross_validation.py:44: DeprecationWarning: This module was deprecated in version 0.18 in favor of the model_selection module into which all the refactored classes and functions are moved. Also note that the interface of the new CV iterators are different from that of this module. This module will be removed in 0.20.\n",
      "  \"This module will be removed in 0.20.\", DeprecationWarning)\n"
     ]
    }
   ],
   "source": [
    "import pandas as pd\n",
    "import numpy as np\n",
    "import xgboost as xgb\n",
    "from xgboost.sklearn import XGBClassifier\n",
    "from sklearn import cross_validation, metrics   #Additional scklearn functions"
   ]
  },
  {
   "cell_type": "code",
   "execution_count": 7,
   "metadata": {
    "collapsed": true
   },
   "outputs": [],
   "source": [
    "def modelfit(alg,X_train, Y_train,useTrainCV=True, cv_folds=5, early_stopping_rounds=50):\n",
    "    \n",
    "    if useTrainCV:\n",
    "        xgb_param = alg.get_xgb_params()\n",
    "        xgtrain = xgb.DMatrix(X_train, Y_train)\n",
    "        cvresult = xgb.cv(xgb_param, xgtrain, num_boost_round=alg.get_params()['n_estimators'], nfold=cv_folds,\n",
    "            metrics='auc', early_stopping_rounds=early_stopping_rounds)\n",
    "        #alg.set_params(n_estimators=cvresult.shape[0])\n",
    "    \n",
    "    #Fit the algorithm on the data\n",
    "    #alg.fit(X_train, Y_train,eval_metric='rmse')\n",
    "    print(cvresult.shape[0])"
   ]
  },
  {
   "cell_type": "code",
   "execution_count": 8,
   "metadata": {
    "collapsed": true
   },
   "outputs": [],
   "source": [
    "xgb1 = XGBClassifier(\n",
    " learning_rate =0.1,\n",
    " n_estimators=1000,\n",
    " max_depth=5,\n",
    " min_child_weight=1,\n",
    " gamma=0,\n",
    " subsample=0.8,\n",
    " colsample_bytree=0.8,\n",
    " objective= 'binary:logistic',\n",
    " nthread=4,\n",
    " scale_pos_weight=1,\n",
    " seed=27)"
   ]
  },
  {
   "cell_type": "code",
   "execution_count": 9,
   "metadata": {
    "collapsed": false
   },
   "outputs": [
    {
     "name": "stdout",
     "output_type": "stream",
     "text": [
      "31\n"
     ]
    }
   ],
   "source": [
    "modelfit(xgb1,X_train, y_train)"
   ]
  },
  {
   "cell_type": "markdown",
   "metadata": {},
   "source": [
    "2.2 Tune max_depth and min_child_weight"
   ]
  },
  {
   "cell_type": "code",
   "execution_count": 12,
   "metadata": {
    "collapsed": false
   },
   "outputs": [
    {
     "name": "stdout",
     "output_type": "stream",
     "text": [
      "Best accuracy: 0.548\n",
      "max_depth : 11\n",
      "min_child_weight : 5\n"
     ]
    }
   ],
   "source": [
    "para=performTimeSeriesCV(X_train, y_train,X_test,y_test,\n",
    "                         XGBClassifier,{'learning_rate':0.1,'n_estimators':50,'max_depth':5,'min_child_weight':1,'gamma':0,'subsample':0.8,'colsample_bytree':0.8,'objective': 'binary:logistic','nthread':4,'scale_pos_weight':1,'seed':27},\n",
    "                        {'max_depth':[3,5,7,9,11],'min_child_weight':[1,3,5,7]})"
   ]
  },
  {
   "cell_type": "code",
   "execution_count": 13,
   "metadata": {
    "collapsed": false
   },
   "outputs": [
    {
     "name": "stdout",
     "output_type": "stream",
     "text": [
      "{'max_depth': 11, 'gamma': 0, 'nthread': 4, 'learning_rate': 0.1, 'colsample_bytree': 0.8, 'seed': 27, 'min_child_weight': 5, 'n_estimators': 50, 'scale_pos_weight': 1, 'subsample': 0.8, 'objective': 'binary:logistic'}\n"
     ]
    }
   ],
   "source": [
    "print(para)"
   ]
  },
  {
   "cell_type": "code",
   "execution_count": 14,
   "metadata": {
    "collapsed": false
   },
   "outputs": [
    {
     "data": {
      "text/plain": [
       "XGBClassifier(base_score=0.5, colsample_bylevel=1, colsample_bytree=0.8,\n",
       "       gamma=0, learning_rate=0.1, max_delta_step=0, max_depth=11,\n",
       "       min_child_weight=5, missing=None, n_estimators=50, nthread=4,\n",
       "       objective='binary:logistic', reg_alpha=0, reg_lambda=1,\n",
       "       scale_pos_weight=1, seed=27, silent=True, subsample=0.8)"
      ]
     },
     "execution_count": 14,
     "metadata": {},
     "output_type": "execute_result"
    }
   ],
   "source": [
    "model=XGBClassifier(**para)\n",
    "model.fit(X_train, y_train)"
   ]
  },
  {
   "cell_type": "code",
   "execution_count": 15,
   "metadata": {
    "collapsed": false
   },
   "outputs": [
    {
     "name": "stdout",
     "output_type": "stream",
     "text": [
      "0.548\n"
     ]
    }
   ],
   "source": [
    "y_predict=model.predict(X_test)\n",
    "print(accuracy_score(y_test,y_predict))"
   ]
  },
  {
   "cell_type": "code",
   "execution_count": 16,
   "metadata": {
    "collapsed": false
   },
   "outputs": [
    {
     "name": "stdout",
     "output_type": "stream",
     "text": [
      "Best accuracy: 0.548\n",
      "max_depth : 11\n",
      "min_child_weight : 5\n",
      "0.548\n"
     ]
    }
   ],
   "source": [
    "para=performTimeSeriesCV(X_train, y_train,X_test,y_test,\n",
    "                         XGBClassifier,{'learning_rate':0.1,'n_estimators':50,'max_depth':5,'min_child_weight':1,'gamma':0,'subsample':0.8,'colsample_bytree':0.8,'objective': 'binary:logistic','nthread':4,'scale_pos_weight':1,'seed':27},\n",
    "                        {'max_depth':[11,13,15,17,19,21],'min_child_weight':[4,5,6]})\n",
    "\n",
    "model=XGBClassifier(**para)\n",
    "model.fit(X_train, y_train)\n",
    "\n",
    "y_predict=model.predict(X_test)\n",
    "print(accuracy_score(y_test,y_predict))"
   ]
  },
  {
   "cell_type": "code",
   "execution_count": 17,
   "metadata": {
    "collapsed": false
   },
   "outputs": [
    {
     "name": "stdout",
     "output_type": "stream",
     "text": [
      "{'max_depth': 11, 'gamma': 0, 'nthread': 4, 'learning_rate': 0.1, 'colsample_bytree': 0.8, 'seed': 27, 'min_child_weight': 5, 'n_estimators': 50, 'scale_pos_weight': 1, 'subsample': 0.8, 'objective': 'binary:logistic'}\n"
     ]
    }
   ],
   "source": [
    "print(para)"
   ]
  },
  {
   "cell_type": "markdown",
   "metadata": {},
   "source": [
    "2.3 Tune gamma"
   ]
  },
  {
   "cell_type": "code",
   "execution_count": 25,
   "metadata": {
    "collapsed": false
   },
   "outputs": [
    {
     "name": "stdout",
     "output_type": "stream",
     "text": [
      "Best accuracy: 0.548\n",
      "max_depth : 11\n",
      "gamma : 0.0\n",
      "0.548\n"
     ]
    }
   ],
   "source": [
    "para=performTimeSeriesCV(X_train, y_train,X_test,y_test,\n",
    "                         XGBClassifier,{'max_depth': 11, 'gamma': 0, 'nthread': 4, 'learning_rate': 0.1, 'colsample_bytree': 0.8, 'seed': 27, 'min_child_weight': 5, 'n_estimators': 50, 'scale_pos_weight': 1, 'subsample': 0.8, 'objective': 'binary:logistic'},\n",
    "                        {'max_depth':[11], 'gamma':[0.0,0.1,0.2,0.3,0.4,0.5]})\n",
    "\n",
    "model=XGBClassifier(**para)\n",
    "model.fit(X_train, y_train)\n",
    "y_predict=model.predict(X_test)\n",
    "print(accuracy_score(y_test,y_predict))"
   ]
  },
  {
   "cell_type": "code",
   "execution_count": 26,
   "metadata": {
    "collapsed": false
   },
   "outputs": [
    {
     "name": "stdout",
     "output_type": "stream",
     "text": [
      "{'max_depth': 11, 'gamma': 0.0, 'nthread': 4, 'learning_rate': 0.1, 'subsample': 0.8, 'min_child_weight': 5, 'colsample_bytree': 0.8, 'n_estimators': 50, 'seed': 27, 'scale_pos_weight': 1, 'objective': 'binary:logistic'}\n"
     ]
    }
   ],
   "source": [
    "print(para)"
   ]
  },
  {
   "cell_type": "markdown",
   "metadata": {},
   "source": [
    "re-calibrate the number of boosting rounds for the updated parameters"
   ]
  },
  {
   "cell_type": "code",
   "execution_count": 27,
   "metadata": {
    "collapsed": true
   },
   "outputs": [],
   "source": [
    "xgb1 = XGBClassifier(**para)"
   ]
  },
  {
   "cell_type": "code",
   "execution_count": 28,
   "metadata": {
    "collapsed": false
   },
   "outputs": [
    {
     "name": "stdout",
     "output_type": "stream",
     "text": [
      "50\n"
     ]
    }
   ],
   "source": [
    "modelfit(xgb1,X_train, y_train)"
   ]
  },
  {
   "cell_type": "markdown",
   "metadata": {},
   "source": [
    "2.4 Tune subsample and colsample_bytree"
   ]
  },
  {
   "cell_type": "code",
   "execution_count": 29,
   "metadata": {
    "collapsed": false
   },
   "outputs": [
    {
     "name": "stdout",
     "output_type": "stream",
     "text": [
      "Best accuracy: 0.548\n",
      "colsample_bytree : 0.8\n",
      "subsample : 0.8\n",
      "0.548\n"
     ]
    }
   ],
   "source": [
    "para=performTimeSeriesCV(X_train, y_train,X_test,y_test,\n",
    "                         XGBClassifier,{'max_depth': 11, 'gamma': 0.0, 'nthread': 4, 'learning_rate': 0.1, 'subsample': 0.8, 'min_child_weight': 5, 'colsample_bytree': 0.8, 'n_estimators': 50, 'seed': 27, 'scale_pos_weight': 1, 'objective': 'binary:logistic'},\n",
    "                        {'subsample':[0.6,0.7,0.8,0.9,1.0], 'colsample_bytree':[0.6,0.7,0.8,0.9,1.0]})\n",
    "\n",
    "model=XGBClassifier(**para)\n",
    "model.fit(X_train, y_train)\n",
    "y_predict=model.predict(X_test)\n",
    "print(accuracy_score(y_test,y_predict))"
   ]
  },
  {
   "cell_type": "code",
   "execution_count": 30,
   "metadata": {
    "collapsed": false
   },
   "outputs": [
    {
     "name": "stdout",
     "output_type": "stream",
     "text": [
      "{'max_depth': 11, 'gamma': 0.0, 'nthread': 4, 'learning_rate': 0.1, 'colsample_bytree': 0.8, 'min_child_weight': 5, 'scale_pos_weight': 1, 'n_estimators': 50, 'seed': 27, 'subsample': 0.8, 'objective': 'binary:logistic'}\n"
     ]
    }
   ],
   "source": [
    "print(para)"
   ]
  },
  {
   "cell_type": "markdown",
   "metadata": {},
   "source": [
    "2.5 Tune Tuning Regularization Parameters"
   ]
  },
  {
   "cell_type": "code",
   "execution_count": 36,
   "metadata": {
    "collapsed": false
   },
   "outputs": [
    {
     "name": "stdout",
     "output_type": "stream",
     "text": [
      "Best accuracy: 0.548\n",
      "reg_alpha : 0.0001\n",
      "subsample : 0.8\n",
      "0.548\n"
     ]
    }
   ],
   "source": [
    "para=performTimeSeriesCV(X_train, y_train,X_test,y_test,\n",
    "                         XGBClassifier,{'max_depth': 11, 'gamma': 0.0, 'nthread': 4, 'learning_rate': 0.1, 'colsample_bytree': 0.8, 'min_child_weight': 5, 'scale_pos_weight': 1, 'n_estimators': 50, 'seed': 27, 'subsample': 0.8, 'objective': 'binary:logistic'},\n",
    "                        {'subsample':[0.8], 'reg_alpha':[0.0001,0.001, 0.01, 0.1, 1,10, 100]})\n",
    "\n",
    "model=XGBClassifier(**para)\n",
    "model.fit(X_train, y_train)\n",
    "y_predict=model.predict(X_test)\n",
    "print(accuracy_score(y_test,y_predict))"
   ]
  },
  {
   "cell_type": "code",
   "execution_count": 34,
   "metadata": {
    "collapsed": false
   },
   "outputs": [
    {
     "name": "stdout",
     "output_type": "stream",
     "text": [
      "Best accuracy: 0.548\n",
      "reg_alpha : 1e-07\n",
      "subsample : 0.8\n",
      "0.548\n"
     ]
    }
   ],
   "source": [
    "para=performTimeSeriesCV(X_train, y_train,X_test,y_test,\n",
    "                         XGBClassifier,{'max_depth': 11, 'gamma': 0.0, 'nthread': 4, 'learning_rate': 0.1, 'colsample_bytree': 0.8, 'min_child_weight': 5, 'scale_pos_weight': 1, 'n_estimators': 50, 'seed': 27, 'subsample': 0.8, 'objective': 'binary:logistic'},\n",
    "                        {'subsample':[0.8], 'reg_alpha':[0.0001,0.00001, 0.000001, 0.0000001]})\n",
    "\n",
    "model=XGBClassifier(**para)\n",
    "model.fit(X_train, y_train)\n",
    "y_predict=model.predict(X_test)\n",
    "print(accuracy_score(y_test,y_predict))"
   ]
  },
  {
   "cell_type": "code",
   "execution_count": 37,
   "metadata": {
    "collapsed": false
   },
   "outputs": [
    {
     "name": "stdout",
     "output_type": "stream",
     "text": [
      "{'max_depth': 11, 'nthread': 4, 'learning_rate': 0.1, 'min_child_weight': 5, 'n_estimators': 50, 'seed': 27, 'scale_pos_weight': 1, 'gamma': 0.0, 'colsample_bytree': 0.8, 'reg_alpha': 0.0001, 'subsample': 0.8, 'objective': 'binary:logistic'}\n"
     ]
    }
   ],
   "source": [
    "print(para)"
   ]
  },
  {
   "cell_type": "markdown",
   "metadata": {},
   "source": [
    "2.6 Reducing Learning Rate re-calibrate the number of boosting rounds "
   ]
  },
  {
   "cell_type": "code",
   "execution_count": 38,
   "metadata": {
    "collapsed": true
   },
   "outputs": [],
   "source": [
    "para={'max_depth': 11, 'nthread': 4, 'learning_rate': 0.001, 'min_child_weight': 5, 'n_estimators': 50, 'seed': 27, 'scale_pos_weight': 1, 'gamma': 0.0, 'colsample_bytree': 0.8, 'reg_alpha': 0.0001, 'subsample': 0.8, 'objective': 'binary:logistic'}"
   ]
  },
  {
   "cell_type": "code",
   "execution_count": 39,
   "metadata": {
    "collapsed": false
   },
   "outputs": [
    {
     "name": "stdout",
     "output_type": "stream",
     "text": [
      "50\n"
     ]
    }
   ],
   "source": [
    "xgb1 = XGBClassifier(**para)\n",
    "modelfit(xgb1,X_train, y_train)"
   ]
  },
  {
   "cell_type": "code",
   "execution_count": 41,
   "metadata": {
    "collapsed": false
   },
   "outputs": [
    {
     "name": "stdout",
     "output_type": "stream",
     "text": [
      "Best accuracy: 0.548\n",
      "n_estimators : 50\n",
      "learning_rate : 0.1\n",
      "0.548\n"
     ]
    }
   ],
   "source": [
    "para=performTimeSeriesCV(X_train, y_train,X_test,y_test,\n",
    "                         XGBClassifier,{'max_depth': 11, 'nthread': 4, 'learning_rate': 0.1, 'min_child_weight': 5, 'n_estimators': 50, 'seed': 27, 'scale_pos_weight': 1, 'gamma': 0.0, 'colsample_bytree': 0.8, 'reg_alpha': 0.0001, 'subsample': 0.8, 'objective': 'binary:logistic'},\n",
    "                        {'learning_rate':[0.1,0.01,0.001], 'n_estimators':[50,100,300,500,700,1000,1500,2000]})\n",
    "\n",
    "model=XGBClassifier(**para)\n",
    "model.fit(X_train, y_train)\n",
    "y_predict=model.predict(X_test)\n",
    "print(accuracy_score(y_test,y_predict))"
   ]
  },
  {
   "cell_type": "code",
   "execution_count": 42,
   "metadata": {
    "collapsed": false
   },
   "outputs": [
    {
     "name": "stdout",
     "output_type": "stream",
     "text": [
      "Best accuracy: 0.548\n",
      "n_estimators : 50\n",
      "learning_rate : 0.1\n",
      "0.548\n"
     ]
    }
   ],
   "source": [
    "para=performTimeSeriesCV(X_train, y_train,X_test,y_test,\n",
    "                         XGBClassifier,{'max_depth': 11, 'nthread': 4, 'learning_rate': 0.1, 'min_child_weight': 5, 'n_estimators': 50, 'seed': 27, 'scale_pos_weight': 1, 'gamma': 0.0, 'colsample_bytree': 0.8, 'reg_alpha': 0.0001, 'subsample': 0.8, 'objective': 'binary:logistic'},\n",
    "                        {'learning_rate':[0.1,0.2,0.3,0.4,0.5,0.6,0.7,0.8,0.9], 'n_estimators':[30,50,70,100]})\n",
    "\n",
    "model=XGBClassifier(**para)\n",
    "model.fit(X_train, y_train)\n",
    "y_predict=model.predict(X_test)\n",
    "print(accuracy_score(y_test,y_predict))"
   ]
  },
  {
   "cell_type": "code",
   "execution_count": null,
   "metadata": {
    "collapsed": true
   },
   "outputs": [],
   "source": []
  }
 ],
 "metadata": {
  "kernelspec": {
   "display_name": "Python [conda root]",
   "language": "python",
   "name": "conda-root-py"
  },
  "language_info": {
   "codemirror_mode": {
    "name": "ipython",
    "version": 3
   },
   "file_extension": ".py",
   "mimetype": "text/x-python",
   "name": "python",
   "nbconvert_exporter": "python",
   "pygments_lexer": "ipython3",
   "version": "3.5.2"
  }
 },
 "nbformat": 4,
 "nbformat_minor": 1
}
