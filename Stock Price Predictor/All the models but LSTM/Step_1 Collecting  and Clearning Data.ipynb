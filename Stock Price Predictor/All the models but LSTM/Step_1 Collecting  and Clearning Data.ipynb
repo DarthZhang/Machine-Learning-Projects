{
 "cells": [
  {
   "cell_type": "code",
   "execution_count": 66,
   "metadata": {
    "collapsed": false
   },
   "outputs": [],
   "source": [
    "from scipy.stats import skew\n",
    "from IPython.display import display\n",
    "import matplotlib.pyplot as plt\n",
    "import sys\n",
    "sys.path.append('/Users/yanhuan/anaconda/pkgs/seaborn-0.7.1-py27_0/lib/python2.7/site-packages')\n",
    "import seaborn as sns\n",
    "import numpy as np\n",
    "import pandas as pd\n",
    "\n",
    "# getting data\n",
    "SP500=pd.read_csv('S&P500 1997-6-30 2017-6-27.csv')\n",
    "Nasdaq=pd.read_csv('Nasdaq 1997-6-30 2017-6-27.csv')\n",
    "DJI=pd.read_csv('Dow Jones Industrial Average (^DJI) 1997-6-30 2017-6-27.csv')\n",
    "DAX=pd.read_csv('Frankfurt DAX 1997-6-30 2017-6-27.csv')\n",
    "Paris=pd.read_csv('Paris CAC40 1997-6-30 2017-6-27.csv')\n",
    "Tokyo=pd.read_csv('Tokyo Nikkei-225 1997-6-30 2017-6-27.csv')\n",
    "HongKong=pd.read_csv('Hong Kong Hang Seng 1997-6-30 2017-6-27.csv')\n",
    "Aus=pd.read_csv('Australia ASX-200 1997-6-30 2017-6-27.csv')"
   ]
  },
  {
   "cell_type": "markdown",
   "metadata": {},
   "source": [
    "fill the missing data by using \"ffill\""
   ]
  },
  {
   "cell_type": "code",
   "execution_count": 67,
   "metadata": {
    "collapsed": false
   },
   "outputs": [],
   "source": [
    "SP500.fillna(method='ffill',inplace=True)\n",
    "Nasdaq.fillna(method='ffill',inplace=True)\n",
    "DJI.fillna(method='ffill',inplace=True)\n",
    "DAX.fillna(method='ffill',inplace=True)\n",
    "Paris.fillna(method='ffill',inplace=True)\n",
    "Tokyo.fillna(method='ffill',inplace=True)\n",
    "HongKong.fillna(method='ffill',inplace=True)\n",
    "Aus.fillna(method='ffill',inplace=True)\n"
   ]
  },
  {
   "cell_type": "code",
   "execution_count": 68,
   "metadata": {
    "collapsed": false
   },
   "outputs": [],
   "source": [
    "SP500.index = SP500['Date'].tolist()\n",
    "#SP500=SP500.drop('Date', axis = 1)\n",
    "\n",
    "Nasdaq.index = Nasdaq['Date'].tolist()\n",
    "#Nasdaq=Nasdaq.drop('Date', axis = 1)\n",
    "\n",
    "DJI.index = DJI['Date'].tolist()\n",
    "#DJI=DJI.drop('Date', axis = 1)\n",
    "\n",
    "DAX.index = DAX['Date'].tolist()\n",
    "#DAX=DAX.drop('Date', axis = 1)\n",
    "\n",
    "Paris.index = Paris['Date'].tolist()\n",
    "#Paris=Paris.drop('Date', axis = 1)\n",
    "\n",
    "Tokyo.index = Tokyo['Date'].tolist()\n",
    "#Tokyo=Tokyo.drop('Date', axis = 1)\n",
    "\n",
    "HongKong.index = HongKong['Date'].tolist()\n",
    "#HongKong=HongKong.drop('Date', axis = 1)\n",
    "\n",
    "Aus.index = Aus['Date'].tolist()\n",
    "#Aus=Aus.drop('Date', axis = 1)"
   ]
  },
  {
   "cell_type": "markdown",
   "metadata": {},
   "source": [
    "Make this function to unify all the features of 8 stock prices.E.g,as I will start by  train model foe SP500,I use the feature of SP500 as the benchmark.Specifically，if SP500 missing data at one date then for the other 7 stocks delete this date's data,on the other hand,if other stock miss data at one data but SP500 has then fill the data by using \"ffill\" ."
   ]
  },
  {
   "cell_type": "code",
   "execution_count": 69,
   "metadata": {
    "collapsed": false
   },
   "outputs": [],
   "source": [
    "def Unify(SP500,other):\n",
    "    'unify other datasets with sp500 '\n",
    "    #extra=[]\n",
    "    df=pd.DataFrame(columns=['Date','Open','High','Low','Close','Adj Close','Volume'])\n",
    "    for i in range(len(SP500)):\n",
    "        flag=0\n",
    "        for j in range(len(other)):\n",
    "            if SP500.index[i]==other.index[j]:\n",
    "                df=df.append(other.iloc[j])\n",
    "                flag=1\n",
    "                break\n",
    "        if flag==0:\n",
    "            if not len(df)==0:\n",
    "                df=df.append(SP500.iloc[i])\n",
    "                df.set_value(df.index[-1],df.columns[1],df.iloc[-2][1])\n",
    "                df.set_value(df.index[-1],df.columns[2],df.iloc[-2][2])\n",
    "                df.set_value(df.index[-1],df.columns[3],df.iloc[-2][3])\n",
    "                df.set_value(df.index[-1],df.columns[4],df.iloc[-2][4])\n",
    "                df.set_value(df.index[-1],df.columns[5],df.iloc[-2][5])\n",
    "                df.set_value(df.index[-1],df.columns[6],df.iloc[-2][6])\n",
    "            else:\n",
    "                df=df.append(SP500.iloc[i])\n",
    "                df.set_value(df.index[-1],df.columns[1],other.iloc[0][1])\n",
    "                df.set_value(df.index[-1],df.columns[2],other.iloc[0][2])\n",
    "                df.set_value(df.index[-1],df.columns[3],other.iloc[0][3])\n",
    "                df.set_value(df.index[-1],df.columns[4],other.iloc[0][4])\n",
    "                df.set_value(df.index[-1],df.columns[5],other.iloc[0][5])\n",
    "                df.set_value(df.index[-1],df.columns[6],other.iloc[0][6])\n",
    "    #SP500.drop(SP500.index[extra],inplace=True)\n",
    "    return df"
   ]
  },
  {
   "cell_type": "code",
   "execution_count": 70,
   "metadata": {
    "collapsed": true
   },
   "outputs": [],
   "source": [
    "def CheckIndentity(SP500,other):\n",
    "    'check the indentity between other datasets and sp500'\n",
    "    for i in range(len(SP500)):\n",
    "        if SP500.index[i]==other.index[i]:\n",
    "            pass\n",
    "        else:\n",
    "            print(i)\n",
    "            print(SP500.index[i])\n",
    "            print(other.index[i])   "
   ]
  },
  {
   "cell_type": "code",
   "execution_count": 71,
   "metadata": {
    "collapsed": false
   },
   "outputs": [
    {
     "name": "stdout",
     "output_type": "stream",
     "text": [
      "<class 'pandas.core.frame.DataFrame'>\n",
      "Index: 5032 entries, 6-30-97 to 6-27-17\n",
      "Data columns (total 7 columns):\n",
      "Date         5032 non-null object\n",
      "Open         5032 non-null float64\n",
      "High         5032 non-null float64\n",
      "Low          5032 non-null float64\n",
      "Close        5032 non-null float64\n",
      "Adj Close    5032 non-null float64\n",
      "Volume       5032 non-null object\n",
      "dtypes: float64(5), object(2)\n",
      "memory usage: 314.5+ KB\n",
      "<class 'pandas.core.frame.DataFrame'>\n",
      "Index: 5032 entries, 6-30-97 to 6-27-17\n",
      "Data columns (total 7 columns):\n",
      "Date         5032 non-null object\n",
      "Open         5032 non-null float64\n",
      "High         5032 non-null float64\n",
      "Low          5032 non-null float64\n",
      "Close        5032 non-null float64\n",
      "Adj Close    5032 non-null float64\n",
      "Volume       5032 non-null int64\n",
      "dtypes: float64(5), int64(1), object(1)\n",
      "memory usage: 314.5+ KB\n"
     ]
    }
   ],
   "source": [
    "Nasdaq=Unify(SP500,Nasdaq)\n",
    "CheckIndentity(SP500,Nasdaq)\n",
    "Nasdaq.info()\n",
    "SP500.info()"
   ]
  },
  {
   "cell_type": "code",
   "execution_count": 72,
   "metadata": {
    "collapsed": false
   },
   "outputs": [
    {
     "name": "stdout",
     "output_type": "stream",
     "text": [
      "<class 'pandas.core.frame.DataFrame'>\n",
      "Index: 5032 entries, 6-30-97 to 6-27-17\n",
      "Data columns (total 7 columns):\n",
      "Date         5032 non-null object\n",
      "Open         5032 non-null float64\n",
      "High         5032 non-null float64\n",
      "Low          5032 non-null float64\n",
      "Close        5032 non-null float64\n",
      "Adj Close    5032 non-null float64\n",
      "Volume       5032 non-null object\n",
      "dtypes: float64(5), object(2)\n",
      "memory usage: 314.5+ KB\n",
      "<class 'pandas.core.frame.DataFrame'>\n",
      "Index: 5032 entries, 6-30-97 to 6-27-17\n",
      "Data columns (total 7 columns):\n",
      "Date         5032 non-null object\n",
      "Open         5032 non-null float64\n",
      "High         5032 non-null float64\n",
      "Low          5032 non-null float64\n",
      "Close        5032 non-null float64\n",
      "Adj Close    5032 non-null float64\n",
      "Volume       5032 non-null int64\n",
      "dtypes: float64(5), int64(1), object(1)\n",
      "memory usage: 314.5+ KB\n"
     ]
    }
   ],
   "source": [
    "DJI=Unify(SP500,DJI)\n",
    "CheckIndentity(SP500,DJI)\n",
    "DJI.info()\n",
    "SP500.info()"
   ]
  },
  {
   "cell_type": "code",
   "execution_count": 73,
   "metadata": {
    "collapsed": false
   },
   "outputs": [
    {
     "name": "stdout",
     "output_type": "stream",
     "text": [
      "<class 'pandas.core.frame.DataFrame'>\n",
      "Index: 5032 entries, 6-30-97 to 6-27-17\n",
      "Data columns (total 7 columns):\n",
      "Date         5032 non-null object\n",
      "Open         5032 non-null float64\n",
      "High         5032 non-null float64\n",
      "Low          5032 non-null float64\n",
      "Close        5032 non-null float64\n",
      "Adj Close    5032 non-null float64\n",
      "Volume       5032 non-null float64\n",
      "dtypes: float64(6), object(1)\n",
      "memory usage: 314.5+ KB\n",
      "<class 'pandas.core.frame.DataFrame'>\n",
      "Index: 5032 entries, 6-30-97 to 6-27-17\n",
      "Data columns (total 7 columns):\n",
      "Date         5032 non-null object\n",
      "Open         5032 non-null float64\n",
      "High         5032 non-null float64\n",
      "Low          5032 non-null float64\n",
      "Close        5032 non-null float64\n",
      "Adj Close    5032 non-null float64\n",
      "Volume       5032 non-null int64\n",
      "dtypes: float64(5), int64(1), object(1)\n",
      "memory usage: 314.5+ KB\n"
     ]
    }
   ],
   "source": [
    "DAX=Unify(SP500,DAX)\n",
    "CheckIndentity(SP500,DAX)\n",
    "DAX.info()\n",
    "SP500.info()"
   ]
  },
  {
   "cell_type": "code",
   "execution_count": 74,
   "metadata": {
    "collapsed": false
   },
   "outputs": [
    {
     "name": "stdout",
     "output_type": "stream",
     "text": [
      "<class 'pandas.core.frame.DataFrame'>\n",
      "Index: 5032 entries, 6-30-97 to 6-27-17\n",
      "Data columns (total 7 columns):\n",
      "Date         5032 non-null object\n",
      "Open         5032 non-null float64\n",
      "High         5032 non-null float64\n",
      "Low          5032 non-null float64\n",
      "Close        5032 non-null float64\n",
      "Adj Close    5032 non-null float64\n",
      "Volume       5032 non-null float64\n",
      "dtypes: float64(6), object(1)\n",
      "memory usage: 314.5+ KB\n",
      "<class 'pandas.core.frame.DataFrame'>\n",
      "Index: 5032 entries, 6-30-97 to 6-27-17\n",
      "Data columns (total 7 columns):\n",
      "Date         5032 non-null object\n",
      "Open         5032 non-null float64\n",
      "High         5032 non-null float64\n",
      "Low          5032 non-null float64\n",
      "Close        5032 non-null float64\n",
      "Adj Close    5032 non-null float64\n",
      "Volume       5032 non-null int64\n",
      "dtypes: float64(5), int64(1), object(1)\n",
      "memory usage: 314.5+ KB\n"
     ]
    }
   ],
   "source": [
    "Paris=Unify(SP500,Paris)\n",
    "CheckIndentity(SP500,Paris)\n",
    "Paris.info()\n",
    "SP500.info()"
   ]
  },
  {
   "cell_type": "code",
   "execution_count": 75,
   "metadata": {
    "collapsed": false
   },
   "outputs": [
    {
     "name": "stdout",
     "output_type": "stream",
     "text": [
      "<class 'pandas.core.frame.DataFrame'>\n",
      "Index: 5032 entries, 6-30-97 to 6-27-17\n",
      "Data columns (total 7 columns):\n",
      "Date         5032 non-null object\n",
      "Open         5032 non-null float64\n",
      "High         5032 non-null float64\n",
      "Low          5032 non-null float64\n",
      "Close        5032 non-null float64\n",
      "Adj Close    5032 non-null float64\n",
      "Volume       5032 non-null float64\n",
      "dtypes: float64(6), object(1)\n",
      "memory usage: 474.5+ KB\n",
      "<class 'pandas.core.frame.DataFrame'>\n",
      "Index: 5032 entries, 6-30-97 to 6-27-17\n",
      "Data columns (total 7 columns):\n",
      "Date         5032 non-null object\n",
      "Open         5032 non-null float64\n",
      "High         5032 non-null float64\n",
      "Low          5032 non-null float64\n",
      "Close        5032 non-null float64\n",
      "Adj Close    5032 non-null float64\n",
      "Volume       5032 non-null int64\n",
      "dtypes: float64(5), int64(1), object(1)\n",
      "memory usage: 314.5+ KB\n"
     ]
    }
   ],
   "source": [
    "Tokyo=Unify(SP500,Tokyo)\n",
    "CheckIndentity(SP500,Tokyo)\n",
    "Tokyo.info()\n",
    "SP500.info()"
   ]
  },
  {
   "cell_type": "code",
   "execution_count": 76,
   "metadata": {
    "collapsed": false
   },
   "outputs": [
    {
     "name": "stdout",
     "output_type": "stream",
     "text": [
      "<class 'pandas.core.frame.DataFrame'>\n",
      "Index: 5032 entries, 6-30-97 to 6-27-17\n",
      "Data columns (total 7 columns):\n",
      "Date         5032 non-null object\n",
      "Open         5032 non-null float64\n",
      "High         5032 non-null float64\n",
      "Low          5032 non-null float64\n",
      "Close        5032 non-null float64\n",
      "Adj Close    5032 non-null float64\n",
      "Volume       5032 non-null object\n",
      "dtypes: float64(5), object(2)\n",
      "memory usage: 314.5+ KB\n",
      "<class 'pandas.core.frame.DataFrame'>\n",
      "Index: 5032 entries, 6-30-97 to 6-27-17\n",
      "Data columns (total 7 columns):\n",
      "Date         5032 non-null object\n",
      "Open         5032 non-null float64\n",
      "High         5032 non-null float64\n",
      "Low          5032 non-null float64\n",
      "Close        5032 non-null float64\n",
      "Adj Close    5032 non-null float64\n",
      "Volume       5032 non-null int64\n",
      "dtypes: float64(5), int64(1), object(1)\n",
      "memory usage: 314.5+ KB\n"
     ]
    }
   ],
   "source": [
    "HongKong=Unify(SP500,HongKong)\n",
    "CheckIndentity(SP500,HongKong)\n",
    "HongKong.info()\n",
    "SP500.info()"
   ]
  },
  {
   "cell_type": "code",
   "execution_count": 77,
   "metadata": {
    "collapsed": false
   },
   "outputs": [
    {
     "name": "stdout",
     "output_type": "stream",
     "text": [
      "<class 'pandas.core.frame.DataFrame'>\n",
      "Index: 5032 entries, 6-30-97 to 6-27-17\n",
      "Data columns (total 7 columns):\n",
      "Date         5032 non-null object\n",
      "Open         5032 non-null float64\n",
      "High         5032 non-null float64\n",
      "Low          5032 non-null float64\n",
      "Close        5032 non-null float64\n",
      "Adj Close    5032 non-null float64\n",
      "Volume       5032 non-null float64\n",
      "dtypes: float64(6), object(1)\n",
      "memory usage: 474.5+ KB\n",
      "<class 'pandas.core.frame.DataFrame'>\n",
      "Index: 5032 entries, 6-30-97 to 6-27-17\n",
      "Data columns (total 7 columns):\n",
      "Date         5032 non-null object\n",
      "Open         5032 non-null float64\n",
      "High         5032 non-null float64\n",
      "Low          5032 non-null float64\n",
      "Close        5032 non-null float64\n",
      "Adj Close    5032 non-null float64\n",
      "Volume       5032 non-null int64\n",
      "dtypes: float64(5), int64(1), object(1)\n",
      "memory usage: 314.5+ KB\n"
     ]
    }
   ],
   "source": [
    "Aus=Unify(SP500,Aus)\n",
    "CheckIndentity(SP500,Aus)\n",
    "Aus.info()\n",
    "SP500.info()"
   ]
  },
  {
   "cell_type": "code",
   "execution_count": 78,
   "metadata": {
    "collapsed": false
   },
   "outputs": [],
   "source": [
    "SP500.to_csv('SP500_new.csv', index=False)\n",
    "Nasdaq.to_csv('Nasdaq_new.csv', index=False)\n",
    "DJI.to_csv('DJI_new.csv', index=False)\n",
    "DAX.to_csv('DAX_new.csv', index=False)\n",
    "Paris.to_csv('Paris_new.csv', index=False)\n",
    "Tokyo.to_csv('Tokyo_new.csv', index=False)\n",
    "HongKong.to_csv('HongKong_new.csv', index=False)\n",
    "Aus.to_csv('Aus_new.csv', index=False)"
   ]
  },
  {
   "cell_type": "code",
   "execution_count": null,
   "metadata": {
    "collapsed": true
   },
   "outputs": [],
   "source": []
  }
 ],
 "metadata": {
  "anaconda-cloud": {},
  "kernelspec": {
   "display_name": "Python [conda env:tensorflow]",
   "language": "python",
   "name": "conda-env-tensorflow-py"
  },
  "language_info": {
   "codemirror_mode": {
    "name": "ipython",
    "version": 3
   },
   "file_extension": ".py",
   "mimetype": "text/x-python",
   "name": "python",
   "nbconvert_exporter": "python",
   "pygments_lexer": "ipython3",
   "version": "3.5.3"
  }
 },
 "nbformat": 4,
 "nbformat_minor": 2
}
